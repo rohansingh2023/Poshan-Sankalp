{
 "cells": [
  {
   "cell_type": "code",
   "execution_count": 1,
   "id": "5c21b0c1-7f80-4585-8bef-ea8f3877fae8",
   "metadata": {},
   "outputs": [],
   "source": [
    "import pandas as pd"
   ]
  },
  {
   "cell_type": "code",
   "execution_count": 2,
   "id": "d483c87e-2090-4ecb-9268-571feccf0b7d",
   "metadata": {},
   "outputs": [],
   "source": [
    "df = pd.read_csv('IAKR7EFL_1.csv')"
   ]
  },
  {
   "cell_type": "code",
   "execution_count": 3,
   "id": "3dc3a68f-27c8-4d3f-b5fe-a3b313c28d1c",
   "metadata": {},
   "outputs": [],
   "source": [
    "weights = {\n",
    "    'Gave child tinned, powdered or fresh milk ': 3,\n",
    "    'Gave child baby formula': 2,\n",
    "    'Gave child fortified baby food (cerelac, etc)': 4,\n",
    "    'Gave child soup/clear broth': 2,\n",
    "    'Gave child other liquid': 1,\n",
    "    'Gave child CS foods': 1,\n",
    "    'Gave child bread, noodles, other made from grain': 2,\n",
    "    'Gave child potatoes, cassava, or other tubers': 2,\n",
    "    'Gave child eggs': 4,\n",
    "    'ave child pumpkin, carrots, squash': 3,\n",
    "    'Gave child any dark green leafy vegetables': 4,\n",
    "    'Gave child mangoes, papayas, other vitamin A fruits': 3,\n",
    "    'Gave child any other fruits': 3,\n",
    "    'Gave child liver, heart, other organs': 3,\n",
    "    'Gave child fish or shellfish': 5,\n",
    "    'Gave child food made from beans, peas, lentils': 4,\n",
    "    'Gave child cheese, yogurt, other milk products': 4,\n",
    "    'Gave child other solid-semisolid food': 2,\n",
    "    'Gave child CS foods.1': 1,\n",
    "    'Gave child yogurt': 3,\n",
    "    'First 3 days, given milk (other than breast milk)': 2,\n",
    "    'First 3 days, given plain water': 1,\n",
    "    'First 3 days, given sugar/glucose water': 1,\n",
    "    'First 3 days, given gripe water': 1,\n",
    "    'First 3 days, given sugar/salt solution': 1,\n",
    "    'First 3 days, given fruit juice': 1,\n",
    "    'First 3 days, given infant formula': 2,\n",
    "    'First 3 days, given tea/infusions': 1,\n",
    "    'First 3 days, given honey': 1,\n",
    "    'First 3 days, given country specific': 1,\n",
    "    'Gave child plain water':1,\n",
    "    'Gave child juice':1,\n",
    "    \n",
    "}"
   ]
  },
  {
   "cell_type": "code",
   "execution_count": 4,
   "id": "f988d7ee-73b0-45db-a731-d0ceb45386b6",
   "metadata": {},
   "outputs": [],
   "source": [
    "df['Dietary Index'] = 0"
   ]
  },
  {
   "cell_type": "code",
   "execution_count": 5,
   "id": "86ed2212-acb4-42bc-a7e6-a170bca4ac17",
   "metadata": {},
   "outputs": [],
   "source": [
    "for column, weight in weights.items():\n",
    "    df['Dietary Index'] += df[column] * weight"
   ]
  },
  {
   "cell_type": "code",
   "execution_count": 6,
   "id": "69847684-2cae-4cb4-8bb8-52e5f91a8000",
   "metadata": {},
   "outputs": [],
   "source": [
    "# Normalized the dietary index to a common scale\n",
    "df['Dietary Index'] = (df['Dietary Index'] / df['Dietary Index'].max()) * 100"
   ]
  },
  {
   "cell_type": "code",
   "execution_count": 7,
   "id": "9279d034-afd7-4c24-a1cf-ea6eb706907c",
   "metadata": {},
   "outputs": [],
   "source": [
    "columns_to_drop = list(weights.keys())\n",
    "df.drop(columns=columns_to_drop, inplace=True)"
   ]
  },
  {
   "cell_type": "code",
   "execution_count": 8,
   "id": "12fd3133-7ea0-4666-98a7-94331e5d303d",
   "metadata": {},
   "outputs": [],
   "source": [
    "drop_columns=['Mother\\'s Height/Age percent ref. median','Sex of household head','Marriage to first birth interval','Number of living children',\n",
    "       'Mother\\'s Weight/Height percent ref. median(DHS)','Weight at birth/recall','Number of children 5 and under in household',                          \n",
    "       'Mother\\'s Weight/Height percent ref. median(Fog)','Childs\\'s Result of measurement - height/weight','Mother\\'s Rohrers index',\n",
    "       'Childs\\'s Height/Age standard deviation (new WHO)','Childs\\'s Height/Age percent of ref. median','When child put to breast',\n",
    "       'Childs\\'s Weight/Age percentile','Childs\\'s Height/Age percentile','Mother\\'s age in years','Father\\'s age', \n",
    "       'Childs\\'s Weight/Age standard deviation (new WHO)','Father\\'s education level','Entries in immunization roster','Entries in child health roster','Entries in height/weight roster',\n",
    "       'Childs\\'s Weight/Height standard deviation (new WHO)','Times gave child powdered/tinned/fresh milk',\n",
    "       'Mother Times gave child powdered/tinned/fresh milk','Childs\\'s Weight/Age percent of ref. median','Mother\\'s Height/Age standard deviation',           \n",
    "                              \n",
    "       'Mother\\'s Weight/Height percent ref. median (WHO)','Mother\\'s Height/Age percentile',\n",
    "       'Mother\\'s Height/Age percent ref. median', 'Wealth index combined', 'Childs\\'s Weight/Height percent of ref. median',\n",
    "       'Wealth index for urban/rural','Mother\\'s Weight/Height standard deviation (DHS)','Mother\\'s Result of measurement - height/weight','Childs\\'s Weight/Height percentile']\n",
    "\n",
    "df.drop(columns=drop_columns,inplace=True)"
   ]
  },
  {
   "cell_type": "code",
   "execution_count": 9,
   "id": "1d9d35bc-5b68-41f8-abfb-3f980c5c4fe5",
   "metadata": {},
   "outputs": [
    {
     "data": {
      "text/html": [
       "<div>\n",
       "<style scoped>\n",
       "    .dataframe tbody tr th:only-of-type {\n",
       "        vertical-align: middle;\n",
       "    }\n",
       "\n",
       "    .dataframe tbody tr th {\n",
       "        vertical-align: top;\n",
       "    }\n",
       "\n",
       "    .dataframe thead th {\n",
       "        text-align: right;\n",
       "    }\n",
       "</style>\n",
       "<table border=\"1\" class=\"dataframe\">\n",
       "  <thead>\n",
       "    <tr style=\"text-align: right;\">\n",
       "      <th></th>\n",
       "      <th>Type of place of residence</th>\n",
       "      <th>Source of drinking water</th>\n",
       "      <th>Number of household members</th>\n",
       "      <th>Toilet facilities shared with other households</th>\n",
       "      <th>Wealth index factor score combined</th>\n",
       "      <th>Wealth index factor score for urban/rural</th>\n",
       "      <th>Currently breastfeeding</th>\n",
       "      <th>Mother's weight in kilograms</th>\n",
       "      <th>Mother's height in centimeters</th>\n",
       "      <th>Mother's BMI</th>\n",
       "      <th>...</th>\n",
       "      <th>Birth weight in kilograms</th>\n",
       "      <th>Given child anything other than breast milk</th>\n",
       "      <th>Childs's age in months</th>\n",
       "      <th>Childs's weight in kilograms</th>\n",
       "      <th>Childs's height in centimeters</th>\n",
       "      <th>Child's Height/Age standard deviation</th>\n",
       "      <th>Childs's Weight/Age standard deviation</th>\n",
       "      <th>Childs's Weight/Height standard deviation</th>\n",
       "      <th>Childs's BMI standard deviation (new WHO)</th>\n",
       "      <th>Dietary Index</th>\n",
       "    </tr>\n",
       "  </thead>\n",
       "  <tbody>\n",
       "    <tr>\n",
       "      <th>0</th>\n",
       "      <td>2</td>\n",
       "      <td>14</td>\n",
       "      <td>6</td>\n",
       "      <td>0.000000</td>\n",
       "      <td>484230</td>\n",
       "      <td>833130</td>\n",
       "      <td>0</td>\n",
       "      <td>760.0</td>\n",
       "      <td>1614.0</td>\n",
       "      <td>2919.0</td>\n",
       "      <td>...</td>\n",
       "      <td>3000</td>\n",
       "      <td>0.000000</td>\n",
       "      <td>51.000000</td>\n",
       "      <td>131.000000</td>\n",
       "      <td>1283.000000</td>\n",
       "      <td>9998.000000</td>\n",
       "      <td>9998.000000</td>\n",
       "      <td>9998.000000</td>\n",
       "      <td>9998.000000</td>\n",
       "      <td>2.277475</td>\n",
       "    </tr>\n",
       "    <tr>\n",
       "      <th>1</th>\n",
       "      <td>2</td>\n",
       "      <td>12</td>\n",
       "      <td>6</td>\n",
       "      <td>0.000000</td>\n",
       "      <td>-881310</td>\n",
       "      <td>-667160</td>\n",
       "      <td>1</td>\n",
       "      <td>438.0</td>\n",
       "      <td>1406.0</td>\n",
       "      <td>2213.0</td>\n",
       "      <td>...</td>\n",
       "      <td>2400</td>\n",
       "      <td>0.000000</td>\n",
       "      <td>12.000000</td>\n",
       "      <td>111.000000</td>\n",
       "      <td>900.000000</td>\n",
       "      <td>509.000000</td>\n",
       "      <td>122.000000</td>\n",
       "      <td>-161.000000</td>\n",
       "      <td>-206.000000</td>\n",
       "      <td>3.445295</td>\n",
       "    </tr>\n",
       "    <tr>\n",
       "      <th>2</th>\n",
       "      <td>2</td>\n",
       "      <td>12</td>\n",
       "      <td>3</td>\n",
       "      <td>1.000000</td>\n",
       "      <td>-1315280</td>\n",
       "      <td>-1143950</td>\n",
       "      <td>1</td>\n",
       "      <td>753.0</td>\n",
       "      <td>1573.0</td>\n",
       "      <td>3041.0</td>\n",
       "      <td>...</td>\n",
       "      <td>9996</td>\n",
       "      <td>0.000000</td>\n",
       "      <td>25.000000</td>\n",
       "      <td>145.000000</td>\n",
       "      <td>1027.000000</td>\n",
       "      <td>497.000000</td>\n",
       "      <td>149.000000</td>\n",
       "      <td>-116.000000</td>\n",
       "      <td>-162.000000</td>\n",
       "      <td>2.277475</td>\n",
       "    </tr>\n",
       "    <tr>\n",
       "      <th>3</th>\n",
       "      <td>2</td>\n",
       "      <td>12</td>\n",
       "      <td>5</td>\n",
       "      <td>0.000000</td>\n",
       "      <td>-73821</td>\n",
       "      <td>220010</td>\n",
       "      <td>1</td>\n",
       "      <td>655.0</td>\n",
       "      <td>1597.0</td>\n",
       "      <td>2566.0</td>\n",
       "      <td>...</td>\n",
       "      <td>3000</td>\n",
       "      <td>0.000000</td>\n",
       "      <td>13.000000</td>\n",
       "      <td>78.000000</td>\n",
       "      <td>893.000000</td>\n",
       "      <td>9998.000000</td>\n",
       "      <td>9998.000000</td>\n",
       "      <td>9998.000000</td>\n",
       "      <td>9998.000000</td>\n",
       "      <td>3.014633</td>\n",
       "    </tr>\n",
       "    <tr>\n",
       "      <th>4</th>\n",
       "      <td>2</td>\n",
       "      <td>12</td>\n",
       "      <td>4</td>\n",
       "      <td>0.000000</td>\n",
       "      <td>-142061</td>\n",
       "      <td>145040</td>\n",
       "      <td>1</td>\n",
       "      <td>605.0</td>\n",
       "      <td>1073.0</td>\n",
       "      <td>5255.0</td>\n",
       "      <td>...</td>\n",
       "      <td>2200</td>\n",
       "      <td>0.000000</td>\n",
       "      <td>39.000000</td>\n",
       "      <td>127.000000</td>\n",
       "      <td>1097.000000</td>\n",
       "      <td>9998.000000</td>\n",
       "      <td>9998.000000</td>\n",
       "      <td>9998.000000</td>\n",
       "      <td>-480.000000</td>\n",
       "      <td>2.277475</td>\n",
       "    </tr>\n",
       "    <tr>\n",
       "      <th>...</th>\n",
       "      <td>...</td>\n",
       "      <td>...</td>\n",
       "      <td>...</td>\n",
       "      <td>...</td>\n",
       "      <td>...</td>\n",
       "      <td>...</td>\n",
       "      <td>...</td>\n",
       "      <td>...</td>\n",
       "      <td>...</td>\n",
       "      <td>...</td>\n",
       "      <td>...</td>\n",
       "      <td>...</td>\n",
       "      <td>...</td>\n",
       "      <td>...</td>\n",
       "      <td>...</td>\n",
       "      <td>...</td>\n",
       "      <td>...</td>\n",
       "      <td>...</td>\n",
       "      <td>...</td>\n",
       "      <td>...</td>\n",
       "      <td>...</td>\n",
       "    </tr>\n",
       "    <tr>\n",
       "      <th>31266</th>\n",
       "      <td>2</td>\n",
       "      <td>21</td>\n",
       "      <td>6</td>\n",
       "      <td>0.414227</td>\n",
       "      <td>-977970</td>\n",
       "      <td>-773360</td>\n",
       "      <td>1</td>\n",
       "      <td>370.0</td>\n",
       "      <td>1491.0</td>\n",
       "      <td>1662.0</td>\n",
       "      <td>...</td>\n",
       "      <td>2000</td>\n",
       "      <td>0.000000</td>\n",
       "      <td>14.000000</td>\n",
       "      <td>58.000000</td>\n",
       "      <td>676.000000</td>\n",
       "      <td>-317.000000</td>\n",
       "      <td>-388.000000</td>\n",
       "      <td>-252.000000</td>\n",
       "      <td>-286.000000</td>\n",
       "      <td>1.722647</td>\n",
       "    </tr>\n",
       "    <tr>\n",
       "      <th>31267</th>\n",
       "      <td>2</td>\n",
       "      <td>21</td>\n",
       "      <td>6</td>\n",
       "      <td>0.414227</td>\n",
       "      <td>-977970</td>\n",
       "      <td>-773360</td>\n",
       "      <td>1</td>\n",
       "      <td>370.0</td>\n",
       "      <td>1491.0</td>\n",
       "      <td>1662.0</td>\n",
       "      <td>...</td>\n",
       "      <td>2500</td>\n",
       "      <td>0.206997</td>\n",
       "      <td>27.000000</td>\n",
       "      <td>99.000000</td>\n",
       "      <td>791.000000</td>\n",
       "      <td>-280.000000</td>\n",
       "      <td>-245.000000</td>\n",
       "      <td>-89.000000</td>\n",
       "      <td>-4.000000</td>\n",
       "      <td>1.809098</td>\n",
       "    </tr>\n",
       "    <tr>\n",
       "      <th>31268</th>\n",
       "      <td>2</td>\n",
       "      <td>14</td>\n",
       "      <td>4</td>\n",
       "      <td>0.414227</td>\n",
       "      <td>-1165850</td>\n",
       "      <td>-979780</td>\n",
       "      <td>1</td>\n",
       "      <td>398.0</td>\n",
       "      <td>1350.0</td>\n",
       "      <td>2181.0</td>\n",
       "      <td>...</td>\n",
       "      <td>9998</td>\n",
       "      <td>0.000000</td>\n",
       "      <td>0.000000</td>\n",
       "      <td>34.000000</td>\n",
       "      <td>494.000000</td>\n",
       "      <td>-149.000000</td>\n",
       "      <td>-92.000000</td>\n",
       "      <td>27.000000</td>\n",
       "      <td>-19.000000</td>\n",
       "      <td>0.000000</td>\n",
       "    </tr>\n",
       "    <tr>\n",
       "      <th>31269</th>\n",
       "      <td>2</td>\n",
       "      <td>14</td>\n",
       "      <td>4</td>\n",
       "      <td>0.414227</td>\n",
       "      <td>-1165850</td>\n",
       "      <td>-979780</td>\n",
       "      <td>1</td>\n",
       "      <td>398.0</td>\n",
       "      <td>1350.0</td>\n",
       "      <td>2181.0</td>\n",
       "      <td>...</td>\n",
       "      <td>9998</td>\n",
       "      <td>0.206997</td>\n",
       "      <td>45.000000</td>\n",
       "      <td>104.000000</td>\n",
       "      <td>867.000000</td>\n",
       "      <td>-334.000000</td>\n",
       "      <td>-315.000000</td>\n",
       "      <td>-170.000000</td>\n",
       "      <td>-119.000000</td>\n",
       "      <td>0.086451</td>\n",
       "    </tr>\n",
       "    <tr>\n",
       "      <th>31270</th>\n",
       "      <td>2</td>\n",
       "      <td>21</td>\n",
       "      <td>13</td>\n",
       "      <td>0.414227</td>\n",
       "      <td>-889330</td>\n",
       "      <td>-675970</td>\n",
       "      <td>1</td>\n",
       "      <td>543.0</td>\n",
       "      <td>1591.0</td>\n",
       "      <td>2143.0</td>\n",
       "      <td>...</td>\n",
       "      <td>2000</td>\n",
       "      <td>0.000000</td>\n",
       "      <td>29.742578</td>\n",
       "      <td>485.888795</td>\n",
       "      <td>1202.954349</td>\n",
       "      <td>522.382697</td>\n",
       "      <td>506.386422</td>\n",
       "      <td>549.348239</td>\n",
       "      <td>332.330484</td>\n",
       "      <td>1.722647</td>\n",
       "    </tr>\n",
       "  </tbody>\n",
       "</table>\n",
       "<p>31271 rows × 30 columns</p>\n",
       "</div>"
      ],
      "text/plain": [
       "       Type of place of residence  Source of drinking water  \\\n",
       "0                               2                        14   \n",
       "1                               2                        12   \n",
       "2                               2                        12   \n",
       "3                               2                        12   \n",
       "4                               2                        12   \n",
       "...                           ...                       ...   \n",
       "31266                           2                        21   \n",
       "31267                           2                        21   \n",
       "31268                           2                        14   \n",
       "31269                           2                        14   \n",
       "31270                           2                        21   \n",
       "\n",
       "       Number of household members  \\\n",
       "0                                6   \n",
       "1                                6   \n",
       "2                                3   \n",
       "3                                5   \n",
       "4                                4   \n",
       "...                            ...   \n",
       "31266                            6   \n",
       "31267                            6   \n",
       "31268                            4   \n",
       "31269                            4   \n",
       "31270                           13   \n",
       "\n",
       "       Toilet facilities shared with other households  \\\n",
       "0                                            0.000000   \n",
       "1                                            0.000000   \n",
       "2                                            1.000000   \n",
       "3                                            0.000000   \n",
       "4                                            0.000000   \n",
       "...                                               ...   \n",
       "31266                                        0.414227   \n",
       "31267                                        0.414227   \n",
       "31268                                        0.414227   \n",
       "31269                                        0.414227   \n",
       "31270                                        0.414227   \n",
       "\n",
       "       Wealth index factor score combined  \\\n",
       "0                                  484230   \n",
       "1                                 -881310   \n",
       "2                                -1315280   \n",
       "3                                  -73821   \n",
       "4                                 -142061   \n",
       "...                                   ...   \n",
       "31266                             -977970   \n",
       "31267                             -977970   \n",
       "31268                            -1165850   \n",
       "31269                            -1165850   \n",
       "31270                             -889330   \n",
       "\n",
       "       Wealth index factor score for urban/rural  Currently breastfeeding  \\\n",
       "0                                         833130                        0   \n",
       "1                                        -667160                        1   \n",
       "2                                       -1143950                        1   \n",
       "3                                         220010                        1   \n",
       "4                                         145040                        1   \n",
       "...                                          ...                      ...   \n",
       "31266                                    -773360                        1   \n",
       "31267                                    -773360                        1   \n",
       "31268                                    -979780                        1   \n",
       "31269                                    -979780                        1   \n",
       "31270                                    -675970                        1   \n",
       "\n",
       "       Mother's weight in kilograms  Mother's height in centimeters  \\\n",
       "0                             760.0                          1614.0   \n",
       "1                             438.0                          1406.0   \n",
       "2                             753.0                          1573.0   \n",
       "3                             655.0                          1597.0   \n",
       "4                             605.0                          1073.0   \n",
       "...                             ...                             ...   \n",
       "31266                         370.0                          1491.0   \n",
       "31267                         370.0                          1491.0   \n",
       "31268                         398.0                          1350.0   \n",
       "31269                         398.0                          1350.0   \n",
       "31270                         543.0                          1591.0   \n",
       "\n",
       "       Mother's BMI  ...  Birth weight in kilograms  \\\n",
       "0            2919.0  ...                       3000   \n",
       "1            2213.0  ...                       2400   \n",
       "2            3041.0  ...                       9996   \n",
       "3            2566.0  ...                       3000   \n",
       "4            5255.0  ...                       2200   \n",
       "...             ...  ...                        ...   \n",
       "31266        1662.0  ...                       2000   \n",
       "31267        1662.0  ...                       2500   \n",
       "31268        2181.0  ...                       9998   \n",
       "31269        2181.0  ...                       9998   \n",
       "31270        2143.0  ...                       2000   \n",
       "\n",
       "       Given child anything other than breast milk  Childs's age in months  \\\n",
       "0                                         0.000000               51.000000   \n",
       "1                                         0.000000               12.000000   \n",
       "2                                         0.000000               25.000000   \n",
       "3                                         0.000000               13.000000   \n",
       "4                                         0.000000               39.000000   \n",
       "...                                            ...                     ...   \n",
       "31266                                     0.000000               14.000000   \n",
       "31267                                     0.206997               27.000000   \n",
       "31268                                     0.000000                0.000000   \n",
       "31269                                     0.206997               45.000000   \n",
       "31270                                     0.000000               29.742578   \n",
       "\n",
       "       Childs's weight in kilograms  Childs's height in centimeters  \\\n",
       "0                        131.000000                     1283.000000   \n",
       "1                        111.000000                      900.000000   \n",
       "2                        145.000000                     1027.000000   \n",
       "3                         78.000000                      893.000000   \n",
       "4                        127.000000                     1097.000000   \n",
       "...                             ...                             ...   \n",
       "31266                     58.000000                      676.000000   \n",
       "31267                     99.000000                      791.000000   \n",
       "31268                     34.000000                      494.000000   \n",
       "31269                    104.000000                      867.000000   \n",
       "31270                    485.888795                     1202.954349   \n",
       "\n",
       "       Child's Height/Age standard deviation  \\\n",
       "0                                9998.000000   \n",
       "1                                 509.000000   \n",
       "2                                 497.000000   \n",
       "3                                9998.000000   \n",
       "4                                9998.000000   \n",
       "...                                      ...   \n",
       "31266                            -317.000000   \n",
       "31267                            -280.000000   \n",
       "31268                            -149.000000   \n",
       "31269                            -334.000000   \n",
       "31270                             522.382697   \n",
       "\n",
       "       Childs's Weight/Age standard deviation  \\\n",
       "0                                 9998.000000   \n",
       "1                                  122.000000   \n",
       "2                                  149.000000   \n",
       "3                                 9998.000000   \n",
       "4                                 9998.000000   \n",
       "...                                       ...   \n",
       "31266                             -388.000000   \n",
       "31267                             -245.000000   \n",
       "31268                              -92.000000   \n",
       "31269                             -315.000000   \n",
       "31270                              506.386422   \n",
       "\n",
       "       Childs's Weight/Height standard deviation  \\\n",
       "0                                    9998.000000   \n",
       "1                                    -161.000000   \n",
       "2                                    -116.000000   \n",
       "3                                    9998.000000   \n",
       "4                                    9998.000000   \n",
       "...                                          ...   \n",
       "31266                                -252.000000   \n",
       "31267                                 -89.000000   \n",
       "31268                                  27.000000   \n",
       "31269                                -170.000000   \n",
       "31270                                 549.348239   \n",
       "\n",
       "       Childs's BMI standard deviation (new WHO)  Dietary Index  \n",
       "0                                    9998.000000       2.277475  \n",
       "1                                    -206.000000       3.445295  \n",
       "2                                    -162.000000       2.277475  \n",
       "3                                    9998.000000       3.014633  \n",
       "4                                    -480.000000       2.277475  \n",
       "...                                          ...            ...  \n",
       "31266                                -286.000000       1.722647  \n",
       "31267                                  -4.000000       1.809098  \n",
       "31268                                 -19.000000       0.000000  \n",
       "31269                                -119.000000       0.086451  \n",
       "31270                                 332.330484       1.722647  \n",
       "\n",
       "[31271 rows x 30 columns]"
      ]
     },
     "execution_count": 9,
     "metadata": {},
     "output_type": "execute_result"
    }
   ],
   "source": [
    "df"
   ]
  },
  {
   "cell_type": "code",
   "execution_count": 10,
   "id": "35063531-c088-4f53-9f00-db9d2d296be9",
   "metadata": {},
   "outputs": [
    {
     "name": "stdout",
     "output_type": "stream",
     "text": [
      "Type of place of residence                        0\n",
      "Source of drinking water                          0\n",
      "Number of household members                       0\n",
      "Toilet facilities shared with other households    0\n",
      "Wealth index factor score combined                0\n",
      "Wealth index factor score for urban/rural         0\n",
      "Currently breastfeeding                           0\n",
      "Mother's weight in kilograms                      0\n",
      "Mother's height in centimeters                    0\n",
      "Mother's BMI                                      0\n",
      "Mother's Under age 18 at time of birth            0\n",
      "Mother Smokes pipe full of tobacco                0\n",
      "Mother Chews tobacco                              0\n",
      "Mother Snuffs by nose                             0\n",
      "v463f                                             0\n",
      "Frequency of mother smokes cigarettes             0\n",
      "Father's occupation                               0\n",
      "Father's educational attainment                   0\n",
      "Sex of child                                      0\n",
      "Size of child at birth                            0\n",
      "Birth weight in kilograms                         0\n",
      "Given child anything other than breast milk       0\n",
      "Childs's age in months                            0\n",
      "Childs's weight in kilograms                      0\n",
      "Childs's height in centimeters                    0\n",
      "Child's Height/Age standard deviation             0\n",
      "Childs's Weight/Age standard deviation            0\n",
      "Childs's Weight/Height standard deviation         0\n",
      "Childs's BMI standard deviation (new WHO)         0\n",
      "Dietary Index                                     0\n",
      "dtype: int64\n"
     ]
    }
   ],
   "source": [
    "pd.set_option('display.max_rows', None)  # Show all rows\n",
    "pd.set_option('display.max_columns', None)  # Show all columns\n",
    "\n",
    "print(df.isnull().sum())\n",
    "\n",
    "pd.reset_option('display.max_rows')\n",
    "pd.reset_option('display.max_columns')"
   ]
  },
  {
   "cell_type": "code",
   "execution_count": 11,
   "id": "e56afded-9f0e-47bb-a400-87ea4f47ef99",
   "metadata": {},
   "outputs": [],
   "source": [
    "## GIVEN CHILD ANYTHING OTHER THEN BREAST MILK"
   ]
  },
  {
   "cell_type": "code",
   "execution_count": 12,
   "id": "50ee982b-3806-401e-84c7-4b7384078911",
   "metadata": {},
   "outputs": [
    {
     "data": {
      "text/plain": [
       "array([0.        , 0.20699696, 1.        ])"
      ]
     },
     "execution_count": 12,
     "metadata": {},
     "output_type": "execute_result"
    }
   ],
   "source": [
    "df['Given child anything other than breast milk'].unique()"
   ]
  },
  {
   "cell_type": "code",
   "execution_count": 13,
   "id": "a4e42306-31fc-46ba-b757-2e64dc4b6f1d",
   "metadata": {},
   "outputs": [],
   "source": [
    "tolerance = 1e-7 \n",
    "df['Given child anything other than breast milk'] = df['Given child anything other than breast milk'].apply(lambda x: 0 if abs(x - 0.20699696) < tolerance else x)\n"
   ]
  },
  {
   "cell_type": "code",
   "execution_count": 14,
   "id": "4d6d6449-1cc7-4ebc-b67d-bf072c880907",
   "metadata": {},
   "outputs": [],
   "source": [
    "df['Given child anything other than breast milk'] = df['Given child anything other than breast milk'].replace({0:'No',1:'Yes'})"
   ]
  },
  {
   "cell_type": "code",
   "execution_count": 15,
   "id": "3ca58d86-bb70-4742-8b06-832c2917cb79",
   "metadata": {},
   "outputs": [
    {
     "data": {
      "text/plain": [
       "array(['No', 'Yes'], dtype=object)"
      ]
     },
     "execution_count": 15,
     "metadata": {},
     "output_type": "execute_result"
    }
   ],
   "source": [
    "df['Given child anything other than breast milk'].unique()"
   ]
  },
  {
   "cell_type": "code",
   "execution_count": 16,
   "id": "7d19850d-dfcf-490e-a473-250dc16ebc04",
   "metadata": {},
   "outputs": [],
   "source": [
    "## TOILET FACILITIES SHARED WITH OTHER HOUSEHOLDS"
   ]
  },
  {
   "cell_type": "code",
   "execution_count": 17,
   "id": "5346482b-cfed-4c15-9045-006241345f33",
   "metadata": {},
   "outputs": [
    {
     "data": {
      "text/plain": [
       "array([0.        , 1.        , 7.        , 0.41422723])"
      ]
     },
     "execution_count": 17,
     "metadata": {},
     "output_type": "execute_result"
    }
   ],
   "source": [
    "df['Toilet facilities shared with other households'].unique()"
   ]
  },
  {
   "cell_type": "code",
   "execution_count": 18,
   "id": "e551a333-dd10-48e4-8c75-e8b99021264d",
   "metadata": {},
   "outputs": [],
   "source": [
    "tolerance = 1e-7 \n",
    "df['Toilet facilities shared with other households'] = df['Toilet facilities shared with other households'].apply(lambda x: 0 if abs(x - 0.41422723) < tolerance else x)\n"
   ]
  },
  {
   "cell_type": "code",
   "execution_count": 19,
   "id": "679d03ac-fa83-4d60-b16d-78983e506919",
   "metadata": {},
   "outputs": [],
   "source": [
    "df['Toilet facilities shared with other households'] = df['Toilet facilities shared with other households'].replace({0:'No',1:'Yes',7:'Not Dejure'})"
   ]
  },
  {
   "cell_type": "code",
   "execution_count": 20,
   "id": "691cf130-612c-473d-aea5-790098457183",
   "metadata": {},
   "outputs": [
    {
     "data": {
      "text/plain": [
       "Toilet facilities shared with other households\n",
       "No            26372\n",
       "Yes            3692\n",
       "Not Dejure     1207\n",
       "Name: count, dtype: int64"
      ]
     },
     "execution_count": 20,
     "metadata": {},
     "output_type": "execute_result"
    }
   ],
   "source": [
    "df['Toilet facilities shared with other households'].value_counts()"
   ]
  },
  {
   "cell_type": "code",
   "execution_count": 21,
   "id": "2e40e504-2f4c-440c-96a7-0241750a1d1d",
   "metadata": {},
   "outputs": [],
   "source": [
    "\n",
    "index = df[(df['Birth weight in kilograms'] == 9998 ) | (df['Birth weight in kilograms'] == 9999 )].index\n",
    "df.drop(index,inplace=True)"
   ]
  },
  {
   "cell_type": "code",
   "execution_count": 22,
   "id": "75db79d1-af38-47a2-8452-de6a0cc5ce60",
   "metadata": {},
   "outputs": [
    {
     "data": {
      "text/plain": [
       "array([3000, 2400, 9996, 2200, 2500, 3500, 2600, 2000, 1890, 3800, 2900,\n",
       "       2700, 3100, 2100, 3300, 2300, 3200, 4000, 3600, 2780, 2800, 3400,\n",
       "       1000, 2750, 6000, 1700, 3250, 3050, 1900, 3030, 3900, 5000, 3150,\n",
       "       4100, 3750, 3700, 1300, 2720, 4300, 1500, 1200, 5300, 4800, 4140,\n",
       "       2480, 4250, 3450, 2450, 5700, 4200, 4500, 2250, 3160,  500, 2360,\n",
       "       2740, 1280, 2050, 2920, 1400, 1760, 1670, 2850, 1600, 1250, 2770,\n",
       "       2730, 4600, 5500, 2590, 3010, 1750, 1800, 2350,  800, 8000, 2990,\n",
       "       2710, 1990, 5400, 2150, 2680, 2950, 4700, 2790, 2960, 3070, 2760,\n",
       "       1770, 1780, 2430, 2890, 1290, 1980, 3220, 3002, 2940, 3790, 2550,\n",
       "       9000, 6500, 3019, 3240, 2830, 3225, 2870,  700, 4400, 2575, 2490,\n",
       "       3560, 2155, 2060, 2230, 2650, 2460, 2410, 2690, 2380,  600, 2075,\n",
       "       3190, 2630, 3675, 3980, 3080, 3540, 3125, 3640, 3110, 2645, 2745,\n",
       "       3165, 2515, 2530, 3470, 3480, 3185, 1155,  880, 5005, 3514, 3120,\n",
       "       2810, 2975, 2685, 3415, 3140, 2415, 2910, 2390, 2793, 3835, 3970,\n",
       "       3515, 2855, 2985, 3130, 2355, 2560, 3040, 3230, 3350, 2635, 3390,\n",
       "       2970, 2070, 3325, 1920, 1910, 3245, 3320, 3785, 3215, 2955, 3620,\n",
       "       2980, 3280, 2905, 3370, 3001, 2775, 2613, 2180, 2330, 2725, 2270,\n",
       "       2845, 2006, 3650, 2835, 3850, 2875, 3365, 1450, 3380, 1710, 2585,\n",
       "       3535, 2115, 2965, 2205, 2885, 3105, 2930, 3015, 3410, 3020, 3825,\n",
       "       2275, 2005, 2170, 2517, 2620, 3890, 3665, 4370, 3420, 3360, 2945,\n",
       "       2120, 4750, 2007, 2840, 2665, 3003, 2090, 2072, 2510, 1050, 1100,\n",
       "       2340, 2225, 2860, 2240, 3555, 1150, 2580, 2280, 2440, 2014, 2540,\n",
       "       2001, 1210, 3270, 7000, 3510, 2520, 2470, 2210, 1245,  900, 3135,\n",
       "       2670, 1850, 2089, 2004, 2445, 2012, 3005, 2420, 1010, 2963, 2009,\n",
       "       2916, 2804, 3025, 3570, 2025, 3745, 4900, 3475, 3004, 2068, 4015,\n",
       "       2020, 1650, 3065, 3720, 2880, 2110, 3880, 1180, 3575, 2096, 2324,\n",
       "       2519, 6200, 2831, 2375, 5200, 2246, 1075, 4450, 1140, 9980, 2640,\n",
       "       3730, 5100, 1680, 3159, 2895, 2087, 3590, 1570, 2820, 4170,  750,\n",
       "       2660, 1490, 4225, 3680, 7750, 3176, 2535, 2943, 2010, 2525, 3905,\n",
       "       3170, 2049, 3378, 2755, 3740, 1658, 2815, 2865, 3845, 3445, 2468,\n",
       "       3006, 3011, 2839, 3035, 2093, 2310, 3223, 2475, 2765, 2153, 3710,\n",
       "       2008, 2812, 3285, 1350, 3440, 2925, 1175, 9500, 2505, 1885, 2742,\n",
       "       4020, 2290, 2448, 1950, 2080, 2549, 2578, 3556, 2083, 1790, 3260,\n",
       "       2165, 2769, 3075, 2094, 3241, 2320, 4050, 2345, 3455, 2365, 1725,\n",
       "       2570, 2220, 3425, 3530, 2914, 5250, 2319, 1099, 2694, 2712, 2772,\n",
       "       3154, 1606, 3275, 2522, 2208, 3550, 3725, 3310, 1590, 3155, 3287,\n",
       "       3670, 5600, 2260, 1575, 3180, 2785, 2125, 2185, 2414, 2545, 2055,\n",
       "       3107])"
      ]
     },
     "execution_count": 22,
     "metadata": {},
     "output_type": "execute_result"
    }
   ],
   "source": [
    "df['Birth weight in kilograms'].unique()"
   ]
  },
  {
   "cell_type": "code",
   "execution_count": 23,
   "id": "154c7600-dfd1-4b6b-b85d-83c93108cfa9",
   "metadata": {},
   "outputs": [],
   "source": [
    "df['Birth weight in kilograms'] = df['Birth weight in kilograms']/1000"
   ]
  },
  {
   "cell_type": "code",
   "execution_count": 24,
   "id": "51549981-9673-415e-9844-33aa3a74bb4b",
   "metadata": {},
   "outputs": [
    {
     "data": {
      "text/plain": [
       "array([3.   , 2.4  , 9.996, 2.2  , 2.5  , 3.5  , 2.6  , 2.   , 1.89 ,\n",
       "       3.8  , 2.9  , 2.7  , 3.1  , 2.1  , 3.3  , 2.3  , 3.2  , 4.   ,\n",
       "       3.6  , 2.78 , 2.8  , 3.4  , 1.   , 2.75 , 6.   , 1.7  , 3.25 ,\n",
       "       3.05 , 1.9  , 3.03 , 3.9  , 5.   , 3.15 , 4.1  , 3.75 , 3.7  ,\n",
       "       1.3  , 2.72 , 4.3  , 1.5  , 1.2  , 5.3  , 4.8  , 4.14 , 2.48 ,\n",
       "       4.25 , 3.45 , 2.45 , 5.7  , 4.2  , 4.5  , 2.25 , 3.16 , 0.5  ,\n",
       "       2.36 , 2.74 , 1.28 , 2.05 , 2.92 , 1.4  , 1.76 , 1.67 , 2.85 ,\n",
       "       1.6  , 1.25 , 2.77 , 2.73 , 4.6  , 5.5  , 2.59 , 3.01 , 1.75 ,\n",
       "       1.8  , 2.35 , 0.8  , 8.   , 2.99 , 2.71 , 1.99 , 5.4  , 2.15 ,\n",
       "       2.68 , 2.95 , 4.7  , 2.79 , 2.96 , 3.07 , 2.76 , 1.77 , 1.78 ,\n",
       "       2.43 , 2.89 , 1.29 , 1.98 , 3.22 , 3.002, 2.94 , 3.79 , 2.55 ,\n",
       "       9.   , 6.5  , 3.019, 3.24 , 2.83 , 3.225, 2.87 , 0.7  , 4.4  ,\n",
       "       2.575, 2.49 , 3.56 , 2.155, 2.06 , 2.23 , 2.65 , 2.46 , 2.41 ,\n",
       "       2.69 , 2.38 , 0.6  , 2.075, 3.19 , 2.63 , 3.675, 3.98 , 3.08 ,\n",
       "       3.54 , 3.125, 3.64 , 3.11 , 2.645, 2.745, 3.165, 2.515, 2.53 ,\n",
       "       3.47 , 3.48 , 3.185, 1.155, 0.88 , 5.005, 3.514, 3.12 , 2.81 ,\n",
       "       2.975, 2.685, 3.415, 3.14 , 2.415, 2.91 , 2.39 , 2.793, 3.835,\n",
       "       3.97 , 3.515, 2.855, 2.985, 3.13 , 2.355, 2.56 , 3.04 , 3.23 ,\n",
       "       3.35 , 2.635, 3.39 , 2.97 , 2.07 , 3.325, 1.92 , 1.91 , 3.245,\n",
       "       3.32 , 3.785, 3.215, 2.955, 3.62 , 2.98 , 3.28 , 2.905, 3.37 ,\n",
       "       3.001, 2.775, 2.613, 2.18 , 2.33 , 2.725, 2.27 , 2.845, 2.006,\n",
       "       3.65 , 2.835, 3.85 , 2.875, 3.365, 1.45 , 3.38 , 1.71 , 2.585,\n",
       "       3.535, 2.115, 2.965, 2.205, 2.885, 3.105, 2.93 , 3.015, 3.41 ,\n",
       "       3.02 , 3.825, 2.275, 2.005, 2.17 , 2.517, 2.62 , 3.89 , 3.665,\n",
       "       4.37 , 3.42 , 3.36 , 2.945, 2.12 , 4.75 , 2.007, 2.84 , 2.665,\n",
       "       3.003, 2.09 , 2.072, 2.51 , 1.05 , 1.1  , 2.34 , 2.225, 2.86 ,\n",
       "       2.24 , 3.555, 1.15 , 2.58 , 2.28 , 2.44 , 2.014, 2.54 , 2.001,\n",
       "       1.21 , 3.27 , 7.   , 3.51 , 2.52 , 2.47 , 2.21 , 1.245, 0.9  ,\n",
       "       3.135, 2.67 , 1.85 , 2.089, 2.004, 2.445, 2.012, 3.005, 2.42 ,\n",
       "       1.01 , 2.963, 2.009, 2.916, 2.804, 3.025, 3.57 , 2.025, 3.745,\n",
       "       4.9  , 3.475, 3.004, 2.068, 4.015, 2.02 , 1.65 , 3.065, 3.72 ,\n",
       "       2.88 , 2.11 , 3.88 , 1.18 , 3.575, 2.096, 2.324, 2.519, 6.2  ,\n",
       "       2.831, 2.375, 5.2  , 2.246, 1.075, 4.45 , 1.14 , 9.98 , 2.64 ,\n",
       "       3.73 , 5.1  , 1.68 , 3.159, 2.895, 2.087, 3.59 , 1.57 , 2.82 ,\n",
       "       4.17 , 0.75 , 2.66 , 1.49 , 4.225, 3.68 , 7.75 , 3.176, 2.535,\n",
       "       2.943, 2.01 , 2.525, 3.905, 3.17 , 2.049, 3.378, 2.755, 3.74 ,\n",
       "       1.658, 2.815, 2.865, 3.845, 3.445, 2.468, 3.006, 3.011, 2.839,\n",
       "       3.035, 2.093, 2.31 , 3.223, 2.475, 2.765, 2.153, 3.71 , 2.008,\n",
       "       2.812, 3.285, 1.35 , 3.44 , 2.925, 1.175, 9.5  , 2.505, 1.885,\n",
       "       2.742, 4.02 , 2.29 , 2.448, 1.95 , 2.08 , 2.549, 2.578, 3.556,\n",
       "       2.083, 1.79 , 3.26 , 2.165, 2.769, 3.075, 2.094, 3.241, 2.32 ,\n",
       "       4.05 , 2.345, 3.455, 2.365, 1.725, 2.57 , 2.22 , 3.425, 3.53 ,\n",
       "       2.914, 5.25 , 2.319, 1.099, 2.694, 2.712, 2.772, 3.154, 1.606,\n",
       "       3.275, 2.522, 2.208, 3.55 , 3.725, 3.31 , 1.59 , 3.155, 3.287,\n",
       "       3.67 , 5.6  , 2.26 , 1.575, 3.18 , 2.785, 2.125, 2.185, 2.414,\n",
       "       2.545, 2.055, 3.107])"
      ]
     },
     "execution_count": 24,
     "metadata": {},
     "output_type": "execute_result"
    }
   ],
   "source": [
    "df['Birth weight in kilograms'].unique()"
   ]
  },
  {
   "cell_type": "code",
   "execution_count": 25,
   "id": "577314d9-9f75-4845-ac4d-3bfa56503476",
   "metadata": {},
   "outputs": [
    {
     "data": {
      "text/plain": [
       "array([0, 1, 2])"
      ]
     },
     "execution_count": 25,
     "metadata": {},
     "output_type": "execute_result"
    }
   ],
   "source": [
    "df['Frequency of mother smokes cigarettes'].unique()"
   ]
  },
  {
   "cell_type": "code",
   "execution_count": 26,
   "id": "2da1cb54-c59c-4485-b208-d373ecdfbb17",
   "metadata": {},
   "outputs": [],
   "source": [
    "df['Frequency of mother smokes cigarettes'] = df['Frequency of mother smokes cigarettes'].replace({0:'Does not smoke',1:'Everyday',2:'Someday'})"
   ]
  },
  {
   "cell_type": "code",
   "execution_count": 27,
   "id": "3491ecda-1473-4ea3-bd9f-ab6a7ae3cf8c",
   "metadata": {},
   "outputs": [
    {
     "data": {
      "text/plain": [
       "array(['Does not smoke', 'Everyday', 'Someday'], dtype=object)"
      ]
     },
     "execution_count": 27,
     "metadata": {},
     "output_type": "execute_result"
    }
   ],
   "source": [
    "df['Frequency of mother smokes cigarettes'].unique()"
   ]
  },
  {
   "cell_type": "code",
   "execution_count": 28,
   "id": "1323a938-9e5a-443c-9672-2ee57898dadc",
   "metadata": {},
   "outputs": [],
   "source": [
    "## CHILDS HEIGHT IN CENTIMETERS"
   ]
  },
  {
   "cell_type": "code",
   "execution_count": 29,
   "id": "ead2a2d1-5004-408b-98b7-b406ab01d4a3",
   "metadata": {},
   "outputs": [
    {
     "data": {
      "text/plain": [
       "array([1283.        ,  900.        , 1027.        ,  893.        ,\n",
       "       1097.        , 1094.        ,  804.        ,  766.        ,\n",
       "       1202.95434879,  889.        ,  756.        ,  739.        ,\n",
       "        967.        ,  846.        ,  902.        ,  988.        ,\n",
       "        987.        ,  744.        ,  874.        ,  819.        ,\n",
       "        861.        , 1014.        ,  694.        , 1012.        ,\n",
       "        892.        ,  942.        ,  712.        ,  928.        ,\n",
       "        674.        ,  991.        ,  808.        ,  822.        ,\n",
       "        922.        ,  682.        ,  684.        , 1103.        ,\n",
       "        593.        ,  883.        ,  782.        ,  741.        ,\n",
       "        491.        ,  968.        ,  691.        ,  994.        ,\n",
       "        803.        , 1015.        ,  612.        ,  814.        ,\n",
       "        812.        ,  995.        ,  899.        , 1016.        ,\n",
       "       1002.        ,  887.        ,  471.        ,  960.        ,\n",
       "        734.        ,  806.        ,  801.        ,  915.        ,\n",
       "        896.        ,  905.        ,  864.        , 1053.        ,\n",
       "        615.        ,  914.        ,  986.        ,  912.        ,\n",
       "        934.        , 1059.        ,  693.        , 1031.        ,\n",
       "       1102.        ,  652.        , 1034.        ,  543.        ,\n",
       "        962.        ,  413.        , 1011.        , 9995.        ,\n",
       "        764.        ,  703.        ,  976.        , 1001.        ,\n",
       "       1164.        ,  901.        ,  461.        ,  788.        ,\n",
       "        944.        ,  625.        ,  842.        ,  848.        ,\n",
       "        799.        ,  917.        ,  535.        ,  818.        ,\n",
       "        941.        ,  721.        ,  621.        ,  601.        ,\n",
       "       1035.        ,  975.        ,  865.        ,  996.        ,\n",
       "        916.        ,  571.        ,  867.        ,  742.        ,\n",
       "       1083.        ,  663.        ,  500.        ,  983.        ,\n",
       "        974.        , 1024.        ,  688.        ,  844.        ,\n",
       "       1099.        ,  479.        ,  897.        ,  913.        ,\n",
       "       1087.        , 1203.        ,  757.        ,  972.        ,\n",
       "        724.        ,  859.        ,  925.        , 1086.        ,\n",
       "        478.        , 1136.        , 1176.        ,  894.        ,\n",
       "        884.        ,  823.        ,  973.        ,  752.        ,\n",
       "       1073.        ,  907.        , 1139.        ,  604.        ,\n",
       "       1013.        ,  829.        ,  903.        ,  662.        ,\n",
       "        888.        ,  992.        ,  792.        ,  592.        ,\n",
       "        753.        ,  705.        , 1072.        ,  820.        ,\n",
       "        880.        ,  956.        , 1021.        ,  749.        ,\n",
       "       1032.        ,  637.        ,  826.        ,  977.        ,\n",
       "        659.        , 1152.        , 1142.        ,  441.        ,\n",
       "        762.        ,  875.        , 1007.        ,  998.        ,\n",
       "        835.        , 1022.        ,  862.        ,  985.        ,\n",
       "        984.        , 1113.        ,  553.        , 1196.        ,\n",
       "       1124.        ,  731.        ,  735.        ,  582.        ,\n",
       "        924.        ,  574.        ,  827.        ,  978.        ,\n",
       "        653.        ,  746.        ,  747.        , 1026.        ,\n",
       "        932.        ,  947.        , 1092.        ,  957.        ,\n",
       "       1110.        , 1182.        ,  725.        ,  692.        ,\n",
       "       1037.        , 1100.        ,  563.        ,  964.        ,\n",
       "        643.        ,  946.        ,  784.        ,  613.        ,\n",
       "        589.        , 1046.        ,  673.        , 1023.        ,\n",
       "        785.        ,  809.        , 1098.        , 1061.        ,\n",
       "       1040.        ,  681.        , 1063.        ,  805.        ,\n",
       "        486.        , 1114.        ,  527.        ,  707.        ,\n",
       "        989.        ,  657.        ,  364.        ,  641.        ,\n",
       "       1163.        ,  614.        , 1104.        ,  623.        ,\n",
       "        837.        ,  655.        ,  545.        ,  882.        ,\n",
       "        645.        ,  951.        ,  780.        ,  680.        ,\n",
       "       1078.        , 1009.        , 1047.        ,  869.        ,\n",
       "        895.        ,  640.        ,  709.        ,  733.        ,\n",
       "        796.        , 1076.        ,  816.        ,  855.        ,\n",
       "        696.        , 1226.        , 1106.        ,  636.        ,\n",
       "        656.        , 1074.        , 1017.        , 1049.        ,\n",
       "       1067.        , 1020.        ,  841.        ,  950.        ,\n",
       "        706.        , 1069.        ,  997.        ,  650.        ,\n",
       "       1005.        ,  999.        , 1042.        ,  870.        ,\n",
       "        965.        , 1039.        ,  794.        ,  502.        ,\n",
       "       1025.        ,  834.        , 1126.        ,  722.        ,\n",
       "        763.        , 1265.        , 1062.        , 1096.        ,\n",
       "       1082.        , 1060.        ,  850.        ,  815.        ,\n",
       "        940.        ,  890.        ,  750.        ,  719.        ,\n",
       "        839.        ,  525.        ,  772.        ,  961.        ,\n",
       "        361.        ,  346.        ,  980.        ,  971.        ,\n",
       "        982.        ,  832.        ,  783.        ,  979.        ,\n",
       "        494.        ,  906.        ,  921.        ,  412.        ,\n",
       "        876.        ,  863.        ,  727.        ,  789.        ,\n",
       "        952.        ,  523.        , 1052.        , 1123.        ,\n",
       "       1028.        ,  981.        , 9994.        ,  911.        ,\n",
       "       1213.        ,  567.        ,  926.        ,  936.        ,\n",
       "        743.        ,  701.        ,  904.        ,  943.        ,\n",
       "        723.        ,  969.        ,  939.        ,  732.        ,\n",
       "        824.        , 1019.        ,  586.        ,  499.        ,\n",
       "        503.        ,  699.        , 1084.        ,  993.        ,\n",
       "       1033.        , 1048.        ,  632.        ,  630.        ,\n",
       "        849.        , 1056.        ,  504.        ,  555.        ,\n",
       "       1029.        ,  774.        ,  919.        ,  472.        ,\n",
       "        482.        ,  689.        ,  598.        ,  564.        ,\n",
       "        587.        , 1093.        ,  561.        ,  945.        ,\n",
       "        624.        ,  810.        ,  423.        ,  791.        ,\n",
       "        853.        ,  677.        ,  456.        ,  786.        ,\n",
       "        776.        , 1006.        ,  923.        ,  953.        ,\n",
       "        871.        ,  697.        ,  584.        ,  736.        ,\n",
       "        716.        ,  825.        ,  562.        , 1057.        ,\n",
       "       1146.        , 1154.        ,  831.        ,  872.        ,\n",
       "        493.        ,  795.        ,  634.        ,  585.        ,\n",
       "        683.        ,  931.        ,  886.        ,  512.        ,\n",
       "        526.        , 1004.        ,  866.        ,  646.        ,\n",
       "        881.        , 1055.        , 1045.        ,  730.        ,\n",
       "        857.        ,  868.        , 1088.        ,  854.        ,\n",
       "       1038.        , 1077.        ,  798.        ,  963.        ,\n",
       "        885.        ,  851.        , 1036.        , 1051.        ,\n",
       "       1122.        ,  462.        , 1129.        ,  852.        ,\n",
       "        484.        ,  845.        ,  505.        ,  813.        ,\n",
       "       1054.        ,  576.        ,  611.        ,  540.        ,\n",
       "        955.        , 1095.        , 1041.        , 1064.        ,\n",
       "        930.        ,  840.        ,  970.        ,  404.        ,\n",
       "       1050.        , 1091.        ,  606.        ,  572.        ,\n",
       "        670.        ,  704.        ,  710.        ,  860.        ,\n",
       "        761.        ,  651.        ,  685.        ,  802.        ,\n",
       "        581.        ,  647.        ,  843.        ,  602.        ,\n",
       "        610.        ,  521.        ,  910.        , 1071.        ,\n",
       "        450.        ,  836.        ,  580.        ,  600.        ,\n",
       "       1003.        ,  770.        ,  631.        ,  475.        ,\n",
       "       1058.        ,  830.        ,  754.        , 1135.        ,\n",
       "        949.        , 1030.        ,  550.        ,  541.        ,\n",
       "        596.        ,  546.        ,  687.        ,  847.        ,\n",
       "        476.        ,  937.        ,  492.        ,  759.        ,\n",
       "        748.        ,  726.        ,  793.        , 1075.        ,\n",
       "        654.        ,  781.        ,  858.        ,  597.        ,\n",
       "        954.        , 1043.        ,  758.        ,  607.        ,\n",
       "        603.        ,  751.        ,  700.        , 1010.        ,\n",
       "       1184.        ,  898.        ,  633.        ,  755.        ,\n",
       "        642.        ,  664.        ,  384.        ,  591.        ,\n",
       "        821.        ,  513.        ,  873.        ,  773.        ,\n",
       "        800.        ,  583.        ,  570.        ,  714.        ,\n",
       "       1108.        , 1208.        ,  879.        , 1085.        ,\n",
       "       1150.        ,  510.        ,  702.        ,  672.        ,\n",
       "        511.        ,  929.        ,  686.        ,  966.        ,\n",
       "        667.        ,  745.        ,  833.        , 1112.        ,\n",
       "        891.        , 1194.        ,  698.        , 1192.        ,\n",
       "        524.        ,  765.        , 1143.        ,  568.        ,\n",
       "        720.        ,  927.        , 1000.        ,  768.        ,\n",
       "       1127.        , 1183.        , 1162.        , 1193.        ,\n",
       "        811.        , 1153.        , 1128.        ,  372.        ,\n",
       "        573.        ,  671.        ,  483.        ,  678.        ,\n",
       "        679.        ,  877.        ,  660.        ,  920.        ,\n",
       "       1223.        , 1180.        ,  958.        ,  713.        ,\n",
       "        775.        , 1068.        ,  711.        ,  649.        ,\n",
       "        797.        ,  690.        ,  938.        ,  403.        ,\n",
       "        554.        ,  909.        , 1109.        , 1325.        ,\n",
       "        935.        ,  454.        ,  878.        ,  608.        ,\n",
       "        566.        ,  544.        ,  451.        ,  552.        ,\n",
       "       1105.        , 1065.        ,  542.        ,  371.        ,\n",
       "        457.        ,  728.        ,  661.        ,  501.        ,\n",
       "        422.        ,  918.        , 1081.        ,  771.        ,\n",
       "        807.        ,  676.        ,  622.        ,  635.        ,\n",
       "       1070.        ,  532.        ,  856.        ,  599.        ,\n",
       "        560.        , 1199.        ,  460.        ,  790.        ,\n",
       "        769.        ,  740.        ,  414.        ,  990.        ,\n",
       "        617.        ,  675.        , 1089.        , 1179.        ,\n",
       "       1247.        ,  386.        ,  620.        ,  514.        ,\n",
       "       1234.        , 1197.        ,  787.        ,  644.        ,\n",
       "       1189.        , 1200.        , 1141.        , 1186.        ,\n",
       "        516.        , 1120.        , 1250.        , 1133.        ,\n",
       "       1132.        ,  425.        ,  419.        , 1125.        ,\n",
       "        627.        ,  760.        ,  695.        ,  391.        ,\n",
       "        455.        ,  605.        , 1079.        , 1147.        ,\n",
       "        778.        ,  531.        ,  658.        ,  498.        ,\n",
       "       1140.        ,  948.        ,  439.        ,  668.        ,\n",
       "        522.        ,  466.        ,  468.        ,  538.        ,\n",
       "       1115.        ,  496.        ,  529.        ,  537.        ,\n",
       "        463.        ,  715.        , 1018.        , 1044.        ,\n",
       "        594.        , 9996.        ,  490.        , 1202.        ,\n",
       "        817.        ,  908.        ,  363.        ,  520.        ,\n",
       "        508.        ,  434.        ,  488.        ,  933.        ,\n",
       "        467.        ,  481.        ,  767.        ,  487.        ,\n",
       "       1281.        ,  495.        ,  225.        ,  638.        ,\n",
       "        718.        ,  618.        ,  579.        ,  530.        ,\n",
       "        362.        ,  396.        ,  438.        ,  556.        ,\n",
       "        402.        ,  401.        ,  557.        , 1210.        ,\n",
       "        464.        ,  406.        ,  506.        , 1117.        ,\n",
       "        407.        ,  473.        ,  370.        ,  551.        ,\n",
       "        374.        ,  626.        ,  779.        ,  365.        ,\n",
       "        474.        ,  426.        , 1111.        ,  485.        ,\n",
       "       1134.        ,  465.        ,  536.        ,  578.        ,\n",
       "       1262.        ,  448.        ,  452.        , 1174.        ,\n",
       "        665.        ,  436.        , 1149.        ,  828.        ,\n",
       "        777.        , 1268.        , 1160.        , 1235.        ,\n",
       "        717.        ,  421.        ,  616.        , 1101.        ,\n",
       "        838.        ,  565.        ,  559.        ,  708.        ,\n",
       "        575.        ,  959.        ,  666.        , 1080.        ,\n",
       "       1173.        ,  442.        ,  558.        ,  278.        ,\n",
       "       1148.        ,  738.        , 1008.        ,  247.        ,\n",
       "       1254.        , 1255.        ,  590.        , 1107.        ,\n",
       "       1214.        ,  549.        ,  569.        ,  629.        ,\n",
       "        534.        , 1293.        , 1158.        ,  639.        ,\n",
       "        440.        ,  547.        ,  729.        , 1313.        ,\n",
       "       1185.        ,  669.        ,  489.        ,  533.        ,\n",
       "       1165.        ,  313.        , 1137.        , 1121.        ,\n",
       "       1166.        , 1090.        , 1131.        ,  497.        ,\n",
       "       1155.        , 1190.        , 1168.        ,  428.        ,\n",
       "        375.        ,  424.        ,  200.        ,  737.        ,\n",
       "       1172.        ,  628.        ,  539.        ,  528.        ,\n",
       "       1066.        ,  515.        ,  469.        , 1116.        ,\n",
       "        443.        ,  548.        ,  595.        , 1119.        ,\n",
       "        458.        ,  332.        , 1156.        ,  409.        ,\n",
       "        470.        ,  507.        , 1144.        ,  444.        ,\n",
       "        648.        , 1195.        , 1272.        , 1222.        ,\n",
       "        459.        , 1252.        ,  394.        , 1138.        ,\n",
       "        619.        ,  480.        ,  432.        , 1400.        ,\n",
       "       1224.        , 1259.        , 1151.        ,  519.        ,\n",
       "       1288.        , 1170.        ,  430.        ,  431.        ,\n",
       "       1187.        , 1220.        , 1205.        , 1130.        ,\n",
       "        453.        ,  588.        , 1198.        ,  609.        ,\n",
       "        400.        ,  405.        , 1201.        ,  433.        ,\n",
       "       1145.        ,  447.        , 1178.        ,  517.        ,\n",
       "        360.        ,  342.        ,  420.        , 1290.        ,\n",
       "       1219.        ,  577.        ,  518.        , 1237.        ,\n",
       "       1206.        ,  300.        , 1211.        , 1264.        ,\n",
       "        408.        ,  390.        , 1263.        , 1242.        ,\n",
       "        411.        ,  417.        ,  307.        ,  273.        ,\n",
       "        437.        , 1394.        , 1306.        ,  301.        ,\n",
       "        427.        ,  353.        , 1253.        , 1175.        ,\n",
       "       1251.        ,  410.        ])"
      ]
     },
     "execution_count": 29,
     "metadata": {},
     "output_type": "execute_result"
    }
   ],
   "source": [
    "df['Childs\\'s height in centimeters'].unique()"
   ]
  },
  {
   "cell_type": "code",
   "execution_count": 30,
   "id": "09bb0a38-2fdd-4be5-a38c-7f577e52e92c",
   "metadata": {},
   "outputs": [],
   "source": [
    "\n",
    "index = df[(df['Childs\\'s height in centimeters'] == 9994) | (df['Childs\\'s height in centimeters'] == 9995 )| (df['Childs\\'s height in centimeters'] == 9996 )| (df['Childs\\'s height in centimeters'] == 9999 )].index\n",
    "df.drop(index,inplace=True)"
   ]
  },
  {
   "cell_type": "code",
   "execution_count": 31,
   "id": "7dbb8053-bd9c-4d12-a23d-aecc29f2eb0c",
   "metadata": {},
   "outputs": [],
   "source": [
    "df['Childs\\'s height in centimeters'] = df['Childs\\'s height in centimeters']/10"
   ]
  },
  {
   "cell_type": "code",
   "execution_count": 32,
   "id": "b0fee1cf-8d47-479b-b6f2-dead9ca3bee0",
   "metadata": {},
   "outputs": [
    {
     "data": {
      "text/plain": [
       "20.0"
      ]
     },
     "execution_count": 32,
     "metadata": {},
     "output_type": "execute_result"
    }
   ],
   "source": [
    "df['Childs\\'s height in centimeters'].min()"
   ]
  },
  {
   "cell_type": "code",
   "execution_count": 33,
   "id": "a3f628f3-4e60-438f-9676-95cb7f0338c9",
   "metadata": {},
   "outputs": [
    {
     "data": {
      "text/plain": [
       "140.0"
      ]
     },
     "execution_count": 33,
     "metadata": {},
     "output_type": "execute_result"
    }
   ],
   "source": [
    "df['Childs\\'s height in centimeters'].max()"
   ]
  },
  {
   "cell_type": "code",
   "execution_count": 34,
   "id": "342e72b1-8dba-4b8e-9222-a4e8ccc33bee",
   "metadata": {},
   "outputs": [
    {
     "data": {
      "text/plain": [
       "array([1.31000000e+02, 1.11000000e+02, 1.45000000e+02, 7.80000000e+01,\n",
       "       1.27000000e+02, 2.62000000e+02, 1.00000000e+02, 1.33000000e+02,\n",
       "       4.85888795e+02, 1.10000000e+02, 4.50000000e+01, 1.01000000e+02,\n",
       "       1.21000000e+02, 9.30000000e+01, 1.15000000e+02, 9.70000000e+01,\n",
       "       1.51000000e+02, 9.10000000e+01, 1.70000000e+02, 1.14000000e+02,\n",
       "       5.20000000e+01, 1.34000000e+02, 1.04000000e+02, 6.70000000e+01,\n",
       "       8.00000000e+01, 1.53000000e+02, 1.24000000e+02, 1.02000000e+02,\n",
       "       8.80000000e+01, 1.52000000e+02, 9.20000000e+01, 1.43000000e+02,\n",
       "       2.00000000e+02, 4.00000000e+01, 1.41000000e+02, 8.10000000e+01,\n",
       "       1.42000000e+02, 1.12000000e+02, 1.48000000e+02, 5.30000000e+01,\n",
       "       1.09000000e+02, 8.30000000e+01, 1.67000000e+02, 2.47000000e+02,\n",
       "       1.60000000e+02, 6.00000000e+01, 3.00000000e+01, 7.10000000e+01,\n",
       "       6.30000000e+01, 1.35000000e+02, 1.25000000e+02, 1.36000000e+02,\n",
       "       1.55000000e+02, 4.30000000e+01, 8.20000000e+01, 1.20000000e+02,\n",
       "       9.80000000e+01, 1.61000000e+02, 1.59000000e+02, 2.11000000e+02,\n",
       "       1.06000000e+02, 1.84000000e+02, 3.10000000e+01, 2.61000000e+02,\n",
       "       6.10000000e+01, 2.81000000e+02, 1.54000000e+02, 1.38000000e+02,\n",
       "       1.89000000e+02, 1.37000000e+02, 1.08000000e+02, 7.70000000e+01,\n",
       "       3.50000000e+01, 6.80000000e+01, 1.22000000e+02, 9.40000000e+01,\n",
       "       8.40000000e+01, 4.10000000e+01, 1.32000000e+02, 7.30000000e+01,\n",
       "       4.20000000e+01, 1.92000000e+02, 2.13000000e+02, 1.63000000e+02,\n",
       "       5.00000000e+01, 1.05000000e+02, 1.50000000e+02, 7.00000000e+01,\n",
       "       1.83000000e+02, 1.64000000e+02, 2.90000000e+01, 1.77000000e+02,\n",
       "       1.13000000e+02, 2.80000000e+01, 1.56000000e+02, 3.40000000e+01,\n",
       "       1.26000000e+02, 6.40000000e+01, 1.28000000e+02, 1.81000000e+02,\n",
       "       5.10000000e+01, 5.40000000e+01, 3.20000000e+01, 1.44000000e+02,\n",
       "       9.00000000e+01, 1.40000000e+02, 1.30000000e+02, 1.62000000e+02,\n",
       "       2.03000000e+02, 2.02000000e+02, 1.82000000e+02, 2.12000000e+02,\n",
       "       1.73000000e+02, 6.20000000e+01, 1.39000000e+02, 1.75000000e+02,\n",
       "       6.50000000e+01, 1.23000000e+02, 7.60000000e+01, 1.07000000e+02,\n",
       "       9.60000000e+01, 1.88000000e+02, 2.14000000e+02, 1.91000000e+02,\n",
       "       7.90000000e+01, 2.18000000e+02, 7.50000000e+01, 1.71000000e+02,\n",
       "       5.50000000e+01, 1.17000000e+02, 5.80000000e+01, 8.60000000e+01,\n",
       "       1.65000000e+02, 1.72000000e+02, 1.18000000e+02, 3.30000000e+01,\n",
       "       1.46000000e+02, 2.54000000e+02, 1.74000000e+02, 2.21000000e+02,\n",
       "       2.24000000e+02, 7.20000000e+01, 1.80000000e+02, 2.39000000e+02,\n",
       "       2.10000000e+02, 2.50000000e+02, 1.16000000e+02, 3.80000000e+01,\n",
       "       2.31000000e+02, 2.64000000e+02, 2.40000000e+02, 2.60000000e+02,\n",
       "       2.46000000e+02, 1.03000000e+02, 1.79000000e+02, 2.09000000e+02,\n",
       "       2.51000000e+02, 2.01000000e+02, 1.95000000e+02, 2.71000000e+02,\n",
       "       1.29000000e+02, 8.50000000e+01, 9.50000000e+01, 1.76000000e+02,\n",
       "       1.94000000e+02, 1.58000000e+02, 1.86000000e+02, 4.60000000e+01,\n",
       "       5.60000000e+01, 8.70000000e+01, 2.16000000e+02, 1.66000000e+02,\n",
       "       1.85000000e+02, 6.60000000e+01, 1.19000000e+02, 9.90000000e+01,\n",
       "       1.47000000e+02, 4.40000000e+01, 1.49000000e+02, 1.68000000e+02,\n",
       "       1.57000000e+02, 2.17000000e+02, 7.40000000e+01, 8.90000000e+01,\n",
       "       3.90000000e+01, 5.70000000e+01, 3.60000000e+01, 1.69000000e+02,\n",
       "       1.87000000e+02, 2.30000000e+01, 1.99000000e+02, 1.93000000e+02,\n",
       "       2.44000000e+02, 2.50000000e+01, 2.20000000e+01, 2.63000000e+02,\n",
       "       4.80000000e+01, 2.53000000e+02, 9.99400000e+03, 4.90000000e+01,\n",
       "       2.91000000e+02, 2.30000000e+02, 2.45000000e+02, 2.37000000e+02,\n",
       "       2.05000000e+02, 5.90000000e+01, 1.97000000e+02, 2.60000000e+01,\n",
       "       2.25000000e+02, 2.23000000e+02, 2.20000000e+02, 5.00000000e+00,\n",
       "       2.82000000e+02, 1.90000000e+02, 2.26000000e+02, 2.35000000e+02,\n",
       "       2.40000000e+01, 4.70000000e+01, 2.80000000e+02, 6.90000000e+01,\n",
       "       2.08000000e+02, 1.78000000e+02, 1.98000000e+02, 2.43000000e+02,\n",
       "       2.99000000e+02, 1.96000000e+02, 2.38000000e+02, 2.04000000e+02,\n",
       "       2.27000000e+02, 2.36000000e+02, 2.55000000e+02, 2.41000000e+02,\n",
       "       2.98000000e+02, 2.22000000e+02, 2.67000000e+02, 3.10000000e+02,\n",
       "       3.11000000e+02, 2.15000000e+02, 3.70000000e+01, 2.33000000e+02,\n",
       "       2.70000000e+01, 2.19000000e+02, 2.32000000e+02, 2.28000000e+02,\n",
       "       2.86000000e+02, 3.20000000e+02, 1.50000000e+01, 1.30000000e+01,\n",
       "       2.06000000e+02, 2.10000000e+01, 2.57000000e+02, 9.99500000e+03,\n",
       "       9.99600000e+03, 2.07000000e+02, 2.96000000e+02, 2.76000000e+02,\n",
       "       2.58000000e+02, 2.65000000e+02, 2.75000000e+02, 1.80000000e+01,\n",
       "       1.90000000e+01, 3.04000000e+02, 2.84000000e+02, 2.78000000e+02,\n",
       "       2.42000000e+02, 2.52000000e+02, 2.70000000e+02, 2.00000000e+01,\n",
       "       2.29000000e+02, 1.60000000e+01, 2.89000000e+02, 1.00000000e+01,\n",
       "       3.14000000e+02, 2.49000000e+02, 2.66000000e+02, 2.34000000e+02])"
      ]
     },
     "execution_count": 34,
     "metadata": {},
     "output_type": "execute_result"
    }
   ],
   "source": [
    "df['Childs\\'s weight in kilograms'].unique()"
   ]
  },
  {
   "cell_type": "code",
   "execution_count": 35,
   "id": "39f6e6d0-6c7e-4a10-9c4e-f8b22c28101b",
   "metadata": {},
   "outputs": [],
   "source": [
    "## CHILDS WEIGHT IN KILOGRAMS"
   ]
  },
  {
   "cell_type": "code",
   "execution_count": 36,
   "id": "abe397a2-665c-4a1a-acc9-acb7b91afacc",
   "metadata": {},
   "outputs": [],
   "source": [
    "\n",
    "index = df[(df['Childs\\'s weight in kilograms'] == 9994) | (df['Childs\\'s weight in kilograms'] == 9995 )| (df['Childs\\'s weight in kilograms'] == 9996 )| (df['Childs\\'s weight in kilograms'] == 9999 )].index\n",
    "df.drop(index,inplace=True)"
   ]
  },
  {
   "cell_type": "code",
   "execution_count": 37,
   "id": "add31072-05fd-4b61-b07c-d8cc6ecd6e05",
   "metadata": {},
   "outputs": [],
   "source": [
    "df['Childs\\'s weight in kilograms'] = df['Childs\\'s weight in kilograms']/10"
   ]
  },
  {
   "cell_type": "code",
   "execution_count": 38,
   "id": "bb995948-9c40-4852-8c9f-1f8210fcdbc5",
   "metadata": {},
   "outputs": [
    {
     "data": {
      "text/plain": [
       "0.5"
      ]
     },
     "execution_count": 38,
     "metadata": {},
     "output_type": "execute_result"
    }
   ],
   "source": [
    "df['Childs\\'s weight in kilograms'].min()"
   ]
  },
  {
   "cell_type": "code",
   "execution_count": 39,
   "id": "58ce2016-4042-49c6-b549-021cecc45a12",
   "metadata": {},
   "outputs": [
    {
     "data": {
      "text/plain": [
       "48.58887945093775"
      ]
     },
     "execution_count": 39,
     "metadata": {},
     "output_type": "execute_result"
    }
   ],
   "source": [
    "df['Childs\\'s weight in kilograms'].max()"
   ]
  },
  {
   "cell_type": "code",
   "execution_count": 40,
   "id": "a41fbed6-539f-4427-9342-bfe3c206577c",
   "metadata": {},
   "outputs": [
    {
     "data": {
      "text/plain": [
       "Childs's weight in kilograms\n",
       "48.588879    1710\n",
       "12.100000     447\n",
       "10.100000     425\n",
       "13.100000     400\n",
       "12.500000     355\n",
       "             ... \n",
       "29.900000       1\n",
       "23.800000       1\n",
       "23.600000       1\n",
       "29.800000       1\n",
       "23.400000       1\n",
       "Name: count, Length: 273, dtype: int64"
      ]
     },
     "execution_count": 40,
     "metadata": {},
     "output_type": "execute_result"
    }
   ],
   "source": [
    "df['Childs\\'s weight in kilograms'].value_counts()"
   ]
  },
  {
   "cell_type": "code",
   "execution_count": 41,
   "id": "e52bf9da-663c-4299-8243-bd7cfddc0497",
   "metadata": {},
   "outputs": [],
   "source": [
    "## CHILDS AGE IN MONTHS                      \n"
   ]
  },
  {
   "cell_type": "code",
   "execution_count": 42,
   "id": "919d538c-45eb-4a0d-b21e-e0d2488dc650",
   "metadata": {},
   "outputs": [
    {
     "data": {
      "text/plain": [
       "array([51.        , 12.        , 25.        , 13.        , 39.        ,\n",
       "       57.        ,  1.        , 11.        , 29.74257756, 36.        ,\n",
       "        6.        , 52.        , 31.        , 42.        , 32.        ,\n",
       "       56.        , 55.        , 17.        , 29.        , 22.        ,\n",
       "       21.        , 14.        , 26.        ,  7.        ,  8.        ,\n",
       "       15.        , 54.        , 30.        , 37.        , 16.        ,\n",
       "       43.        ,  3.        ,  0.        , 27.        , 53.        ,\n",
       "        9.        , 28.        , 50.        , 45.        , 40.        ,\n",
       "        5.        , 35.        , 44.        , 20.        , 24.        ,\n",
       "        2.        , 19.        , 49.        , 33.        , 58.        ,\n",
       "       41.        , 38.        , 47.        , 18.        ,  4.        ,\n",
       "       23.        , 10.        , 34.        , 46.        , 48.        ,\n",
       "       59.        ])"
      ]
     },
     "execution_count": 42,
     "metadata": {},
     "output_type": "execute_result"
    }
   ],
   "source": [
    "df['Childs\\'s age in months'].unique()                           \n"
   ]
  },
  {
   "cell_type": "code",
   "execution_count": 43,
   "id": "bcdae317-c4d5-4222-a1a1-e393dfc8b1f7",
   "metadata": {},
   "outputs": [
    {
     "data": {
      "text/plain": [
       "0.0"
      ]
     },
     "execution_count": 43,
     "metadata": {},
     "output_type": "execute_result"
    }
   ],
   "source": [
    "df['Childs\\'s age in months'].min()"
   ]
  },
  {
   "cell_type": "code",
   "execution_count": 44,
   "id": "76bd416d-67c6-44b0-be4f-5b3d9b6e3ed9",
   "metadata": {},
   "outputs": [
    {
     "data": {
      "text/plain": [
       "59.0"
      ]
     },
     "execution_count": 44,
     "metadata": {},
     "output_type": "execute_result"
    }
   ],
   "source": [
    "df['Childs\\'s age in months'].max()"
   ]
  },
  {
   "cell_type": "code",
   "execution_count": 45,
   "id": "b396d004-d5f5-4e29-821f-5effdf69dae2",
   "metadata": {},
   "outputs": [],
   "source": [
    "##"
   ]
  },
  {
   "cell_type": "code",
   "execution_count": 46,
   "id": "66c0c3ca-b873-477c-aece-926b4c537a1f",
   "metadata": {},
   "outputs": [
    {
     "data": {
      "text/plain": [
       "array([3.   , 2.4  , 9.996, 2.2  , 2.5  , 3.5  , 2.6  , 2.   , 1.89 ,\n",
       "       3.8  , 2.9  , 2.7  , 3.1  , 2.1  , 3.3  , 2.3  , 3.2  , 4.   ,\n",
       "       3.6  , 2.78 , 2.8  , 3.4  , 1.   , 2.75 , 6.   , 1.7  , 3.25 ,\n",
       "       3.05 , 1.9  , 3.03 , 3.9  , 5.   , 3.15 , 4.1  , 3.75 , 3.7  ,\n",
       "       1.3  , 2.72 , 4.3  , 1.5  , 1.2  , 5.3  , 4.8  , 4.14 , 2.48 ,\n",
       "       4.25 , 3.45 , 2.45 , 5.7  , 4.2  , 4.5  , 2.25 , 3.16 , 0.5  ,\n",
       "       2.36 , 2.74 , 1.28 , 2.05 , 2.92 , 1.4  , 1.76 , 1.67 , 2.85 ,\n",
       "       1.6  , 1.25 , 2.77 , 2.73 , 4.6  , 5.5  , 2.59 , 3.01 , 1.75 ,\n",
       "       1.8  , 2.35 , 0.8  , 8.   , 2.99 , 2.71 , 1.99 , 5.4  , 2.15 ,\n",
       "       2.68 , 2.95 , 4.7  , 2.79 , 2.96 , 3.07 , 2.76 , 1.77 , 1.78 ,\n",
       "       2.43 , 2.89 , 1.29 , 1.98 , 3.22 , 3.002, 2.94 , 3.79 , 2.55 ,\n",
       "       9.   , 6.5  , 3.019, 3.24 , 2.83 , 3.225, 2.87 , 0.7  , 4.4  ,\n",
       "       2.575, 2.49 , 3.56 , 2.155, 2.06 , 2.23 , 2.65 , 2.46 , 2.41 ,\n",
       "       2.38 , 0.6  , 2.075, 3.19 , 2.63 , 3.675, 3.98 , 3.08 , 3.54 ,\n",
       "       3.64 , 3.11 , 2.645, 2.745, 3.165, 2.515, 2.53 , 3.47 , 3.48 ,\n",
       "       3.185, 1.155, 0.88 , 3.12 , 2.81 , 2.975, 2.685, 3.415, 3.14 ,\n",
       "       2.415, 2.91 , 2.39 , 2.793, 3.835, 3.97 , 3.515, 2.855, 2.985,\n",
       "       3.13 , 2.355, 2.56 , 3.35 , 3.04 , 2.635, 3.39 , 2.97 , 2.07 ,\n",
       "       3.325, 1.92 , 1.91 , 3.245, 3.32 , 3.785, 3.215, 2.955, 3.62 ,\n",
       "       2.98 , 3.28 , 2.905, 3.37 , 3.001, 2.775, 2.613, 2.18 , 2.33 ,\n",
       "       2.725, 2.27 , 2.845, 2.006, 3.65 , 2.835, 3.85 , 2.875, 3.365,\n",
       "       1.45 , 3.38 , 3.125, 1.71 , 2.585, 3.535, 2.115, 2.965, 2.205,\n",
       "       2.885, 3.105, 2.93 , 3.015, 3.41 , 3.02 , 3.825, 2.275, 2.005,\n",
       "       2.17 , 2.69 , 2.517, 2.62 , 3.89 , 3.665, 4.37 , 3.42 , 3.36 ,\n",
       "       2.945, 2.12 , 4.75 , 2.007, 2.84 , 2.665, 3.003, 2.09 , 2.072,\n",
       "       2.51 , 1.05 , 1.1  , 2.34 , 2.225, 2.86 , 2.24 , 3.555, 1.15 ,\n",
       "       2.58 , 2.28 , 2.44 , 2.014, 2.54 , 2.001, 1.21 , 3.27 , 7.   ,\n",
       "       3.51 , 2.52 , 2.47 , 2.21 , 1.245, 3.135, 2.67 , 1.85 , 2.089,\n",
       "       2.004, 2.445, 2.012, 2.42 , 1.01 , 2.963, 0.9  , 2.009, 2.916,\n",
       "       2.804, 3.025, 3.57 , 2.025, 3.745, 4.9  , 3.475, 3.004, 2.068,\n",
       "       4.015, 2.02 , 1.65 , 3.065, 3.72 , 2.88 , 2.11 , 3.88 , 1.18 ,\n",
       "       3.575, 2.096, 2.324, 2.519, 6.2  , 2.831, 2.375, 2.246, 1.075,\n",
       "       4.45 , 3.005, 1.14 , 9.98 , 3.73 , 5.2  , 5.1  , 1.68 , 3.159,\n",
       "       2.895, 2.087, 2.82 , 4.17 , 0.75 , 2.66 , 1.49 , 4.225, 3.68 ,\n",
       "       7.75 , 3.176, 2.535, 2.943, 2.01 , 2.525, 3.905, 3.17 , 2.049,\n",
       "       3.378, 2.755, 3.74 , 1.658, 2.815, 2.865, 3.845, 3.445, 2.468,\n",
       "       2.64 , 3.006, 3.011, 2.839, 3.035, 2.093, 2.31 , 3.223, 2.765,\n",
       "       2.153, 3.71 , 2.008, 2.812, 3.285, 1.35 , 3.44 , 2.925, 1.175,\n",
       "       9.5  , 2.505, 1.885, 2.742, 4.02 , 2.29 , 2.448, 1.95 , 2.08 ,\n",
       "       2.549, 3.23 , 2.578, 3.556, 2.083, 1.79 , 3.26 , 2.165, 2.769,\n",
       "       3.075, 2.094, 3.241, 2.32 , 4.05 , 2.345, 3.455, 2.365, 1.725,\n",
       "       2.57 , 2.22 , 3.53 , 2.914, 5.25 , 2.319, 1.099, 2.694, 2.712,\n",
       "       2.772, 3.154, 1.606, 3.275, 2.522, 2.208, 3.55 , 3.725, 3.31 ,\n",
       "       1.59 , 3.155, 3.287, 3.67 , 5.6  , 2.26 , 1.575, 3.18 , 2.785,\n",
       "       2.125, 2.185, 2.414, 2.545, 2.055, 3.107])"
      ]
     },
     "execution_count": 46,
     "metadata": {},
     "output_type": "execute_result"
    }
   ],
   "source": [
    "df['Birth weight in kilograms'].unique()"
   ]
  },
  {
   "cell_type": "code",
   "execution_count": 47,
   "id": "84085581-fba9-40e4-8c8e-590b3ca6eaa1",
   "metadata": {},
   "outputs": [],
   "source": [
    "\n",
    "index = df[(df['Birth weight in kilograms'] == 9.98) | (df['Birth weight in kilograms'] == 9.5)| (df['Birth weight in kilograms'] == 9.999 )].index\n",
    "df.drop(index,inplace=True)"
   ]
  },
  {
   "cell_type": "code",
   "execution_count": 48,
   "id": "5a8a11d1-f463-4cc8-971d-47a7febb8a8b",
   "metadata": {},
   "outputs": [
    {
     "data": {
      "text/plain": [
       "0.5"
      ]
     },
     "execution_count": 48,
     "metadata": {},
     "output_type": "execute_result"
    }
   ],
   "source": [
    "df['Birth weight in kilograms'].min()"
   ]
  },
  {
   "cell_type": "code",
   "execution_count": 49,
   "id": "6216967c-ba80-4923-8341-d889e9aced53",
   "metadata": {},
   "outputs": [
    {
     "data": {
      "text/plain": [
       "9.996"
      ]
     },
     "execution_count": 49,
     "metadata": {},
     "output_type": "execute_result"
    }
   ],
   "source": [
    "df['Birth weight in kilograms'].max()"
   ]
  },
  {
   "cell_type": "code",
   "execution_count": 50,
   "id": "7c184a28-ec4f-4fd7-8d3d-f1ea004e4738",
   "metadata": {},
   "outputs": [
    {
     "data": {
      "text/plain": [
       "array([3, 2, 4, 5, 1, 8])"
      ]
     },
     "execution_count": 50,
     "metadata": {},
     "output_type": "execute_result"
    }
   ],
   "source": [
    "df['Size of child at birth'].unique()"
   ]
  },
  {
   "cell_type": "code",
   "execution_count": 51,
   "id": "63c3cc30-926f-42c2-9099-f1fa7d109099",
   "metadata": {},
   "outputs": [],
   "source": [
    "\n",
    "index = df[(df['Size of child at birth'] == 8)].index\n",
    "df.drop(index,inplace=True)"
   ]
  },
  {
   "cell_type": "code",
   "execution_count": 52,
   "id": "f053ffd9-64e8-4716-93dc-9cae1026dd76",
   "metadata": {},
   "outputs": [],
   "source": [
    "df['Size of child at birth'] = df['Size of child at birth'].replace({1:'Very Large',2:'Larger than Average',3:'Average',4:'Smaller than Average',5:'Very Small'})"
   ]
  },
  {
   "cell_type": "code",
   "execution_count": 53,
   "id": "e334fb62-1eae-4d28-a0ad-dcd09a6d197b",
   "metadata": {},
   "outputs": [
    {
     "data": {
      "text/plain": [
       "array(['Average', 'Larger than Average', 'Smaller than Average',\n",
       "       'Very Small', 'Very Large'], dtype=object)"
      ]
     },
     "execution_count": 53,
     "metadata": {},
     "output_type": "execute_result"
    }
   ],
   "source": [
    "df['Size of child at birth'].unique()"
   ]
  },
  {
   "cell_type": "code",
   "execution_count": 54,
   "id": "fbe56ddb-2da5-44e7-8f3e-bdcd1f13609f",
   "metadata": {},
   "outputs": [],
   "source": [
    "## SEX OF CHILD"
   ]
  },
  {
   "cell_type": "code",
   "execution_count": 55,
   "id": "e893ae80-1f2f-4955-b26a-fb9204bf5c95",
   "metadata": {},
   "outputs": [
    {
     "data": {
      "text/plain": [
       "array([1, 2])"
      ]
     },
     "execution_count": 55,
     "metadata": {},
     "output_type": "execute_result"
    }
   ],
   "source": [
    "df['Sex of child'].unique()"
   ]
  },
  {
   "cell_type": "code",
   "execution_count": 56,
   "id": "89f2f185-7e37-4786-8098-a368286e2ce4",
   "metadata": {},
   "outputs": [],
   "source": [
    "df['Sex of child'] = df['Sex of child'].replace({1:'Male',2:'Female'})\n"
   ]
  },
  {
   "cell_type": "code",
   "execution_count": 57,
   "id": "d6077f7a-0c4e-4b56-9d0b-284ec986cb15",
   "metadata": {},
   "outputs": [
    {
     "data": {
      "text/plain": [
       "array(['Male', 'Female'], dtype=object)"
      ]
     },
     "execution_count": 57,
     "metadata": {},
     "output_type": "execute_result"
    }
   ],
   "source": [
    "df['Sex of child'].unique()"
   ]
  },
  {
   "cell_type": "code",
   "execution_count": 58,
   "id": "b5ca605b-66ba-400b-8d84-8be1cff9766d",
   "metadata": {},
   "outputs": [
    {
     "data": {
      "text/plain": [
       "array([3.02043796, 3.        , 5.        , 0.        , 1.        ,\n",
       "       4.        , 8.        ])"
      ]
     },
     "execution_count": 58,
     "metadata": {},
     "output_type": "execute_result"
    }
   ],
   "source": [
    "df['Father\\'s educational attainment'].unique()"
   ]
  },
  {
   "cell_type": "code",
   "execution_count": 59,
   "id": "14fd651d-c817-416c-8f54-1c0ec3a84ae4",
   "metadata": {},
   "outputs": [],
   "source": [
    "tolerance = 1e-7 \n",
    "df['Father\\'s educational attainment'] = df['Father\\'s educational attainment'].apply(lambda x: 3 if abs(x - 3.02043796) < tolerance else x)\n"
   ]
  },
  {
   "cell_type": "code",
   "execution_count": 60,
   "id": "2a7eec79-50ed-4033-a2f4-525738302846",
   "metadata": {},
   "outputs": [],
   "source": [
    "df['Father\\'s educational attainment'] = df['Father\\'s educational attainment'].replace({0:'No education',1:'Incomplete Primary',2:'Complete Primary',3:'Incomplete Secondary',4:'Complete Secondary',5:'Higher'})"
   ]
  },
  {
   "cell_type": "code",
   "execution_count": 61,
   "id": "0755b3fc-e149-47bb-9302-f011c518de80",
   "metadata": {},
   "outputs": [],
   "source": [
    "\n",
    "index = df[(df['Father\\'s educational attainment'] == 8)].index\n",
    "df.drop(index,inplace=True)"
   ]
  },
  {
   "cell_type": "code",
   "execution_count": 62,
   "id": "23d302b2-2f87-4db6-a58e-5940d01fc544",
   "metadata": {},
   "outputs": [
    {
     "data": {
      "text/plain": [
       "array(['Incomplete Secondary', 'Higher', 'No education',\n",
       "       'Incomplete Primary', 'Complete Secondary'], dtype=object)"
      ]
     },
     "execution_count": 62,
     "metadata": {},
     "output_type": "execute_result"
    }
   ],
   "source": [
    "df['Father\\'s educational attainment'].unique()"
   ]
  },
  {
   "cell_type": "code",
   "execution_count": 63,
   "id": "90016594-3147-40a9-ac4f-3d218894f9a4",
   "metadata": {},
   "outputs": [
    {
     "data": {
      "text/plain": [
       "array([0, 1])"
      ]
     },
     "execution_count": 63,
     "metadata": {},
     "output_type": "execute_result"
    }
   ],
   "source": [
    "df['Mother Snuffs by nose'].unique()"
   ]
  },
  {
   "cell_type": "code",
   "execution_count": 64,
   "id": "6ad9b2bc-8456-4a46-9934-191ccd4122a1",
   "metadata": {},
   "outputs": [],
   "source": [
    "df['Mother Snuffs by nose'] = df['Mother Snuffs by nose'].replace({0:'No',1:'Yes'})"
   ]
  },
  {
   "cell_type": "code",
   "execution_count": 65,
   "id": "2a9a060f-371d-4ef8-a11d-05df65c29cfe",
   "metadata": {},
   "outputs": [
    {
     "data": {
      "text/plain": [
       "array(['No', 'Yes'], dtype=object)"
      ]
     },
     "execution_count": 65,
     "metadata": {},
     "output_type": "execute_result"
    }
   ],
   "source": [
    "df['Mother Snuffs by nose'].unique()"
   ]
  },
  {
   "cell_type": "code",
   "execution_count": 66,
   "id": "7013a8b7-d2ab-48d9-9fde-52372a71fae3",
   "metadata": {},
   "outputs": [
    {
     "data": {
      "text/plain": [
       "array([0, 1])"
      ]
     },
     "execution_count": 66,
     "metadata": {},
     "output_type": "execute_result"
    }
   ],
   "source": [
    "df['Mother Chews tobacco'].unique()"
   ]
  },
  {
   "cell_type": "code",
   "execution_count": 67,
   "id": "192cd6bc-ee69-4161-a378-776442218965",
   "metadata": {},
   "outputs": [],
   "source": [
    "df['Mother Chews tobacco'] = df['Mother Chews tobacco'].replace({0:'No',1:'Yes'})"
   ]
  },
  {
   "cell_type": "code",
   "execution_count": 68,
   "id": "34d46352-e70e-4dfb-9f43-db766fb1c334",
   "metadata": {},
   "outputs": [
    {
     "data": {
      "text/plain": [
       "array(['No', 'Yes'], dtype=object)"
      ]
     },
     "execution_count": 68,
     "metadata": {},
     "output_type": "execute_result"
    }
   ],
   "source": [
    "df['Mother Chews tobacco'].unique()"
   ]
  },
  {
   "cell_type": "code",
   "execution_count": 69,
   "id": "28afde26-242d-4ef8-abe9-cb998eca0318",
   "metadata": {},
   "outputs": [],
   "source": [
    "## MOTHER SMOKES PIPE FULL OF TOBACCO"
   ]
  },
  {
   "cell_type": "code",
   "execution_count": 70,
   "id": "e2158d2b-82c1-4739-ac06-2e4687d3848f",
   "metadata": {},
   "outputs": [
    {
     "data": {
      "text/plain": [
       "array([0, 1])"
      ]
     },
     "execution_count": 70,
     "metadata": {},
     "output_type": "execute_result"
    }
   ],
   "source": [
    "df['Mother Smokes pipe full of tobacco'].unique()"
   ]
  },
  {
   "cell_type": "code",
   "execution_count": 71,
   "id": "cf99691d-d6da-4546-ad79-8e6fd8f8250d",
   "metadata": {},
   "outputs": [],
   "source": [
    "df['Mother Smokes pipe full of tobacco'] = df['Mother Smokes pipe full of tobacco'].replace({0:'No',1:'Yes'})"
   ]
  },
  {
   "cell_type": "code",
   "execution_count": 72,
   "id": "bf982795-9785-43b0-bf52-550a903b531f",
   "metadata": {},
   "outputs": [
    {
     "data": {
      "text/plain": [
       "array(['No', 'Yes'], dtype=object)"
      ]
     },
     "execution_count": 72,
     "metadata": {},
     "output_type": "execute_result"
    }
   ],
   "source": [
    "df['Mother Smokes pipe full of tobacco'].unique()"
   ]
  },
  {
   "cell_type": "code",
   "execution_count": 73,
   "id": "596baff3-db0a-4d45-9d92-9d16a2bf702b",
   "metadata": {},
   "outputs": [
    {
     "data": {
      "text/plain": [
       "array([2, 1])"
      ]
     },
     "execution_count": 73,
     "metadata": {},
     "output_type": "execute_result"
    }
   ],
   "source": [
    "df['Mother\\'s Under age 18 at time of birth'].unique()  "
   ]
  },
  {
   "cell_type": "code",
   "execution_count": 74,
   "id": "fab2e8b4-c7d3-4edb-bca4-2fb631786989",
   "metadata": {},
   "outputs": [],
   "source": [
    "df['Mother\\'s Under age 18 at time of birth'] = df['Mother\\'s Under age 18 at time of birth'].replace({1:'Under age 18',2:'Age 18 or Older'})"
   ]
  },
  {
   "cell_type": "code",
   "execution_count": 75,
   "id": "6f4c34ad-0143-4f47-b6d9-2af605c48fc2",
   "metadata": {},
   "outputs": [
    {
     "data": {
      "text/plain": [
       "array(['Age 18 or Older', 'Under age 18'], dtype=object)"
      ]
     },
     "execution_count": 75,
     "metadata": {},
     "output_type": "execute_result"
    }
   ],
   "source": [
    "df['Mother\\'s Under age 18 at time of birth'].unique()  "
   ]
  },
  {
   "cell_type": "code",
   "execution_count": 76,
   "id": "2663dae5-a6c9-47a4-9164-79699656259c",
   "metadata": {},
   "outputs": [],
   "source": [
    "# TYPE OF PLACE OF RESIDENCE"
   ]
  },
  {
   "cell_type": "code",
   "execution_count": 77,
   "id": "0b300f6e-e2fb-4bfe-8ffc-954725e9a83b",
   "metadata": {},
   "outputs": [
    {
     "data": {
      "text/plain": [
       "array([2, 1])"
      ]
     },
     "execution_count": 77,
     "metadata": {},
     "output_type": "execute_result"
    }
   ],
   "source": [
    "df['Type of place of residence'].unique()"
   ]
  },
  {
   "cell_type": "code",
   "execution_count": 78,
   "id": "e8ac864d-4c46-4a80-8eaa-883ab33652e6",
   "metadata": {},
   "outputs": [],
   "source": [
    "df['Type of place of residence'] = df['Type of place of residence'].replace({1:'Urban',2:'Rural'})"
   ]
  },
  {
   "cell_type": "code",
   "execution_count": 79,
   "id": "33800a71-1731-422e-9738-d02e97614ddf",
   "metadata": {},
   "outputs": [
    {
     "data": {
      "text/plain": [
       "array(['Rural', 'Urban'], dtype=object)"
      ]
     },
     "execution_count": 79,
     "metadata": {},
     "output_type": "execute_result"
    }
   ],
   "source": [
    "df['Type of place of residence'].unique()"
   ]
  },
  {
   "cell_type": "code",
   "execution_count": 80,
   "id": "658cd3a6-4ba9-49b9-9049-c60294b052c9",
   "metadata": {},
   "outputs": [],
   "source": [
    "# SOURCE OF DRINKING WATER"
   ]
  },
  {
   "cell_type": "code",
   "execution_count": 81,
   "id": "db264547-9d13-476a-853b-d54d28e1e467",
   "metadata": {},
   "outputs": [
    {
     "data": {
      "text/plain": [
       "array([14, 12, 11, 31, 42, 43, 97, 21, 41, 13, 32, 61, 62, 92, 96, 71, 51])"
      ]
     },
     "execution_count": 81,
     "metadata": {},
     "output_type": "execute_result"
    }
   ],
   "source": [
    "df['Source of drinking water'].unique()\n"
   ]
  },
  {
   "cell_type": "code",
   "execution_count": 82,
   "id": "615caa93-f976-42f3-8210-c5936aad2d49",
   "metadata": {},
   "outputs": [],
   "source": [
    "df['Source of drinking water']=df['Source of drinking water']=df['Source of drinking water'].replace({10:'Piped Water',11:'Piped into dwelling',12:'Piped to yard/plot',13:'Piped to neighbor',14:'Public tap/standpipe',20:'tubewell water',21:'Tubewell/ borehole',30:'Dug well(Open/Protected)',31:'Protected well',32:'Unprotected well',40:'Surface from spring',41:'Protected Spring',42:'Unprotected Spring',43:'River/lake/dam/ponds/stream/canal/irrigation channel',51:'Rainwater',61:'Tanker truck',62:'Cart with small tank',71:'Bottled water'})"
   ]
  },
  {
   "cell_type": "code",
   "execution_count": 83,
   "id": "6c4d6625-4876-43c1-bac3-6654560b9f74",
   "metadata": {},
   "outputs": [],
   "source": [
    "index = df[(df['Source of drinking water'] == 96) | (df['Source of drinking water']==97) | (df['Source of drinking water'] ==99 )|df['Source of drinking water'] == 92 ].index\n",
    "df.drop(index,inplace = True)\n"
   ]
  },
  {
   "cell_type": "code",
   "execution_count": 84,
   "id": "57229252-5d5c-40e9-93e8-8557c0312299",
   "metadata": {},
   "outputs": [
    {
     "data": {
      "text/plain": [
       "array(['Public tap/standpipe', 'Piped to yard/plot',\n",
       "       'Piped into dwelling', 'Protected well', 'Unprotected Spring',\n",
       "       'River/lake/dam/ponds/stream/canal/irrigation channel', 97,\n",
       "       'Tubewell/ borehole', 'Protected Spring', 'Piped to neighbor',\n",
       "       'Unprotected well', 'Tanker truck', 'Cart with small tank', 92, 96,\n",
       "       'Bottled water', 'Rainwater'], dtype=object)"
      ]
     },
     "execution_count": 84,
     "metadata": {},
     "output_type": "execute_result"
    }
   ],
   "source": [
    "df['Source of drinking water'].unique()"
   ]
  },
  {
   "cell_type": "code",
   "execution_count": 85,
   "id": "5df882cc-02f0-4bca-922e-2aa4ca59f290",
   "metadata": {},
   "outputs": [],
   "source": [
    "## NUMBER OF HOUSEHOLD MEMBERS"
   ]
  },
  {
   "cell_type": "code",
   "execution_count": 86,
   "id": "cd1a3a2b-4ba1-4ade-80d6-cf180adc36d9",
   "metadata": {},
   "outputs": [
    {
     "data": {
      "text/plain": [
       "array([ 6,  3,  5,  4,  7,  8,  9, 11, 12, 13, 10,  2, 15, 14, 17,  1, 19,\n",
       "       18, 21, 23, 16, 20, 24, 25, 28])"
      ]
     },
     "execution_count": 86,
     "metadata": {},
     "output_type": "execute_result"
    }
   ],
   "source": [
    "df['Number of household members'].unique()"
   ]
  },
  {
   "cell_type": "code",
   "execution_count": 87,
   "id": "3f561b0b-ff0b-4da4-90ba-67fa8ab4bca9",
   "metadata": {},
   "outputs": [
    {
     "data": {
      "text/plain": [
       "1"
      ]
     },
     "execution_count": 87,
     "metadata": {},
     "output_type": "execute_result"
    }
   ],
   "source": [
    "df['Number of household members'].min()"
   ]
  },
  {
   "cell_type": "code",
   "execution_count": 88,
   "id": "83d3db5a-4f9f-49a6-aa45-4cf4c026471f",
   "metadata": {},
   "outputs": [
    {
     "data": {
      "text/plain": [
       "28"
      ]
     },
     "execution_count": 88,
     "metadata": {},
     "output_type": "execute_result"
    }
   ],
   "source": [
    "df['Number of household members'].max()"
   ]
  },
  {
   "cell_type": "code",
   "execution_count": 89,
   "id": "691b9fc3-4044-4b53-bc87-841d76c1410e",
   "metadata": {},
   "outputs": [],
   "source": [
    "## WEALTH INDEX FACTOR SCORE COMBINED"
   ]
  },
  {
   "cell_type": "code",
   "execution_count": 90,
   "id": "6c13fde8-d730-426b-ba3b-da56519b86ee",
   "metadata": {},
   "outputs": [
    {
     "data": {
      "text/plain": [
       "array([  484230,  -881310, -1315280, ..., -1125840,  -977970,  -889330])"
      ]
     },
     "execution_count": 90,
     "metadata": {},
     "output_type": "execute_result"
    }
   ],
   "source": [
    "df['Wealth index factor score combined'].unique()"
   ]
  },
  {
   "cell_type": "code",
   "execution_count": 91,
   "id": "2e794fa1-6f1b-4ae3-86cf-01ec38b0a4e7",
   "metadata": {},
   "outputs": [],
   "source": [
    "df['Wealth index factor score combined'] = df['Wealth index factor score combined']/100000"
   ]
  },
  {
   "cell_type": "code",
   "execution_count": 92,
   "id": "ec47062e-31f7-4094-91f9-f01dbdbb0387",
   "metadata": {},
   "outputs": [
    {
     "data": {
      "text/plain": [
       "array([  4.8423,  -8.8131, -13.1528, ..., -11.2584,  -9.7797,  -8.8933])"
      ]
     },
     "execution_count": 92,
     "metadata": {},
     "output_type": "execute_result"
    }
   ],
   "source": [
    "df['Wealth index factor score combined'].unique()"
   ]
  },
  {
   "cell_type": "code",
   "execution_count": 93,
   "id": "4d3486ae-84c0-4749-a196-f652be5de18b",
   "metadata": {},
   "outputs": [],
   "source": [
    "## WEALTH INDEX FACTOR SCORE FOR URBAN/RURAL"
   ]
  },
  {
   "cell_type": "code",
   "execution_count": 94,
   "id": "ac9fc20e-e95c-4ce9-b583-b336bea38dec",
   "metadata": {},
   "outputs": [
    {
     "data": {
      "text/plain": [
       "array([  833130,  -667160, -1143950, ...,  -935810,  -773360,  -675970])"
      ]
     },
     "execution_count": 94,
     "metadata": {},
     "output_type": "execute_result"
    }
   ],
   "source": [
    "df['Wealth index factor score for urban/rural'].unique()"
   ]
  },
  {
   "cell_type": "code",
   "execution_count": 95,
   "id": "f5423799-35bf-4c2a-a3f8-ab47976969a4",
   "metadata": {},
   "outputs": [],
   "source": [
    "df['Wealth index factor score for urban/rural'] = df['Wealth index factor score for urban/rural']/100000"
   ]
  },
  {
   "cell_type": "code",
   "execution_count": 96,
   "id": "d694dc10-e043-4197-8769-7ab7da0376eb",
   "metadata": {},
   "outputs": [
    {
     "data": {
      "text/plain": [
       "array([  8.3313,  -6.6716, -11.4395, ...,  -9.3581,  -7.7336,  -6.7597])"
      ]
     },
     "execution_count": 96,
     "metadata": {},
     "output_type": "execute_result"
    }
   ],
   "source": [
    "df['Wealth index factor score for urban/rural'].unique()"
   ]
  },
  {
   "cell_type": "code",
   "execution_count": 97,
   "id": "86252b2f-73ab-4c21-adcf-ebc1a78d3848",
   "metadata": {},
   "outputs": [],
   "source": [
    "## MOTHERS WEIGHT IN KG"
   ]
  },
  {
   "cell_type": "code",
   "execution_count": 98,
   "id": "92068b97-c2bd-46bf-8b2f-989af0ff2b4d",
   "metadata": {},
   "outputs": [
    {
     "data": {
      "text/plain": [
       "array([ 760.        ,  438.        ,  753.        ,  655.        ,\n",
       "        605.        ,  801.        ,  588.        ,  600.        ,\n",
       "        420.        ,  745.        ,  515.        ,  602.        ,\n",
       "        577.        ,  578.        ,  557.        ,  584.        ,\n",
       "        604.        ,  624.        ,  496.        ,  811.        ,\n",
       "        633.        ,  631.        ,  721.        ,  613.        ,\n",
       "        644.        ,  614.        ,  565.        ,  598.        ,\n",
       "        524.        ,  610.        ,  728.        ,  513.        ,\n",
       "        627.        ,  514.        ,  595.        ,  652.        ,\n",
       "        512.        ,  555.        ,  502.        ,  494.        ,\n",
       "        506.        ,  813.        ,  589.        ,  691.        ,\n",
       "        603.        ,  771.        ,  804.        ,  535.        ,\n",
       "        544.        ,  572.        ,  815.        ,  560.        ,\n",
       "        505.        ,  701.        ,  568.        ,  873.        ,\n",
       "        637.        ,  520.        ,  533.        ,  601.        ,\n",
       "        583.        ,  623.        ,  634.        ,  551.        ,\n",
       "        531.        ,  599.        ,  638.        ,  522.        ,\n",
       "        523.        ,  563.        ,  616.        ,  654.        ,\n",
       "        483.        ,  518.        ,  545.        ,  593.        ,\n",
       "        622.        ,  594.        ,  677.        ,  541.        ,\n",
       "        564.        ,  697.        ,  612.        ,  550.        ,\n",
       "        554.        ,  592.        , 9994.        ,  510.        ,\n",
       "        597.        ,  540.        ,  683.        ,  636.        ,\n",
       "        562.        ,  596.        ,  672.        ,  706.        ,\n",
       "        576.        ,  643.        ,  546.        ,  661.        ,\n",
       "        534.        ,  571.        ,  726.        ,  561.        ,\n",
       "        651.        ,  530.        ,  733.        ,  430.        ,\n",
       "        621.        ,  481.        ,  478.        ,  608.        ,\n",
       "        501.        ,  648.        ,  539.        ,  521.        ,\n",
       "        615.        ,  667.        ,  625.        ,  552.        ,\n",
       "        559.        ,  629.        ,  865.        ,  498.        ,\n",
       "       9995.        ,  446.        ,  503.        ,  662.        ,\n",
       "        645.        ,  653.        ,  635.        ,  712.        ,\n",
       "        746.        ,  682.        ,  632.        ,  715.        ,\n",
       "        669.        ,  511.        ,  504.        ,  586.        ,\n",
       "        708.        ,  458.        , 1497.        ,  628.        ,\n",
       "        575.        ,  558.        ,  425.        ,  679.        ,\n",
       "        574.        ,  716.        ,  591.        ,  499.        ,\n",
       "        675.        ,  556.        ,  647.        ,  695.        ,\n",
       "        650.        ,  567.        ,  587.        ,  526.        ,\n",
       "        547.        ,  687.        ,  611.        ,  590.        ,\n",
       "        720.        ,  738.        ,  681.        ,  630.        ,\n",
       "        686.        ,  694.        ,  703.        ,  579.        ,\n",
       "        734.        ,  714.        ,  727.        ,  663.        ,\n",
       "        516.        ,  491.        ,  582.        ,  761.        ,\n",
       "        618.        ,  472.        ,  468.        ,  639.        ,\n",
       "        735.        ,  668.        ,  659.        ,  707.        ,\n",
       "        537.        ,  442.        ,  692.        ,  711.        ,\n",
       "        525.        ,  676.        ,  488.        ,  699.        ,\n",
       "        581.        ,  580.        ,  689.        ,  620.        ,\n",
       "        693.        ,  553.        ,  542.        ,  684.        ,\n",
       "        671.        ,  657.        ,  607.        ,  724.        ,\n",
       "        454.        ,  482.        ,  664.        ,  543.        ,\n",
       "        723.        ,  450.        ,  641.        ,  451.        ,\n",
       "        500.        ,  673.        ,  606.        ,  750.        ,\n",
       "        617.        ,  642.        ,  549.        ,  725.        ,\n",
       "        763.        ,  626.        ,  536.        ,  431.        ,\n",
       "        573.        ,  471.        ,  456.        ,  480.        ,\n",
       "        787.        ,  570.        ,  646.        ,  477.        ,\n",
       "        795.        ,  412.        ,  474.        ,  731.        ,\n",
       "        487.        ,  485.        ,  702.        ,  649.        ,\n",
       "        527.        ,  497.        ,  495.        ,  479.        ,\n",
       "        424.        ,  493.        ,  509.        ,  452.        ,\n",
       "        473.        ,  678.        ,  419.        ,  757.        ,\n",
       "        548.        ,  737.        ,  685.        ,  428.        ,\n",
       "        355.        ,  538.        ,  585.        ,  784.        ,\n",
       "        747.        ,  403.        ,  492.        ,  467.        ,\n",
       "        489.        ,  569.        ,  830.        ,  762.        ,\n",
       "        713.        ,  640.        ,  447.        ,  722.        ,\n",
       "        366.        ,  680.        ,  508.        ,  566.        ,\n",
       "        532.        ,  484.        ,  768.        ,  507.        ,\n",
       "        688.        ,  443.        ,  404.        ,  421.        ,\n",
       "        461.        ,  441.        ,  803.        ,  619.        ,\n",
       "        397.        ,  742.        ,  486.        ,  782.        ,\n",
       "        816.        ,  411.        ,  903.        ,  846.        ,\n",
       "        462.        ,  754.        ,  656.        ,  435.        ,\n",
       "        852.        ,  395.        ,  312.        ,  394.        ,\n",
       "        674.        ,  396.        ,  519.        ,  359.        ,\n",
       "        465.        ,  437.        ,  402.        ,  919.        ,\n",
       "        466.        ,  529.        ,  690.        ,  436.        ,\n",
       "        400.        ,  373.        ,  406.        ,  434.        ,\n",
       "        418.        ,  409.        ,  384.        ,  380.        ,\n",
       "        475.        ,  460.        ,  337.        ,  832.        ,\n",
       "        490.        ,  426.        ,  729.        ,  470.        ,\n",
       "        379.        ,  831.        ,  408.        ,  783.        ,\n",
       "        457.        ,  851.        ,  670.        ,  950.        ,\n",
       "        349.        ,  863.        ,  736.        ,  956.        ,\n",
       "        769.        ,  741.        ,  665.        ,  423.        ,\n",
       "        775.        , 1069.        ,  658.        ,  732.        ,\n",
       "        398.        ,  770.        ,  854.        ,  805.        ,\n",
       "       1431.        ,  777.        ,  857.        ,  368.        ,\n",
       "        790.        ,  860.        ,  439.        ,  817.        ,\n",
       "        839.        ,  824.        ,  840.        ,  856.        ,\n",
       "        765.        ,  922.        ,  906.        ,  666.        ,\n",
       "        705.        ,  923.        ,  698.        ,  660.        ,\n",
       "        792.        ,  718.        ,  739.        ,  891.        ,\n",
       "        791.        ,  528.        ,  704.        ,  740.        ,\n",
       "        898.        ,  719.        ,  864.        ,  405.        ,\n",
       "        859.        ,  807.        ,  700.        ,  785.        ,\n",
       "        362.        ,  845.        ,  759.        ,  764.        ,\n",
       "        696.        ,  773.        ,  751.        ,  779.        ,\n",
       "        841.        ,  440.        ,  357.        ,  710.        ,\n",
       "        476.        ,  445.        ,  772.        ,  459.        ,\n",
       "        250.        ,  998.        ,  390.        ,  994.        ,\n",
       "        463.        ,  838.        ,  743.        ,  748.        ,\n",
       "        885.        ,  401.        ,  709.        ,  391.        ,\n",
       "        744.        ,  416.        ,  823.        ,  755.        ,\n",
       "        609.        ,  800.        ,  517.        ,  453.        ,\n",
       "        749.        ,  798.        ,  388.        ,  820.        ,\n",
       "        810.        , 1013.        ,  448.        ,  415.        ,\n",
       "        455.        ,  399.        ,  407.        ,  432.        ,\n",
       "        464.        ,  981.        ,  897.        ,  444.        ,\n",
       "        871.        ,  352.        ,  410.        ,  381.        ,\n",
       "        786.        ,  469.        ,  338.        ,  730.        ,\n",
       "        717.        ,  429.        ,  819.        ,  776.        ,\n",
       "        778.        ,  781.        ,  905.        ,  788.        ,\n",
       "        427.        ,  843.        ,  422.        ,  758.        ,\n",
       "        821.        ,  802.        ,  809.        ,  369.        ,\n",
       "        372.        ,  377.        ,  364.        ,  370.        ,\n",
       "        844.        ,  383.        ,  414.        ,  433.        ,\n",
       "        874.        ,  371.        ,  449.        , 9996.        ,\n",
       "        342.        ,  310.        ,  413.        ,  332.        ,\n",
       "        305.        ,  363.        ,  387.        ,  350.        ,\n",
       "        299.        ,  361.        ,  904.        ,  866.        ,\n",
       "        385.        ,  367.        ,  382.        ,  334.        ,\n",
       "        393.        ,  392.        ,  351.        ,  376.        ,\n",
       "        336.        ,  793.        , 1016.        ,  766.        ,\n",
       "        339.        ,  858.        ,  356.        ,  348.        ,\n",
       "        847.        ,  957.        ,  849.        ,  835.        ,\n",
       "        417.        ,  861.        ,  346.        ,  774.        ,\n",
       "        374.        ,  855.        ,  789.        ,  328.        ,\n",
       "        375.        ,  780.        ,  826.        ,  825.        ,\n",
       "        341.        ,  347.        ,  921.        ,  354.        ,\n",
       "        353.        ,  378.        ,  822.        ,  808.        ,\n",
       "        916.        ,  812.        ,  797.        ,  884.        ,\n",
       "       1006.        ,  989.        ,  910.        ,  806.        ,\n",
       "        818.        ,  848.        ,  330.        ,  932.        ,\n",
       "        902.        ,  883.        ,  938.        ,  965.        ,\n",
       "        340.        ,  842.        ,  899.        ,  814.        ,\n",
       "        756.        ,  975.        ,  877.        ,  872.        ,\n",
       "        971.        ,  892.        ,  389.        ,  985.        ,\n",
       "        314.        ,  867.        ,  767.        ,  882.        ,\n",
       "        954.        ,  976.        ,  887.        ,  837.        ,\n",
       "       1052.        ,  853.        ,  995.        ,  953.        ,\n",
       "        988.        ,  279.        , 1011.        ,  946.        ,\n",
       "        358.        ,  799.        ,  924.        ,  309.        ,\n",
       "        880.        , 1082.        ,  868.        ,  878.        ,\n",
       "        752.        ,  794.        ,  828.        ,  940.        ,\n",
       "        386.        , 1160.        ,  344.        ,  365.        ,\n",
       "        343.        ,  880.96080125, 1032.        ,  335.        ,\n",
       "        827.        ,  322.        , 1019.        , 1056.        ,\n",
       "        911.        ,  245.        ,  296.        , 1039.        ,\n",
       "       1043.        ,  313.        , 1071.        , 1146.        ,\n",
       "        286.        ,  889.        ,  834.        ,  901.        ,\n",
       "        941.        ,  850.        ,  939.        ,  890.        ,\n",
       "        881.        , 1128.        ,  928.        , 1024.        ,\n",
       "        925.        ,  886.        ,  308.        ,  929.        ,\n",
       "        321.        ,  862.        , 1096.        ,  829.        ,\n",
       "        836.        ,  942.        ,  320.        ,  973.        ,\n",
       "        294.        ,  991.        ,  992.        ,  875.        ,\n",
       "        944.        ,  879.        ,  908.        ,  345.        ,\n",
       "        927.        ,  796.        ,  894.        ,  290.        ,\n",
       "        331.        ,  930.        ,  360.        ,  298.        ,\n",
       "        317.        , 1423.        , 1491.        , 1099.        ,\n",
       "        833.        , 1007.        ,  876.        ,  952.        ,\n",
       "        967.        ,  926.        ,  917.        ,  990.        ,\n",
       "        958.        , 1060.        ,  913.        ,  895.        ,\n",
       "        318.        ,  983.        ,  333.        ,  280.        ,\n",
       "       1027.        ,  968.        ,  936.        ,  915.        ,\n",
       "        945.        ,  978.        , 1031.        ,  959.        ,\n",
       "        970.        ,  888.        ,  870.        ,  979.        ,\n",
       "        920.        ,  961.        , 1047.        , 1045.        ,\n",
       "       1095.        ,  948.        ,  999.        , 1074.        ,\n",
       "        315.        , 1110.        ,  316.        ,  324.        ,\n",
       "        225.        ,  949.        , 1192.        , 1419.        ,\n",
       "       1493.        , 1200.        ,  325.        ,  935.        ,\n",
       "       1005.        ,  912.        , 1028.        ,  289.        ,\n",
       "        303.        ,  304.        ,  896.        ,  291.        ,\n",
       "       1525.        ,  311.        , 1489.        ,  327.        ,\n",
       "        307.        , 1409.        ,  869.        ,  209.        ])"
      ]
     },
     "execution_count": 98,
     "metadata": {},
     "output_type": "execute_result"
    }
   ],
   "source": [
    "df['Mother\\'s weight in kilograms'].unique()"
   ]
  },
  {
   "cell_type": "code",
   "execution_count": 99,
   "id": "d2429601-da2c-40d8-a227-3041eaf7c046",
   "metadata": {},
   "outputs": [],
   "source": [
    "\n",
    "index = df[(df['Mother\\'s weight in kilograms'] == 9994) | (df['Mother\\'s weight in kilograms'] == 9995)| (df['Mother\\'s weight in kilograms'] == 9996 )| (df['Mother\\'s weight in kilograms'] == 9999 )].index\n",
    "df.drop(index,inplace=True)"
   ]
  },
  {
   "cell_type": "code",
   "execution_count": 100,
   "id": "9dd9ba20-4d82-45ad-ad34-659a44b70211",
   "metadata": {},
   "outputs": [],
   "source": [
    "df['Mother\\'s weight in kilograms'] = df['Mother\\'s weight in kilograms']/10"
   ]
  },
  {
   "cell_type": "code",
   "execution_count": 101,
   "id": "039f4dfe-b8b9-4589-afb8-125aa10a8af5",
   "metadata": {},
   "outputs": [
    {
     "data": {
      "text/plain": [
       "20.9"
      ]
     },
     "execution_count": 101,
     "metadata": {},
     "output_type": "execute_result"
    }
   ],
   "source": [
    "df['Mother\\'s weight in kilograms'].min()"
   ]
  },
  {
   "cell_type": "code",
   "execution_count": 102,
   "id": "0db8002c-66a0-4d34-86d0-80220e57d738",
   "metadata": {},
   "outputs": [
    {
     "data": {
      "text/plain": [
       "152.5"
      ]
     },
     "execution_count": 102,
     "metadata": {},
     "output_type": "execute_result"
    }
   ],
   "source": [
    "df['Mother\\'s weight in kilograms'].max()"
   ]
  },
  {
   "cell_type": "code",
   "execution_count": 103,
   "id": "f7120b5e-81c8-4706-8313-298afe6b46de",
   "metadata": {},
   "outputs": [
    {
     "data": {
      "text/plain": [
       "array([1614.        , 1406.        , 1573.        , 1597.        ,\n",
       "       1073.        , 1617.        , 1586.        , 1394.        ,\n",
       "       1461.        , 1582.        , 1575.        , 1604.        ,\n",
       "       1584.        , 1564.        , 1547.        , 1567.        ,\n",
       "       1578.        , 1474.        , 1561.        , 1671.        ,\n",
       "       1581.        , 1491.        , 1593.        , 1574.        ,\n",
       "       1548.        , 1554.        , 1588.        , 1528.        ,\n",
       "       1585.        , 1523.        , 1536.        , 1587.        ,\n",
       "       1513.        , 1565.        , 1509.        , 1594.        ,\n",
       "       1556.        , 1583.        , 1531.        , 1615.        ,\n",
       "       1543.        , 1666.        , 1611.        , 1498.        ,\n",
       "       1605.        , 1607.        , 1493.        , 1571.        ,\n",
       "       1632.        , 1535.        , 1495.        , 1577.        ,\n",
       "       1596.        , 1517.        , 1590.        , 1592.        ,\n",
       "       1503.        , 1589.        , 1631.        , 1647.        ,\n",
       "       1624.        , 1541.        , 1613.        , 1653.        ,\n",
       "       1612.        , 1514.        , 1499.        , 1522.        ,\n",
       "       1576.        , 1599.        , 1532.        , 1595.        ,\n",
       "       1634.        , 1562.        , 1702.        , 1496.        ,\n",
       "       1526.        , 1481.        , 1635.        , 1639.        ,\n",
       "       1563.        , 1636.        , 1609.        , 1622.        ,\n",
       "       1603.        , 1540.        , 1602.        , 1557.        ,\n",
       "       1623.        , 1606.        , 1507.        , 1693.        ,\n",
       "       1555.        , 1601.        , 1685.        , 1645.        ,\n",
       "       1538.        , 1534.        , 1627.        , 1471.        ,\n",
       "       1501.        , 1519.        , 1699.        , 1492.        ,\n",
       "       1683.        , 1643.        , 1629.        , 1657.        ,\n",
       "       1638.        , 1655.        , 1637.        , 1572.        ,\n",
       "       1533.        , 1753.        , 1512.        , 1568.        ,\n",
       "       1626.        , 1618.        , 1552.        , 1544.        ,\n",
       "       1570.        , 1553.        , 1477.        , 1521.        ,\n",
       "       1672.        , 1515.        , 1407.        , 1579.        ,\n",
       "       1476.        , 1004.        , 1550.        , 1616.        ,\n",
       "       1537.        , 1654.        , 1696.        , 1416.        ,\n",
       "       1464.        , 1466.        , 1598.        , 1566.        ,\n",
       "       1569.        , 1488.        , 1510.        , 1659.        ,\n",
       "       1644.        , 1516.        , 1625.        , 1642.        ,\n",
       "       1475.        , 1633.        , 1608.        , 1529.        ,\n",
       "       1490.        , 1610.        , 1652.        , 1457.        ,\n",
       "       1843.        , 1674.        , 1600.        , 1620.        ,\n",
       "       1728.        , 1722.        , 1641.        , 1731.        ,\n",
       "       1692.        , 1713.        , 1648.        , 1817.        ,\n",
       "       1524.        , 1462.        , 1431.        , 1452.        ,\n",
       "       1421.        , 1559.        , 1435.        , 1742.        ,\n",
       "       1546.        , 1502.        , 1542.        , 1024.        ,\n",
       "       1525.        , 1497.        , 1427.        , 1714.        ,\n",
       "       1697.        , 1726.        , 1689.        , 1621.        ,\n",
       "       1487.        , 1591.        , 1743.        , 1826.        ,\n",
       "       1504.        , 1549.        , 1646.        , 1518.        ,\n",
       "       1472.        , 1663.        , 1545.        , 1494.        ,\n",
       "       1700.        , 1486.        , 1754.        , 1703.        ,\n",
       "       1704.        , 1508.        , 1580.        , 1711.        ,\n",
       "       1667.        , 1560.        , 1640.        ,  860.        ,\n",
       "       1480.        , 1393.        , 1670.        , 1710.        ,\n",
       "       1677.        , 1500.        , 1751.        , 1682.        ,\n",
       "       1539.        , 1483.        , 1405.        , 1527.        ,\n",
       "       1551.        , 1730.        , 1651.        , 1413.        ,\n",
       "       1384.        , 1432.        , 1391.        , 1415.        ,\n",
       "       1423.        , 1436.        , 1403.        , 1426.        ,\n",
       "       1392.        , 1463.        , 1511.        , 1712.        ,\n",
       "       1694.        , 1673.        , 1446.        , 1417.        ,\n",
       "       1441.        , 1437.        , 1442.        , 1412.        ,\n",
       "       1467.        , 1447.        , 1485.        , 1434.        ,\n",
       "       1650.        , 1473.        , 1506.        , 1456.        ,\n",
       "       1482.        , 1454.        , 1349.        , 1484.        ,\n",
       "       1350.        , 1430.        , 1719.        , 1750.        ,\n",
       "       1656.        , 1857.        , 1687.        , 1489.        ,\n",
       "       1455.        , 1776.        , 1783.        , 1619.        ,\n",
       "       1661.        , 1686.        , 1468.        , 1321.        ,\n",
       "       1420.        , 1450.        , 1366.        , 1320.        ,\n",
       "       1362.        , 1774.        , 1404.        , 1749.        ,\n",
       "       1778.        , 1733.        , 1520.        , 1433.        ,\n",
       "       1382.        , 1664.        , 1658.        , 1357.        ,\n",
       "       1478.        , 1630.        , 1530.        , 1361.        ,\n",
       "       1695.        , 1425.        , 1755.        , 1440.        ,\n",
       "       1705.        , 1419.        , 1744.        , 1684.        ,\n",
       "       1453.        , 1680.        , 1676.        , 1628.        ,\n",
       "       1660.        , 1691.        , 1443.        , 1428.        ,\n",
       "       1396.        , 1459.        , 1558.        , 1448.        ,\n",
       "       1424.        , 1469.        , 1747.        , 1715.        ,\n",
       "       1332.        , 1678.        , 1746.        , 1688.        ,\n",
       "       1701.        , 1662.        , 1505.        , 1665.        ,\n",
       "       1718.        , 1445.        , 1721.        , 2035.        ,\n",
       "       1438.        , 1470.        , 1465.        , 1770.        ,\n",
       "       1168.        , 1253.        , 1649.        , 1285.        ,\n",
       "       1398.        , 1681.        , 1796.        , 1724.        ,\n",
       "       1690.        , 1734.        , 1479.        , 1418.        ,\n",
       "       1402.        , 1669.        , 1014.        , 1449.        ,\n",
       "       1737.        , 1439.        , 1668.        , 1308.        ,\n",
       "       1408.        , 1400.        , 1725.        , 1698.        ,\n",
       "       1679.        , 1716.        , 1156.        , 1723.        ,\n",
       "       1675.        , 1429.        , 1786.        , 1355.        ,\n",
       "       1395.        , 1336.        , 1059.        , 1414.        ,\n",
       "       1410.        , 1301.        , 1709.        , 1422.        ,\n",
       "       1460.        , 1399.        , 1801.        , 1409.        ,\n",
       "       1326.        , 1451.        , 1444.        , 1385.        ,\n",
       "       2000.        , 1987.        , 1359.        , 1855.        ,\n",
       "       1181.        , 1323.        , 1782.        , 1458.        ,\n",
       "       1306.        , 1052.        , 1387.        , 1401.        ,\n",
       "       1371.        , 1884.        , 1044.        , 1389.        ,\n",
       "       1390.        , 1378.        , 1708.        , 1379.        ,\n",
       "       2069.        , 1315.        , 1717.        , 1864.        ,\n",
       "       1732.        , 1363.        , 1802.        , 1335.        ,\n",
       "       1376.        , 1760.        , 1764.        , 1375.        ,\n",
       "       1351.        , 1840.14964158, 1411.        , 1992.        ,\n",
       "       1334.        , 9996.        , 1386.        , 1971.        ,\n",
       "       1380.        , 9995.        , 1338.        , 1388.        ,\n",
       "       1354.        , 1343.        , 1383.        , 1374.        ,\n",
       "       1767.        , 1324.        , 1397.        , 1369.        ,\n",
       "       1765.        , 1352.        , 1364.        , 1340.        ,\n",
       "       1152.        , 1346.        , 1325.        , 1028.        ,\n",
       "       1331.        , 1105.        , 2010.        , 1356.        ,\n",
       "       1339.        , 1372.        , 1729.        ,  820.        ,\n",
       "       1914.        , 1337.        , 1745.        , 1341.        ,\n",
       "       1756.        , 1368.        , 1304.        , 1319.        ,\n",
       "       1377.        , 1381.        , 1935.        , 1736.        ,\n",
       "       1017.        , 1342.        , 1204.        , 1367.        ,\n",
       "       1950.        , 1963.        , 1282.        , 1309.        ,\n",
       "       1360.        , 1311.        , 1318.        , 1965.        ,\n",
       "       1707.        , 1110.        , 1740.        ,  818.        ,\n",
       "       1310.        , 1955.        , 1979.        , 1261.        ,\n",
       "       1772.        , 1051.        , 1850.        ])"
      ]
     },
     "execution_count": 103,
     "metadata": {},
     "output_type": "execute_result"
    }
   ],
   "source": [
    "df['Mother\\'s height in centimeters'].unique()"
   ]
  },
  {
   "cell_type": "code",
   "execution_count": 104,
   "id": "d0015257-90a2-454a-9013-29488e9aca37",
   "metadata": {},
   "outputs": [],
   "source": [
    "\n",
    "index = df[(df['Mother\\'s height in centimeters'] == 9994) | (df['Mother\\'s height in centimeters'] == 9995)| (df['Mother\\'s height in centimeters'] == 9996 )| (df['Mother\\'s height in centimeters'] == 9999 )].index\n",
    "df.drop(index,inplace=True)"
   ]
  },
  {
   "cell_type": "code",
   "execution_count": 105,
   "id": "624fa794-5933-4262-a49e-d3033e6bb6f7",
   "metadata": {},
   "outputs": [],
   "source": [
    "df['Mother\\'s height in centimeters'] = df['Mother\\'s height in centimeters']/10"
   ]
  },
  {
   "cell_type": "code",
   "execution_count": 106,
   "id": "5b5c1f24-a79e-4a75-9689-60ad3b855c53",
   "metadata": {},
   "outputs": [
    {
     "data": {
      "text/plain": [
       "81.8"
      ]
     },
     "execution_count": 106,
     "metadata": {},
     "output_type": "execute_result"
    }
   ],
   "source": [
    "df['Mother\\'s height in centimeters'].min()"
   ]
  },
  {
   "cell_type": "code",
   "execution_count": 107,
   "id": "79118fb2-1935-4a82-9ef4-b54f253df08c",
   "metadata": {},
   "outputs": [
    {
     "data": {
      "text/plain": [
       "206.9"
      ]
     },
     "execution_count": 107,
     "metadata": {},
     "output_type": "execute_result"
    }
   ],
   "source": [
    "df['Mother\\'s height in centimeters'].max()"
   ]
  },
  {
   "cell_type": "code",
   "execution_count": 108,
   "id": "2364b9fa-c111-41fd-916a-29d17ee8b039",
   "metadata": {},
   "outputs": [],
   "source": [
    "## CURRENTLY BREAST FEEDING"
   ]
  },
  {
   "cell_type": "code",
   "execution_count": 109,
   "id": "52b13f39-1c52-4f6f-99bd-2b7012cae507",
   "metadata": {},
   "outputs": [
    {
     "data": {
      "text/plain": [
       "array([0, 1])"
      ]
     },
     "execution_count": 109,
     "metadata": {},
     "output_type": "execute_result"
    }
   ],
   "source": [
    "df['Currently breastfeeding'].unique()"
   ]
  },
  {
   "cell_type": "code",
   "execution_count": 110,
   "id": "5170e0f5-3390-43d5-94db-ae08c8f95a41",
   "metadata": {},
   "outputs": [],
   "source": [
    "df['Currently breastfeeding'] = df['Currently breastfeeding'].replace({0:'No',1:'Yes'})"
   ]
  },
  {
   "cell_type": "code",
   "execution_count": 111,
   "id": "a767469c-a46c-45cd-96fc-cb7e35db4072",
   "metadata": {},
   "outputs": [
    {
     "data": {
      "text/plain": [
       "array(['No', 'Yes'], dtype=object)"
      ]
     },
     "execution_count": 111,
     "metadata": {},
     "output_type": "execute_result"
    }
   ],
   "source": [
    "df['Currently breastfeeding'].unique()"
   ]
  },
  {
   "cell_type": "code",
   "execution_count": 112,
   "id": "34851c86-a30f-4dd9-9c76-d7d220208956",
   "metadata": {},
   "outputs": [
    {
     "data": {
      "text/plain": [
       "Type of place of residence                         object\n",
       "Source of drinking water                           object\n",
       "Number of household members                         int64\n",
       "Toilet facilities shared with other households     object\n",
       "Wealth index factor score combined                float64\n",
       "Wealth index factor score for urban/rural         float64\n",
       "Currently breastfeeding                            object\n",
       "Mother's weight in kilograms                      float64\n",
       "Mother's height in centimeters                    float64\n",
       "Mother's BMI                                      float64\n",
       "Mother's Under age 18 at time of birth             object\n",
       "Mother Smokes pipe full of tobacco                 object\n",
       "Mother Chews tobacco                               object\n",
       "Mother Snuffs by nose                              object\n",
       "v463f                                               int64\n",
       "Frequency of mother smokes cigarettes              object\n",
       "Father's occupation                               float64\n",
       "Father's educational attainment                    object\n",
       "Sex of child                                       object\n",
       "Size of child at birth                             object\n",
       "Birth weight in kilograms                         float64\n",
       "Given child anything other than breast milk        object\n",
       "Childs's age in months                            float64\n",
       "Childs's weight in kilograms                      float64\n",
       "Childs's height in centimeters                    float64\n",
       "Child's Height/Age standard deviation             float64\n",
       "Childs's Weight/Age standard deviation            float64\n",
       "Childs's Weight/Height standard deviation         float64\n",
       "Childs's BMI standard deviation (new WHO)         float64\n",
       "Dietary Index                                     float64\n",
       "dtype: object"
      ]
     },
     "execution_count": 112,
     "metadata": {},
     "output_type": "execute_result"
    }
   ],
   "source": [
    "df.dtypes"
   ]
  },
  {
   "cell_type": "code",
   "execution_count": 113,
   "id": "75ba3c11-7873-47f6-87d1-3045d61b2ab6",
   "metadata": {},
   "outputs": [],
   "source": [
    "import pandas as pd\n",
    "from sklearn.preprocessing import OneHotEncoder\n",
    "\n",
    "columns_to_encode = [ 'Source of drinking water','Toilet facilities shared with other households','Currently breastfeeding','Mother\\'s Under age 18 at time of birth','Mother Smokes pipe full of tobacco','Mother Chews tobacco','Mother Snuffs by nose','Frequency of mother smokes cigarettes',\n",
    "                     'Father\\'s educational attainment',\n",
    "'Sex of child','Size of child at birth','Given child anything other than breast milk'\n",
    "                    ]\n",
    "\n",
    "enc = OneHotEncoder(handle_unknown='ignore', sparse_output=False)\n",
    "\n",
    "for column in columns_to_encode:\n",
    "\n",
    "    df[column] = df[column].astype(str)\n",
    "\n",
    "  \n",
    "    encoder_df = pd.DataFrame(enc.fit_transform(df[[column]]), columns=enc.get_feature_names_out([column]))\n",
    "\n",
    "    df = df.drop([column], axis=1)\n",
    "\n",
    "    df = pd.concat([df, encoder_df], axis=1)\n",
    "\n"
   ]
  },
  {
   "cell_type": "code",
   "execution_count": 114,
   "id": "d1195f4d-cddd-4bc2-94c8-a66efdb6c76c",
   "metadata": {},
   "outputs": [
    {
     "data": {
      "text/html": [
       "<div>\n",
       "<style scoped>\n",
       "    .dataframe tbody tr th:only-of-type {\n",
       "        vertical-align: middle;\n",
       "    }\n",
       "\n",
       "    .dataframe tbody tr th {\n",
       "        vertical-align: top;\n",
       "    }\n",
       "\n",
       "    .dataframe thead th {\n",
       "        text-align: right;\n",
       "    }\n",
       "</style>\n",
       "<table border=\"1\" class=\"dataframe\">\n",
       "  <thead>\n",
       "    <tr style=\"text-align: right;\">\n",
       "      <th></th>\n",
       "      <th>Type of place of residence</th>\n",
       "      <th>Number of household members</th>\n",
       "      <th>Wealth index factor score combined</th>\n",
       "      <th>Wealth index factor score for urban/rural</th>\n",
       "      <th>Mother's weight in kilograms</th>\n",
       "      <th>Mother's height in centimeters</th>\n",
       "      <th>Mother's BMI</th>\n",
       "      <th>v463f</th>\n",
       "      <th>Father's occupation</th>\n",
       "      <th>Birth weight in kilograms</th>\n",
       "      <th>...</th>\n",
       "      <th>Sex of child_nan</th>\n",
       "      <th>Size of child at birth_Average</th>\n",
       "      <th>Size of child at birth_Larger than Average</th>\n",
       "      <th>Size of child at birth_Smaller than Average</th>\n",
       "      <th>Size of child at birth_Very Large</th>\n",
       "      <th>Size of child at birth_Very Small</th>\n",
       "      <th>Size of child at birth_nan</th>\n",
       "      <th>Given child anything other than breast milk_No</th>\n",
       "      <th>Given child anything other than breast milk_Yes</th>\n",
       "      <th>Given child anything other than breast milk_nan</th>\n",
       "    </tr>\n",
       "  </thead>\n",
       "  <tbody>\n",
       "    <tr>\n",
       "      <th>0</th>\n",
       "      <td>Rural</td>\n",
       "      <td>6.0</td>\n",
       "      <td>4.84230</td>\n",
       "      <td>8.3313</td>\n",
       "      <td>76.0</td>\n",
       "      <td>161.4</td>\n",
       "      <td>2919.0</td>\n",
       "      <td>0.0</td>\n",
       "      <td>64.176851</td>\n",
       "      <td>3.000</td>\n",
       "      <td>...</td>\n",
       "      <td>0.0</td>\n",
       "      <td>1.0</td>\n",
       "      <td>0.0</td>\n",
       "      <td>0.0</td>\n",
       "      <td>0.0</td>\n",
       "      <td>0.0</td>\n",
       "      <td>0.0</td>\n",
       "      <td>1.0</td>\n",
       "      <td>0.0</td>\n",
       "      <td>0.0</td>\n",
       "    </tr>\n",
       "    <tr>\n",
       "      <th>1</th>\n",
       "      <td>Rural</td>\n",
       "      <td>6.0</td>\n",
       "      <td>-8.81310</td>\n",
       "      <td>-6.6716</td>\n",
       "      <td>43.8</td>\n",
       "      <td>140.6</td>\n",
       "      <td>2213.0</td>\n",
       "      <td>0.0</td>\n",
       "      <td>64.176851</td>\n",
       "      <td>2.400</td>\n",
       "      <td>...</td>\n",
       "      <td>0.0</td>\n",
       "      <td>1.0</td>\n",
       "      <td>0.0</td>\n",
       "      <td>0.0</td>\n",
       "      <td>0.0</td>\n",
       "      <td>0.0</td>\n",
       "      <td>0.0</td>\n",
       "      <td>1.0</td>\n",
       "      <td>0.0</td>\n",
       "      <td>0.0</td>\n",
       "    </tr>\n",
       "    <tr>\n",
       "      <th>2</th>\n",
       "      <td>Rural</td>\n",
       "      <td>3.0</td>\n",
       "      <td>-13.15280</td>\n",
       "      <td>-11.4395</td>\n",
       "      <td>75.3</td>\n",
       "      <td>157.3</td>\n",
       "      <td>3041.0</td>\n",
       "      <td>0.0</td>\n",
       "      <td>64.176851</td>\n",
       "      <td>9.996</td>\n",
       "      <td>...</td>\n",
       "      <td>0.0</td>\n",
       "      <td>1.0</td>\n",
       "      <td>0.0</td>\n",
       "      <td>0.0</td>\n",
       "      <td>0.0</td>\n",
       "      <td>0.0</td>\n",
       "      <td>0.0</td>\n",
       "      <td>1.0</td>\n",
       "      <td>0.0</td>\n",
       "      <td>0.0</td>\n",
       "    </tr>\n",
       "    <tr>\n",
       "      <th>3</th>\n",
       "      <td>Rural</td>\n",
       "      <td>5.0</td>\n",
       "      <td>-0.73821</td>\n",
       "      <td>2.2001</td>\n",
       "      <td>65.5</td>\n",
       "      <td>159.7</td>\n",
       "      <td>2566.0</td>\n",
       "      <td>0.0</td>\n",
       "      <td>64.176851</td>\n",
       "      <td>3.000</td>\n",
       "      <td>...</td>\n",
       "      <td>0.0</td>\n",
       "      <td>1.0</td>\n",
       "      <td>0.0</td>\n",
       "      <td>0.0</td>\n",
       "      <td>0.0</td>\n",
       "      <td>0.0</td>\n",
       "      <td>0.0</td>\n",
       "      <td>1.0</td>\n",
       "      <td>0.0</td>\n",
       "      <td>0.0</td>\n",
       "    </tr>\n",
       "    <tr>\n",
       "      <th>4</th>\n",
       "      <td>Rural</td>\n",
       "      <td>4.0</td>\n",
       "      <td>-1.42061</td>\n",
       "      <td>1.4504</td>\n",
       "      <td>60.5</td>\n",
       "      <td>107.3</td>\n",
       "      <td>5255.0</td>\n",
       "      <td>0.0</td>\n",
       "      <td>64.176851</td>\n",
       "      <td>2.200</td>\n",
       "      <td>...</td>\n",
       "      <td>0.0</td>\n",
       "      <td>0.0</td>\n",
       "      <td>1.0</td>\n",
       "      <td>0.0</td>\n",
       "      <td>0.0</td>\n",
       "      <td>0.0</td>\n",
       "      <td>0.0</td>\n",
       "      <td>1.0</td>\n",
       "      <td>0.0</td>\n",
       "      <td>0.0</td>\n",
       "    </tr>\n",
       "    <tr>\n",
       "      <th>...</th>\n",
       "      <td>...</td>\n",
       "      <td>...</td>\n",
       "      <td>...</td>\n",
       "      <td>...</td>\n",
       "      <td>...</td>\n",
       "      <td>...</td>\n",
       "      <td>...</td>\n",
       "      <td>...</td>\n",
       "      <td>...</td>\n",
       "      <td>...</td>\n",
       "      <td>...</td>\n",
       "      <td>...</td>\n",
       "      <td>...</td>\n",
       "      <td>...</td>\n",
       "      <td>...</td>\n",
       "      <td>...</td>\n",
       "      <td>...</td>\n",
       "      <td>...</td>\n",
       "      <td>...</td>\n",
       "      <td>...</td>\n",
       "      <td>...</td>\n",
       "    </tr>\n",
       "    <tr>\n",
       "      <th>31254</th>\n",
       "      <td>NaN</td>\n",
       "      <td>NaN</td>\n",
       "      <td>NaN</td>\n",
       "      <td>NaN</td>\n",
       "      <td>NaN</td>\n",
       "      <td>NaN</td>\n",
       "      <td>NaN</td>\n",
       "      <td>NaN</td>\n",
       "      <td>NaN</td>\n",
       "      <td>NaN</td>\n",
       "      <td>...</td>\n",
       "      <td>1.0</td>\n",
       "      <td>0.0</td>\n",
       "      <td>0.0</td>\n",
       "      <td>0.0</td>\n",
       "      <td>0.0</td>\n",
       "      <td>0.0</td>\n",
       "      <td>1.0</td>\n",
       "      <td>0.0</td>\n",
       "      <td>0.0</td>\n",
       "      <td>1.0</td>\n",
       "    </tr>\n",
       "    <tr>\n",
       "      <th>31255</th>\n",
       "      <td>NaN</td>\n",
       "      <td>NaN</td>\n",
       "      <td>NaN</td>\n",
       "      <td>NaN</td>\n",
       "      <td>NaN</td>\n",
       "      <td>NaN</td>\n",
       "      <td>NaN</td>\n",
       "      <td>NaN</td>\n",
       "      <td>NaN</td>\n",
       "      <td>NaN</td>\n",
       "      <td>...</td>\n",
       "      <td>1.0</td>\n",
       "      <td>0.0</td>\n",
       "      <td>0.0</td>\n",
       "      <td>0.0</td>\n",
       "      <td>0.0</td>\n",
       "      <td>0.0</td>\n",
       "      <td>1.0</td>\n",
       "      <td>0.0</td>\n",
       "      <td>0.0</td>\n",
       "      <td>1.0</td>\n",
       "    </tr>\n",
       "    <tr>\n",
       "      <th>31259</th>\n",
       "      <td>NaN</td>\n",
       "      <td>NaN</td>\n",
       "      <td>NaN</td>\n",
       "      <td>NaN</td>\n",
       "      <td>NaN</td>\n",
       "      <td>NaN</td>\n",
       "      <td>NaN</td>\n",
       "      <td>NaN</td>\n",
       "      <td>NaN</td>\n",
       "      <td>NaN</td>\n",
       "      <td>...</td>\n",
       "      <td>1.0</td>\n",
       "      <td>0.0</td>\n",
       "      <td>0.0</td>\n",
       "      <td>0.0</td>\n",
       "      <td>0.0</td>\n",
       "      <td>0.0</td>\n",
       "      <td>1.0</td>\n",
       "      <td>0.0</td>\n",
       "      <td>0.0</td>\n",
       "      <td>1.0</td>\n",
       "    </tr>\n",
       "    <tr>\n",
       "      <th>31268</th>\n",
       "      <td>NaN</td>\n",
       "      <td>NaN</td>\n",
       "      <td>NaN</td>\n",
       "      <td>NaN</td>\n",
       "      <td>NaN</td>\n",
       "      <td>NaN</td>\n",
       "      <td>NaN</td>\n",
       "      <td>NaN</td>\n",
       "      <td>NaN</td>\n",
       "      <td>NaN</td>\n",
       "      <td>...</td>\n",
       "      <td>1.0</td>\n",
       "      <td>0.0</td>\n",
       "      <td>0.0</td>\n",
       "      <td>0.0</td>\n",
       "      <td>0.0</td>\n",
       "      <td>0.0</td>\n",
       "      <td>1.0</td>\n",
       "      <td>0.0</td>\n",
       "      <td>0.0</td>\n",
       "      <td>1.0</td>\n",
       "    </tr>\n",
       "    <tr>\n",
       "      <th>31269</th>\n",
       "      <td>NaN</td>\n",
       "      <td>NaN</td>\n",
       "      <td>NaN</td>\n",
       "      <td>NaN</td>\n",
       "      <td>NaN</td>\n",
       "      <td>NaN</td>\n",
       "      <td>NaN</td>\n",
       "      <td>NaN</td>\n",
       "      <td>NaN</td>\n",
       "      <td>NaN</td>\n",
       "      <td>...</td>\n",
       "      <td>1.0</td>\n",
       "      <td>0.0</td>\n",
       "      <td>0.0</td>\n",
       "      <td>0.0</td>\n",
       "      <td>0.0</td>\n",
       "      <td>0.0</td>\n",
       "      <td>1.0</td>\n",
       "      <td>0.0</td>\n",
       "      <td>0.0</td>\n",
       "      <td>1.0</td>\n",
       "    </tr>\n",
       "  </tbody>\n",
       "</table>\n",
       "<p>31271 rows × 76 columns</p>\n",
       "</div>"
      ],
      "text/plain": [
       "      Type of place of residence  Number of household members  \\\n",
       "0                          Rural                          6.0   \n",
       "1                          Rural                          6.0   \n",
       "2                          Rural                          3.0   \n",
       "3                          Rural                          5.0   \n",
       "4                          Rural                          4.0   \n",
       "...                          ...                          ...   \n",
       "31254                        NaN                          NaN   \n",
       "31255                        NaN                          NaN   \n",
       "31259                        NaN                          NaN   \n",
       "31268                        NaN                          NaN   \n",
       "31269                        NaN                          NaN   \n",
       "\n",
       "       Wealth index factor score combined  \\\n",
       "0                                 4.84230   \n",
       "1                                -8.81310   \n",
       "2                               -13.15280   \n",
       "3                                -0.73821   \n",
       "4                                -1.42061   \n",
       "...                                   ...   \n",
       "31254                                 NaN   \n",
       "31255                                 NaN   \n",
       "31259                                 NaN   \n",
       "31268                                 NaN   \n",
       "31269                                 NaN   \n",
       "\n",
       "       Wealth index factor score for urban/rural  \\\n",
       "0                                         8.3313   \n",
       "1                                        -6.6716   \n",
       "2                                       -11.4395   \n",
       "3                                         2.2001   \n",
       "4                                         1.4504   \n",
       "...                                          ...   \n",
       "31254                                        NaN   \n",
       "31255                                        NaN   \n",
       "31259                                        NaN   \n",
       "31268                                        NaN   \n",
       "31269                                        NaN   \n",
       "\n",
       "       Mother's weight in kilograms  Mother's height in centimeters  \\\n",
       "0                              76.0                           161.4   \n",
       "1                              43.8                           140.6   \n",
       "2                              75.3                           157.3   \n",
       "3                              65.5                           159.7   \n",
       "4                              60.5                           107.3   \n",
       "...                             ...                             ...   \n",
       "31254                           NaN                             NaN   \n",
       "31255                           NaN                             NaN   \n",
       "31259                           NaN                             NaN   \n",
       "31268                           NaN                             NaN   \n",
       "31269                           NaN                             NaN   \n",
       "\n",
       "       Mother's BMI  v463f  Father's occupation  Birth weight in kilograms  \\\n",
       "0            2919.0    0.0            64.176851                      3.000   \n",
       "1            2213.0    0.0            64.176851                      2.400   \n",
       "2            3041.0    0.0            64.176851                      9.996   \n",
       "3            2566.0    0.0            64.176851                      3.000   \n",
       "4            5255.0    0.0            64.176851                      2.200   \n",
       "...             ...    ...                  ...                        ...   \n",
       "31254           NaN    NaN                  NaN                        NaN   \n",
       "31255           NaN    NaN                  NaN                        NaN   \n",
       "31259           NaN    NaN                  NaN                        NaN   \n",
       "31268           NaN    NaN                  NaN                        NaN   \n",
       "31269           NaN    NaN                  NaN                        NaN   \n",
       "\n",
       "       ...  Sex of child_nan  Size of child at birth_Average  \\\n",
       "0      ...               0.0                             1.0   \n",
       "1      ...               0.0                             1.0   \n",
       "2      ...               0.0                             1.0   \n",
       "3      ...               0.0                             1.0   \n",
       "4      ...               0.0                             0.0   \n",
       "...    ...               ...                             ...   \n",
       "31254  ...               1.0                             0.0   \n",
       "31255  ...               1.0                             0.0   \n",
       "31259  ...               1.0                             0.0   \n",
       "31268  ...               1.0                             0.0   \n",
       "31269  ...               1.0                             0.0   \n",
       "\n",
       "       Size of child at birth_Larger than Average  \\\n",
       "0                                             0.0   \n",
       "1                                             0.0   \n",
       "2                                             0.0   \n",
       "3                                             0.0   \n",
       "4                                             1.0   \n",
       "...                                           ...   \n",
       "31254                                         0.0   \n",
       "31255                                         0.0   \n",
       "31259                                         0.0   \n",
       "31268                                         0.0   \n",
       "31269                                         0.0   \n",
       "\n",
       "       Size of child at birth_Smaller than Average  \\\n",
       "0                                              0.0   \n",
       "1                                              0.0   \n",
       "2                                              0.0   \n",
       "3                                              0.0   \n",
       "4                                              0.0   \n",
       "...                                            ...   \n",
       "31254                                          0.0   \n",
       "31255                                          0.0   \n",
       "31259                                          0.0   \n",
       "31268                                          0.0   \n",
       "31269                                          0.0   \n",
       "\n",
       "       Size of child at birth_Very Large  Size of child at birth_Very Small  \\\n",
       "0                                    0.0                                0.0   \n",
       "1                                    0.0                                0.0   \n",
       "2                                    0.0                                0.0   \n",
       "3                                    0.0                                0.0   \n",
       "4                                    0.0                                0.0   \n",
       "...                                  ...                                ...   \n",
       "31254                                0.0                                0.0   \n",
       "31255                                0.0                                0.0   \n",
       "31259                                0.0                                0.0   \n",
       "31268                                0.0                                0.0   \n",
       "31269                                0.0                                0.0   \n",
       "\n",
       "       Size of child at birth_nan  \\\n",
       "0                             0.0   \n",
       "1                             0.0   \n",
       "2                             0.0   \n",
       "3                             0.0   \n",
       "4                             0.0   \n",
       "...                           ...   \n",
       "31254                         1.0   \n",
       "31255                         1.0   \n",
       "31259                         1.0   \n",
       "31268                         1.0   \n",
       "31269                         1.0   \n",
       "\n",
       "       Given child anything other than breast milk_No  \\\n",
       "0                                                 1.0   \n",
       "1                                                 1.0   \n",
       "2                                                 1.0   \n",
       "3                                                 1.0   \n",
       "4                                                 1.0   \n",
       "...                                               ...   \n",
       "31254                                             0.0   \n",
       "31255                                             0.0   \n",
       "31259                                             0.0   \n",
       "31268                                             0.0   \n",
       "31269                                             0.0   \n",
       "\n",
       "       Given child anything other than breast milk_Yes  \\\n",
       "0                                                  0.0   \n",
       "1                                                  0.0   \n",
       "2                                                  0.0   \n",
       "3                                                  0.0   \n",
       "4                                                  0.0   \n",
       "...                                                ...   \n",
       "31254                                              0.0   \n",
       "31255                                              0.0   \n",
       "31259                                              0.0   \n",
       "31268                                              0.0   \n",
       "31269                                              0.0   \n",
       "\n",
       "       Given child anything other than breast milk_nan  \n",
       "0                                                  0.0  \n",
       "1                                                  0.0  \n",
       "2                                                  0.0  \n",
       "3                                                  0.0  \n",
       "4                                                  0.0  \n",
       "...                                                ...  \n",
       "31254                                              1.0  \n",
       "31255                                              1.0  \n",
       "31259                                              1.0  \n",
       "31268                                              1.0  \n",
       "31269                                              1.0  \n",
       "\n",
       "[31271 rows x 76 columns]"
      ]
     },
     "execution_count": 114,
     "metadata": {},
     "output_type": "execute_result"
    }
   ],
   "source": [
    "df"
   ]
  },
  {
   "cell_type": "code",
   "execution_count": 117,
   "id": "18399b22-2636-48fa-8e5e-9f60a8a20471",
   "metadata": {},
   "outputs": [],
   "source": [
    "df = df.dropna()"
   ]
  },
  {
   "cell_type": "code",
   "execution_count": 119,
   "id": "93845047-80fd-4836-9874-338eb4d1cab1",
   "metadata": {},
   "outputs": [
    {
     "data": {
      "text/html": [
       "<div>\n",
       "<style scoped>\n",
       "    .dataframe tbody tr th:only-of-type {\n",
       "        vertical-align: middle;\n",
       "    }\n",
       "\n",
       "    .dataframe tbody tr th {\n",
       "        vertical-align: top;\n",
       "    }\n",
       "\n",
       "    .dataframe thead th {\n",
       "        text-align: right;\n",
       "    }\n",
       "</style>\n",
       "<table border=\"1\" class=\"dataframe\">\n",
       "  <thead>\n",
       "    <tr style=\"text-align: right;\">\n",
       "      <th></th>\n",
       "      <th>Type of place of residence</th>\n",
       "      <th>Number of household members</th>\n",
       "      <th>Wealth index factor score combined</th>\n",
       "      <th>Wealth index factor score for urban/rural</th>\n",
       "      <th>Mother's weight in kilograms</th>\n",
       "      <th>Mother's height in centimeters</th>\n",
       "      <th>Mother's BMI</th>\n",
       "      <th>v463f</th>\n",
       "      <th>Father's occupation</th>\n",
       "      <th>Birth weight in kilograms</th>\n",
       "      <th>...</th>\n",
       "      <th>Sex of child_nan</th>\n",
       "      <th>Size of child at birth_Average</th>\n",
       "      <th>Size of child at birth_Larger than Average</th>\n",
       "      <th>Size of child at birth_Smaller than Average</th>\n",
       "      <th>Size of child at birth_Very Large</th>\n",
       "      <th>Size of child at birth_Very Small</th>\n",
       "      <th>Size of child at birth_nan</th>\n",
       "      <th>Given child anything other than breast milk_No</th>\n",
       "      <th>Given child anything other than breast milk_Yes</th>\n",
       "      <th>Given child anything other than breast milk_nan</th>\n",
       "    </tr>\n",
       "  </thead>\n",
       "  <tbody>\n",
       "    <tr>\n",
       "      <th>0</th>\n",
       "      <td>Rural</td>\n",
       "      <td>6.0</td>\n",
       "      <td>4.84230</td>\n",
       "      <td>8.3313</td>\n",
       "      <td>76.0</td>\n",
       "      <td>161.4</td>\n",
       "      <td>2919.0</td>\n",
       "      <td>0.0</td>\n",
       "      <td>64.176851</td>\n",
       "      <td>3.000</td>\n",
       "      <td>...</td>\n",
       "      <td>0.0</td>\n",
       "      <td>1.0</td>\n",
       "      <td>0.0</td>\n",
       "      <td>0.0</td>\n",
       "      <td>0.0</td>\n",
       "      <td>0.0</td>\n",
       "      <td>0.0</td>\n",
       "      <td>1.0</td>\n",
       "      <td>0.0</td>\n",
       "      <td>0.0</td>\n",
       "    </tr>\n",
       "    <tr>\n",
       "      <th>1</th>\n",
       "      <td>Rural</td>\n",
       "      <td>6.0</td>\n",
       "      <td>-8.81310</td>\n",
       "      <td>-6.6716</td>\n",
       "      <td>43.8</td>\n",
       "      <td>140.6</td>\n",
       "      <td>2213.0</td>\n",
       "      <td>0.0</td>\n",
       "      <td>64.176851</td>\n",
       "      <td>2.400</td>\n",
       "      <td>...</td>\n",
       "      <td>0.0</td>\n",
       "      <td>1.0</td>\n",
       "      <td>0.0</td>\n",
       "      <td>0.0</td>\n",
       "      <td>0.0</td>\n",
       "      <td>0.0</td>\n",
       "      <td>0.0</td>\n",
       "      <td>1.0</td>\n",
       "      <td>0.0</td>\n",
       "      <td>0.0</td>\n",
       "    </tr>\n",
       "    <tr>\n",
       "      <th>2</th>\n",
       "      <td>Rural</td>\n",
       "      <td>3.0</td>\n",
       "      <td>-13.15280</td>\n",
       "      <td>-11.4395</td>\n",
       "      <td>75.3</td>\n",
       "      <td>157.3</td>\n",
       "      <td>3041.0</td>\n",
       "      <td>0.0</td>\n",
       "      <td>64.176851</td>\n",
       "      <td>9.996</td>\n",
       "      <td>...</td>\n",
       "      <td>0.0</td>\n",
       "      <td>1.0</td>\n",
       "      <td>0.0</td>\n",
       "      <td>0.0</td>\n",
       "      <td>0.0</td>\n",
       "      <td>0.0</td>\n",
       "      <td>0.0</td>\n",
       "      <td>1.0</td>\n",
       "      <td>0.0</td>\n",
       "      <td>0.0</td>\n",
       "    </tr>\n",
       "    <tr>\n",
       "      <th>3</th>\n",
       "      <td>Rural</td>\n",
       "      <td>5.0</td>\n",
       "      <td>-0.73821</td>\n",
       "      <td>2.2001</td>\n",
       "      <td>65.5</td>\n",
       "      <td>159.7</td>\n",
       "      <td>2566.0</td>\n",
       "      <td>0.0</td>\n",
       "      <td>64.176851</td>\n",
       "      <td>3.000</td>\n",
       "      <td>...</td>\n",
       "      <td>0.0</td>\n",
       "      <td>1.0</td>\n",
       "      <td>0.0</td>\n",
       "      <td>0.0</td>\n",
       "      <td>0.0</td>\n",
       "      <td>0.0</td>\n",
       "      <td>0.0</td>\n",
       "      <td>1.0</td>\n",
       "      <td>0.0</td>\n",
       "      <td>0.0</td>\n",
       "    </tr>\n",
       "    <tr>\n",
       "      <th>4</th>\n",
       "      <td>Rural</td>\n",
       "      <td>4.0</td>\n",
       "      <td>-1.42061</td>\n",
       "      <td>1.4504</td>\n",
       "      <td>60.5</td>\n",
       "      <td>107.3</td>\n",
       "      <td>5255.0</td>\n",
       "      <td>0.0</td>\n",
       "      <td>64.176851</td>\n",
       "      <td>2.200</td>\n",
       "      <td>...</td>\n",
       "      <td>0.0</td>\n",
       "      <td>0.0</td>\n",
       "      <td>1.0</td>\n",
       "      <td>0.0</td>\n",
       "      <td>0.0</td>\n",
       "      <td>0.0</td>\n",
       "      <td>0.0</td>\n",
       "      <td>1.0</td>\n",
       "      <td>0.0</td>\n",
       "      <td>0.0</td>\n",
       "    </tr>\n",
       "    <tr>\n",
       "      <th>...</th>\n",
       "      <td>...</td>\n",
       "      <td>...</td>\n",
       "      <td>...</td>\n",
       "      <td>...</td>\n",
       "      <td>...</td>\n",
       "      <td>...</td>\n",
       "      <td>...</td>\n",
       "      <td>...</td>\n",
       "      <td>...</td>\n",
       "      <td>...</td>\n",
       "      <td>...</td>\n",
       "      <td>...</td>\n",
       "      <td>...</td>\n",
       "      <td>...</td>\n",
       "      <td>...</td>\n",
       "      <td>...</td>\n",
       "      <td>...</td>\n",
       "      <td>...</td>\n",
       "      <td>...</td>\n",
       "      <td>...</td>\n",
       "      <td>...</td>\n",
       "    </tr>\n",
       "    <tr>\n",
       "      <th>28474</th>\n",
       "      <td>Rural</td>\n",
       "      <td>6.0</td>\n",
       "      <td>4.04940</td>\n",
       "      <td>7.4602</td>\n",
       "      <td>44.3</td>\n",
       "      <td>156.5</td>\n",
       "      <td>1807.0</td>\n",
       "      <td>0.0</td>\n",
       "      <td>64.176851</td>\n",
       "      <td>2.800</td>\n",
       "      <td>...</td>\n",
       "      <td>0.0</td>\n",
       "      <td>0.0</td>\n",
       "      <td>0.0</td>\n",
       "      <td>1.0</td>\n",
       "      <td>0.0</td>\n",
       "      <td>0.0</td>\n",
       "      <td>0.0</td>\n",
       "      <td>1.0</td>\n",
       "      <td>0.0</td>\n",
       "      <td>0.0</td>\n",
       "    </tr>\n",
       "    <tr>\n",
       "      <th>28475</th>\n",
       "      <td>Rural</td>\n",
       "      <td>6.0</td>\n",
       "      <td>4.04940</td>\n",
       "      <td>7.4602</td>\n",
       "      <td>44.3</td>\n",
       "      <td>156.5</td>\n",
       "      <td>1807.0</td>\n",
       "      <td>0.0</td>\n",
       "      <td>64.176851</td>\n",
       "      <td>2.500</td>\n",
       "      <td>...</td>\n",
       "      <td>0.0</td>\n",
       "      <td>1.0</td>\n",
       "      <td>0.0</td>\n",
       "      <td>0.0</td>\n",
       "      <td>0.0</td>\n",
       "      <td>0.0</td>\n",
       "      <td>0.0</td>\n",
       "      <td>1.0</td>\n",
       "      <td>0.0</td>\n",
       "      <td>0.0</td>\n",
       "    </tr>\n",
       "    <tr>\n",
       "      <th>28476</th>\n",
       "      <td>Rural</td>\n",
       "      <td>7.0</td>\n",
       "      <td>8.20700</td>\n",
       "      <td>12.0281</td>\n",
       "      <td>54.5</td>\n",
       "      <td>158.2</td>\n",
       "      <td>2178.0</td>\n",
       "      <td>0.0</td>\n",
       "      <td>64.176851</td>\n",
       "      <td>2.500</td>\n",
       "      <td>...</td>\n",
       "      <td>0.0</td>\n",
       "      <td>0.0</td>\n",
       "      <td>0.0</td>\n",
       "      <td>1.0</td>\n",
       "      <td>0.0</td>\n",
       "      <td>0.0</td>\n",
       "      <td>0.0</td>\n",
       "      <td>1.0</td>\n",
       "      <td>0.0</td>\n",
       "      <td>0.0</td>\n",
       "    </tr>\n",
       "    <tr>\n",
       "      <th>28477</th>\n",
       "      <td>Rural</td>\n",
       "      <td>9.0</td>\n",
       "      <td>16.07320</td>\n",
       "      <td>20.6705</td>\n",
       "      <td>61.9</td>\n",
       "      <td>153.5</td>\n",
       "      <td>2627.0</td>\n",
       "      <td>0.0</td>\n",
       "      <td>64.176851</td>\n",
       "      <td>4.200</td>\n",
       "      <td>...</td>\n",
       "      <td>0.0</td>\n",
       "      <td>1.0</td>\n",
       "      <td>0.0</td>\n",
       "      <td>0.0</td>\n",
       "      <td>0.0</td>\n",
       "      <td>0.0</td>\n",
       "      <td>0.0</td>\n",
       "      <td>1.0</td>\n",
       "      <td>0.0</td>\n",
       "      <td>0.0</td>\n",
       "    </tr>\n",
       "    <tr>\n",
       "      <th>28478</th>\n",
       "      <td>Rural</td>\n",
       "      <td>9.0</td>\n",
       "      <td>16.07320</td>\n",
       "      <td>20.6705</td>\n",
       "      <td>61.9</td>\n",
       "      <td>153.5</td>\n",
       "      <td>2627.0</td>\n",
       "      <td>0.0</td>\n",
       "      <td>64.176851</td>\n",
       "      <td>2.200</td>\n",
       "      <td>...</td>\n",
       "      <td>0.0</td>\n",
       "      <td>1.0</td>\n",
       "      <td>0.0</td>\n",
       "      <td>0.0</td>\n",
       "      <td>0.0</td>\n",
       "      <td>0.0</td>\n",
       "      <td>0.0</td>\n",
       "      <td>1.0</td>\n",
       "      <td>0.0</td>\n",
       "      <td>0.0</td>\n",
       "    </tr>\n",
       "  </tbody>\n",
       "</table>\n",
       "<p>25885 rows × 76 columns</p>\n",
       "</div>"
      ],
      "text/plain": [
       "      Type of place of residence  Number of household members  \\\n",
       "0                          Rural                          6.0   \n",
       "1                          Rural                          6.0   \n",
       "2                          Rural                          3.0   \n",
       "3                          Rural                          5.0   \n",
       "4                          Rural                          4.0   \n",
       "...                          ...                          ...   \n",
       "28474                      Rural                          6.0   \n",
       "28475                      Rural                          6.0   \n",
       "28476                      Rural                          7.0   \n",
       "28477                      Rural                          9.0   \n",
       "28478                      Rural                          9.0   \n",
       "\n",
       "       Wealth index factor score combined  \\\n",
       "0                                 4.84230   \n",
       "1                                -8.81310   \n",
       "2                               -13.15280   \n",
       "3                                -0.73821   \n",
       "4                                -1.42061   \n",
       "...                                   ...   \n",
       "28474                             4.04940   \n",
       "28475                             4.04940   \n",
       "28476                             8.20700   \n",
       "28477                            16.07320   \n",
       "28478                            16.07320   \n",
       "\n",
       "       Wealth index factor score for urban/rural  \\\n",
       "0                                         8.3313   \n",
       "1                                        -6.6716   \n",
       "2                                       -11.4395   \n",
       "3                                         2.2001   \n",
       "4                                         1.4504   \n",
       "...                                          ...   \n",
       "28474                                     7.4602   \n",
       "28475                                     7.4602   \n",
       "28476                                    12.0281   \n",
       "28477                                    20.6705   \n",
       "28478                                    20.6705   \n",
       "\n",
       "       Mother's weight in kilograms  Mother's height in centimeters  \\\n",
       "0                              76.0                           161.4   \n",
       "1                              43.8                           140.6   \n",
       "2                              75.3                           157.3   \n",
       "3                              65.5                           159.7   \n",
       "4                              60.5                           107.3   \n",
       "...                             ...                             ...   \n",
       "28474                          44.3                           156.5   \n",
       "28475                          44.3                           156.5   \n",
       "28476                          54.5                           158.2   \n",
       "28477                          61.9                           153.5   \n",
       "28478                          61.9                           153.5   \n",
       "\n",
       "       Mother's BMI  v463f  Father's occupation  Birth weight in kilograms  \\\n",
       "0            2919.0    0.0            64.176851                      3.000   \n",
       "1            2213.0    0.0            64.176851                      2.400   \n",
       "2            3041.0    0.0            64.176851                      9.996   \n",
       "3            2566.0    0.0            64.176851                      3.000   \n",
       "4            5255.0    0.0            64.176851                      2.200   \n",
       "...             ...    ...                  ...                        ...   \n",
       "28474        1807.0    0.0            64.176851                      2.800   \n",
       "28475        1807.0    0.0            64.176851                      2.500   \n",
       "28476        2178.0    0.0            64.176851                      2.500   \n",
       "28477        2627.0    0.0            64.176851                      4.200   \n",
       "28478        2627.0    0.0            64.176851                      2.200   \n",
       "\n",
       "       ...  Sex of child_nan  Size of child at birth_Average  \\\n",
       "0      ...               0.0                             1.0   \n",
       "1      ...               0.0                             1.0   \n",
       "2      ...               0.0                             1.0   \n",
       "3      ...               0.0                             1.0   \n",
       "4      ...               0.0                             0.0   \n",
       "...    ...               ...                             ...   \n",
       "28474  ...               0.0                             0.0   \n",
       "28475  ...               0.0                             1.0   \n",
       "28476  ...               0.0                             0.0   \n",
       "28477  ...               0.0                             1.0   \n",
       "28478  ...               0.0                             1.0   \n",
       "\n",
       "       Size of child at birth_Larger than Average  \\\n",
       "0                                             0.0   \n",
       "1                                             0.0   \n",
       "2                                             0.0   \n",
       "3                                             0.0   \n",
       "4                                             1.0   \n",
       "...                                           ...   \n",
       "28474                                         0.0   \n",
       "28475                                         0.0   \n",
       "28476                                         0.0   \n",
       "28477                                         0.0   \n",
       "28478                                         0.0   \n",
       "\n",
       "       Size of child at birth_Smaller than Average  \\\n",
       "0                                              0.0   \n",
       "1                                              0.0   \n",
       "2                                              0.0   \n",
       "3                                              0.0   \n",
       "4                                              0.0   \n",
       "...                                            ...   \n",
       "28474                                          1.0   \n",
       "28475                                          0.0   \n",
       "28476                                          1.0   \n",
       "28477                                          0.0   \n",
       "28478                                          0.0   \n",
       "\n",
       "       Size of child at birth_Very Large  Size of child at birth_Very Small  \\\n",
       "0                                    0.0                                0.0   \n",
       "1                                    0.0                                0.0   \n",
       "2                                    0.0                                0.0   \n",
       "3                                    0.0                                0.0   \n",
       "4                                    0.0                                0.0   \n",
       "...                                  ...                                ...   \n",
       "28474                                0.0                                0.0   \n",
       "28475                                0.0                                0.0   \n",
       "28476                                0.0                                0.0   \n",
       "28477                                0.0                                0.0   \n",
       "28478                                0.0                                0.0   \n",
       "\n",
       "       Size of child at birth_nan  \\\n",
       "0                             0.0   \n",
       "1                             0.0   \n",
       "2                             0.0   \n",
       "3                             0.0   \n",
       "4                             0.0   \n",
       "...                           ...   \n",
       "28474                         0.0   \n",
       "28475                         0.0   \n",
       "28476                         0.0   \n",
       "28477                         0.0   \n",
       "28478                         0.0   \n",
       "\n",
       "       Given child anything other than breast milk_No  \\\n",
       "0                                                 1.0   \n",
       "1                                                 1.0   \n",
       "2                                                 1.0   \n",
       "3                                                 1.0   \n",
       "4                                                 1.0   \n",
       "...                                               ...   \n",
       "28474                                             1.0   \n",
       "28475                                             1.0   \n",
       "28476                                             1.0   \n",
       "28477                                             1.0   \n",
       "28478                                             1.0   \n",
       "\n",
       "       Given child anything other than breast milk_Yes  \\\n",
       "0                                                  0.0   \n",
       "1                                                  0.0   \n",
       "2                                                  0.0   \n",
       "3                                                  0.0   \n",
       "4                                                  0.0   \n",
       "...                                                ...   \n",
       "28474                                              0.0   \n",
       "28475                                              0.0   \n",
       "28476                                              0.0   \n",
       "28477                                              0.0   \n",
       "28478                                              0.0   \n",
       "\n",
       "       Given child anything other than breast milk_nan  \n",
       "0                                                  0.0  \n",
       "1                                                  0.0  \n",
       "2                                                  0.0  \n",
       "3                                                  0.0  \n",
       "4                                                  0.0  \n",
       "...                                                ...  \n",
       "28474                                              0.0  \n",
       "28475                                              0.0  \n",
       "28476                                              0.0  \n",
       "28477                                              0.0  \n",
       "28478                                              0.0  \n",
       "\n",
       "[25885 rows x 76 columns]"
      ]
     },
     "execution_count": 119,
     "metadata": {},
     "output_type": "execute_result"
    }
   ],
   "source": [
    "df"
   ]
  },
  {
   "cell_type": "code",
   "execution_count": 118,
   "id": "c3b55155-134b-49b7-b818-77964cdcdfc7",
   "metadata": {},
   "outputs": [
    {
     "name": "stdout",
     "output_type": "stream",
     "text": [
      "Type of place of residence                                                       0\n",
      "Number of household members                                                      0\n",
      "Wealth index factor score combined                                               0\n",
      "Wealth index factor score for urban/rural                                        0\n",
      "Mother's weight in kilograms                                                     0\n",
      "Mother's height in centimeters                                                   0\n",
      "Mother's BMI                                                                     0\n",
      "v463f                                                                            0\n",
      "Father's occupation                                                              0\n",
      "Birth weight in kilograms                                                        0\n",
      "Childs's age in months                                                           0\n",
      "Childs's weight in kilograms                                                     0\n",
      "Childs's height in centimeters                                                   0\n",
      "Child's Height/Age standard deviation                                            0\n",
      "Childs's Weight/Age standard deviation                                           0\n",
      "Childs's Weight/Height standard deviation                                        0\n",
      "Childs's BMI standard deviation (new WHO)                                        0\n",
      "Dietary Index                                                                    0\n",
      "Source of drinking water_92                                                      0\n",
      "Source of drinking water_96                                                      0\n",
      "Source of drinking water_97                                                      0\n",
      "Source of drinking water_Bottled water                                           0\n",
      "Source of drinking water_Cart with small tank                                    0\n",
      "Source of drinking water_Piped into dwelling                                     0\n",
      "Source of drinking water_Piped to neighbor                                       0\n",
      "Source of drinking water_Piped to yard/plot                                      0\n",
      "Source of drinking water_Protected Spring                                        0\n",
      "Source of drinking water_Protected well                                          0\n",
      "Source of drinking water_Public tap/standpipe                                    0\n",
      "Source of drinking water_Rainwater                                               0\n",
      "Source of drinking water_River/lake/dam/ponds/stream/canal/irrigation channel    0\n",
      "Source of drinking water_Tanker truck                                            0\n",
      "Source of drinking water_Tubewell/ borehole                                      0\n",
      "Source of drinking water_Unprotected Spring                                      0\n",
      "Source of drinking water_Unprotected well                                        0\n",
      "Toilet facilities shared with other households_No                                0\n",
      "Toilet facilities shared with other households_Not Dejure                        0\n",
      "Toilet facilities shared with other households_Yes                               0\n",
      "Toilet facilities shared with other households_nan                               0\n",
      "Currently breastfeeding_No                                                       0\n",
      "Currently breastfeeding_Yes                                                      0\n",
      "Currently breastfeeding_nan                                                      0\n",
      "Mother's Under age 18 at time of birth_Age 18 or Older                           0\n",
      "Mother's Under age 18 at time of birth_Under age 18                              0\n",
      "Mother's Under age 18 at time of birth_nan                                       0\n",
      "Mother Smokes pipe full of tobacco_No                                            0\n",
      "Mother Smokes pipe full of tobacco_Yes                                           0\n",
      "Mother Smokes pipe full of tobacco_nan                                           0\n",
      "Mother Chews tobacco_No                                                          0\n",
      "Mother Chews tobacco_Yes                                                         0\n",
      "Mother Chews tobacco_nan                                                         0\n",
      "Mother Snuffs by nose_No                                                         0\n",
      "Mother Snuffs by nose_Yes                                                        0\n",
      "Mother Snuffs by nose_nan                                                        0\n",
      "Frequency of mother smokes cigarettes_Does not smoke                             0\n",
      "Frequency of mother smokes cigarettes_Everyday                                   0\n",
      "Frequency of mother smokes cigarettes_Someday                                    0\n",
      "Frequency of mother smokes cigarettes_nan                                        0\n",
      "Father's educational attainment_Complete Secondary                               0\n",
      "Father's educational attainment_Higher                                           0\n",
      "Father's educational attainment_Incomplete Primary                               0\n",
      "Father's educational attainment_Incomplete Secondary                             0\n",
      "Father's educational attainment_No education                                     0\n",
      "Father's educational attainment_nan                                              0\n",
      "Sex of child_Female                                                              0\n",
      "Sex of child_Male                                                                0\n",
      "Sex of child_nan                                                                 0\n",
      "Size of child at birth_Average                                                   0\n",
      "Size of child at birth_Larger than Average                                       0\n",
      "Size of child at birth_Smaller than Average                                      0\n",
      "Size of child at birth_Very Large                                                0\n",
      "Size of child at birth_Very Small                                                0\n",
      "Size of child at birth_nan                                                       0\n",
      "Given child anything other than breast milk_No                                   0\n",
      "Given child anything other than breast milk_Yes                                  0\n",
      "Given child anything other than breast milk_nan                                  0\n",
      "dtype: int64\n"
     ]
    }
   ],
   "source": [
    "pd.set_option('display.max_rows', None)  # Show all rows\n",
    "pd.set_option('display.max_columns', None)  # Show all columns\n",
    "\n",
    "print(df.isnull().sum())\n",
    "\n",
    "pd.reset_option('display.max_rows')\n",
    "pd.reset_option('display.max_columns')"
   ]
  },
  {
   "cell_type": "code",
   "execution_count": null,
   "id": "41354bdf-1bdc-4abc-bf59-0f0be14acf24",
   "metadata": {},
   "outputs": [],
   "source": []
  },
  {
   "cell_type": "code",
   "execution_count": null,
   "id": "b8340c98-fca2-4a7f-8694-d7ebd1b3404c",
   "metadata": {},
   "outputs": [],
   "source": [
    "# Model"
   ]
  },
  {
   "cell_type": "code",
   "execution_count": 121,
   "id": "4ed4330e-2d3a-4519-9e21-24838aab2adb",
   "metadata": {},
   "outputs": [
    {
     "name": "stdout",
     "output_type": "stream",
     "text": [
      "Requirement already satisfied: pytorch_tabular in /Users/nimisha/miniconda3/envs/myenv/lib/python3.8/site-packages (1.0.2)\n",
      "Requirement already satisfied: torch>=1.9.0 in /Users/nimisha/miniconda3/envs/myenv/lib/python3.8/site-packages (from pytorch_tabular) (1.13.1)\n",
      "Requirement already satisfied: category-encoders<2.7.0,>=2.6.0 in /Users/nimisha/miniconda3/envs/myenv/lib/python3.8/site-packages (from pytorch_tabular) (2.6.3)\n",
      "Requirement already satisfied: numpy>=1.17.2 in /Users/nimisha/miniconda3/envs/myenv/lib/python3.8/site-packages (from pytorch_tabular) (1.24.3)\n",
      "Requirement already satisfied: pandas>=1.1.5 in /Users/nimisha/miniconda3/envs/myenv/lib/python3.8/site-packages (from pytorch_tabular) (2.0.3)\n",
      "Requirement already satisfied: scikit-learn>=1.0.0 in /Users/nimisha/miniconda3/envs/myenv/lib/python3.8/site-packages (from pytorch_tabular) (1.3.2)\n",
      "Requirement already satisfied: pytorch-lightning<2.0.0,>=1.8.0 in /Users/nimisha/miniconda3/envs/myenv/lib/python3.8/site-packages (from pytorch_tabular) (1.9.5)\n",
      "Requirement already satisfied: omegaconf>=2.1.0 in /Users/nimisha/miniconda3/envs/myenv/lib/python3.8/site-packages (from pytorch_tabular) (2.3.0)\n",
      "Requirement already satisfied: torchmetrics<0.12.0,>=0.10.0 in /Users/nimisha/miniconda3/envs/myenv/lib/python3.8/site-packages (from pytorch_tabular) (0.11.4)\n",
      "Requirement already satisfied: tensorboard!=2.5.0,>2.2.0 in /Users/nimisha/miniconda3/envs/myenv/lib/python3.8/site-packages (from pytorch_tabular) (2.14.0)\n",
      "Requirement already satisfied: protobuf<4.23.0,>=3.20.0 in /Users/nimisha/miniconda3/envs/myenv/lib/python3.8/site-packages (from pytorch_tabular) (4.22.5)\n",
      "Requirement already satisfied: pytorch-tabnet==4.0 in /Users/nimisha/miniconda3/envs/myenv/lib/python3.8/site-packages (from pytorch_tabular) (4.0)\n",
      "Requirement already satisfied: PyYAML<6.1.0,>=5.4 in /Users/nimisha/miniconda3/envs/myenv/lib/python3.8/site-packages (from pytorch_tabular) (6.0.1)\n",
      "Requirement already satisfied: matplotlib>3.1 in /Users/nimisha/miniconda3/envs/myenv/lib/python3.8/site-packages (from pytorch_tabular) (3.7.4)\n",
      "Requirement already satisfied: ipywidgets in /Users/nimisha/miniconda3/envs/myenv/lib/python3.8/site-packages (from pytorch_tabular) (8.1.1)\n",
      "Requirement already satisfied: einops<0.7.0,>=0.6.0 in /Users/nimisha/miniconda3/envs/myenv/lib/python3.8/site-packages (from pytorch_tabular) (0.6.1)\n",
      "Requirement already satisfied: rich>=11.0.0 in /Users/nimisha/miniconda3/envs/myenv/lib/python3.8/site-packages (from pytorch_tabular) (13.7.0)\n",
      "Requirement already satisfied: scipy>1.4 in /Users/nimisha/miniconda3/envs/myenv/lib/python3.8/site-packages (from pytorch-tabnet==4.0->pytorch_tabular) (1.10.1)\n",
      "Requirement already satisfied: tqdm<5.0,>=4.36 in /Users/nimisha/miniconda3/envs/myenv/lib/python3.8/site-packages (from pytorch-tabnet==4.0->pytorch_tabular) (4.66.1)\n",
      "Requirement already satisfied: statsmodels>=0.9.0 in /Users/nimisha/miniconda3/envs/myenv/lib/python3.8/site-packages (from category-encoders<2.7.0,>=2.6.0->pytorch_tabular) (0.14.1)\n",
      "Requirement already satisfied: patsy>=0.5.1 in /Users/nimisha/miniconda3/envs/myenv/lib/python3.8/site-packages (from category-encoders<2.7.0,>=2.6.0->pytorch_tabular) (0.5.5)\n",
      "Requirement already satisfied: importlib-resources in /Users/nimisha/miniconda3/envs/myenv/lib/python3.8/site-packages (from category-encoders<2.7.0,>=2.6.0->pytorch_tabular) (6.1.1)\n",
      "Requirement already satisfied: contourpy>=1.0.1 in /Users/nimisha/miniconda3/envs/myenv/lib/python3.8/site-packages (from matplotlib>3.1->pytorch_tabular) (1.1.1)\n",
      "Requirement already satisfied: cycler>=0.10 in /Users/nimisha/miniconda3/envs/myenv/lib/python3.8/site-packages (from matplotlib>3.1->pytorch_tabular) (0.12.1)\n",
      "Requirement already satisfied: fonttools>=4.22.0 in /Users/nimisha/miniconda3/envs/myenv/lib/python3.8/site-packages (from matplotlib>3.1->pytorch_tabular) (4.47.0)\n",
      "Requirement already satisfied: kiwisolver>=1.0.1 in /Users/nimisha/miniconda3/envs/myenv/lib/python3.8/site-packages (from matplotlib>3.1->pytorch_tabular) (1.4.5)\n",
      "Requirement already satisfied: packaging>=20.0 in /Users/nimisha/miniconda3/envs/myenv/lib/python3.8/site-packages (from matplotlib>3.1->pytorch_tabular) (23.2)\n",
      "Requirement already satisfied: pillow>=6.2.0 in /Users/nimisha/miniconda3/envs/myenv/lib/python3.8/site-packages (from matplotlib>3.1->pytorch_tabular) (10.0.1)\n",
      "Requirement already satisfied: pyparsing>=2.3.1 in /Users/nimisha/miniconda3/envs/myenv/lib/python3.8/site-packages (from matplotlib>3.1->pytorch_tabular) (3.1.1)\n",
      "Requirement already satisfied: python-dateutil>=2.7 in /Users/nimisha/miniconda3/envs/myenv/lib/python3.8/site-packages (from matplotlib>3.1->pytorch_tabular) (2.8.2)\n",
      "Requirement already satisfied: antlr4-python3-runtime==4.9.* in /Users/nimisha/miniconda3/envs/myenv/lib/python3.8/site-packages (from omegaconf>=2.1.0->pytorch_tabular) (4.9.3)\n",
      "Requirement already satisfied: pytz>=2020.1 in /Users/nimisha/miniconda3/envs/myenv/lib/python3.8/site-packages (from pandas>=1.1.5->pytorch_tabular) (2023.3.post1)\n",
      "Requirement already satisfied: tzdata>=2022.1 in /Users/nimisha/miniconda3/envs/myenv/lib/python3.8/site-packages (from pandas>=1.1.5->pytorch_tabular) (2023.4)\n",
      "Requirement already satisfied: fsspec>2021.06.0 in /Users/nimisha/miniconda3/envs/myenv/lib/python3.8/site-packages (from fsspec[http]>2021.06.0->pytorch-lightning<2.0.0,>=1.8.0->pytorch_tabular) (2023.12.2)\n",
      "Requirement already satisfied: typing-extensions>=4.0.0 in /Users/nimisha/miniconda3/envs/myenv/lib/python3.8/site-packages (from pytorch-lightning<2.0.0,>=1.8.0->pytorch_tabular) (4.7.1)\n",
      "Requirement already satisfied: lightning-utilities>=0.6.0.post0 in /Users/nimisha/miniconda3/envs/myenv/lib/python3.8/site-packages (from pytorch-lightning<2.0.0,>=1.8.0->pytorch_tabular) (0.10.0)\n",
      "Requirement already satisfied: markdown-it-py>=2.2.0 in /Users/nimisha/miniconda3/envs/myenv/lib/python3.8/site-packages (from rich>=11.0.0->pytorch_tabular) (3.0.0)\n",
      "Requirement already satisfied: pygments<3.0.0,>=2.13.0 in /Users/nimisha/miniconda3/envs/myenv/lib/python3.8/site-packages (from rich>=11.0.0->pytorch_tabular) (2.17.2)\n",
      "Requirement already satisfied: joblib>=1.1.1 in /Users/nimisha/miniconda3/envs/myenv/lib/python3.8/site-packages (from scikit-learn>=1.0.0->pytorch_tabular) (1.3.2)\n",
      "Requirement already satisfied: threadpoolctl>=2.0.0 in /Users/nimisha/miniconda3/envs/myenv/lib/python3.8/site-packages (from scikit-learn>=1.0.0->pytorch_tabular) (3.2.0)\n",
      "Requirement already satisfied: absl-py>=0.4 in /Users/nimisha/miniconda3/envs/myenv/lib/python3.8/site-packages (from tensorboard!=2.5.0,>2.2.0->pytorch_tabular) (2.0.0)\n",
      "Requirement already satisfied: grpcio>=1.48.2 in /Users/nimisha/miniconda3/envs/myenv/lib/python3.8/site-packages (from tensorboard!=2.5.0,>2.2.0->pytorch_tabular) (1.60.0)\n",
      "Requirement already satisfied: google-auth<3,>=1.6.3 in /Users/nimisha/miniconda3/envs/myenv/lib/python3.8/site-packages (from tensorboard!=2.5.0,>2.2.0->pytorch_tabular) (2.25.2)\n",
      "Requirement already satisfied: google-auth-oauthlib<1.1,>=0.5 in /Users/nimisha/miniconda3/envs/myenv/lib/python3.8/site-packages (from tensorboard!=2.5.0,>2.2.0->pytorch_tabular) (1.0.0)\n",
      "Requirement already satisfied: markdown>=2.6.8 in /Users/nimisha/miniconda3/envs/myenv/lib/python3.8/site-packages (from tensorboard!=2.5.0,>2.2.0->pytorch_tabular) (3.5.1)\n",
      "Requirement already satisfied: requests<3,>=2.21.0 in /Users/nimisha/miniconda3/envs/myenv/lib/python3.8/site-packages (from tensorboard!=2.5.0,>2.2.0->pytorch_tabular) (2.31.0)\n",
      "Requirement already satisfied: setuptools>=41.0.0 in /Users/nimisha/miniconda3/envs/myenv/lib/python3.8/site-packages (from tensorboard!=2.5.0,>2.2.0->pytorch_tabular) (68.2.2)\n",
      "Requirement already satisfied: tensorboard-data-server<0.8.0,>=0.7.0 in /Users/nimisha/miniconda3/envs/myenv/lib/python3.8/site-packages (from tensorboard!=2.5.0,>2.2.0->pytorch_tabular) (0.7.2)\n",
      "Requirement already satisfied: werkzeug>=1.0.1 in /Users/nimisha/miniconda3/envs/myenv/lib/python3.8/site-packages (from tensorboard!=2.5.0,>2.2.0->pytorch_tabular) (3.0.1)\n",
      "Requirement already satisfied: wheel>=0.26 in /Users/nimisha/miniconda3/envs/myenv/lib/python3.8/site-packages (from tensorboard!=2.5.0,>2.2.0->pytorch_tabular) (0.41.2)\n",
      "Requirement already satisfied: comm>=0.1.3 in /Users/nimisha/miniconda3/envs/myenv/lib/python3.8/site-packages (from ipywidgets->pytorch_tabular) (0.1.4)\n",
      "Requirement already satisfied: ipython>=6.1.0 in /Users/nimisha/miniconda3/envs/myenv/lib/python3.8/site-packages (from ipywidgets->pytorch_tabular) (8.12.2)\n",
      "Requirement already satisfied: traitlets>=4.3.1 in /Users/nimisha/miniconda3/envs/myenv/lib/python3.8/site-packages (from ipywidgets->pytorch_tabular) (5.14.0)\n",
      "Requirement already satisfied: widgetsnbextension~=4.0.9 in /Users/nimisha/miniconda3/envs/myenv/lib/python3.8/site-packages (from ipywidgets->pytorch_tabular) (4.0.9)\n",
      "Requirement already satisfied: jupyterlab-widgets~=3.0.9 in /Users/nimisha/miniconda3/envs/myenv/lib/python3.8/site-packages (from ipywidgets->pytorch_tabular) (3.0.9)\n",
      "Requirement already satisfied: aiohttp!=4.0.0a0,!=4.0.0a1 in /Users/nimisha/miniconda3/envs/myenv/lib/python3.8/site-packages (from fsspec[http]>2021.06.0->pytorch-lightning<2.0.0,>=1.8.0->pytorch_tabular) (3.9.1)\n",
      "Requirement already satisfied: cachetools<6.0,>=2.0.0 in /Users/nimisha/miniconda3/envs/myenv/lib/python3.8/site-packages (from google-auth<3,>=1.6.3->tensorboard!=2.5.0,>2.2.0->pytorch_tabular) (5.3.2)\n",
      "Requirement already satisfied: pyasn1-modules>=0.2.1 in /Users/nimisha/miniconda3/envs/myenv/lib/python3.8/site-packages (from google-auth<3,>=1.6.3->tensorboard!=2.5.0,>2.2.0->pytorch_tabular) (0.3.0)\n",
      "Requirement already satisfied: rsa<5,>=3.1.4 in /Users/nimisha/miniconda3/envs/myenv/lib/python3.8/site-packages (from google-auth<3,>=1.6.3->tensorboard!=2.5.0,>2.2.0->pytorch_tabular) (4.9)\n",
      "Requirement already satisfied: requests-oauthlib>=0.7.0 in /Users/nimisha/miniconda3/envs/myenv/lib/python3.8/site-packages (from google-auth-oauthlib<1.1,>=0.5->tensorboard!=2.5.0,>2.2.0->pytorch_tabular) (1.3.1)\n",
      "Requirement already satisfied: zipp>=3.1.0 in /Users/nimisha/miniconda3/envs/myenv/lib/python3.8/site-packages (from importlib-resources->category-encoders<2.7.0,>=2.6.0->pytorch_tabular) (3.17.0)\n",
      "Requirement already satisfied: backcall in /Users/nimisha/miniconda3/envs/myenv/lib/python3.8/site-packages (from ipython>=6.1.0->ipywidgets->pytorch_tabular) (0.2.0)\n",
      "Requirement already satisfied: decorator in /Users/nimisha/miniconda3/envs/myenv/lib/python3.8/site-packages (from ipython>=6.1.0->ipywidgets->pytorch_tabular) (5.1.1)\n",
      "Requirement already satisfied: jedi>=0.16 in /Users/nimisha/miniconda3/envs/myenv/lib/python3.8/site-packages (from ipython>=6.1.0->ipywidgets->pytorch_tabular) (0.19.1)\n",
      "Requirement already satisfied: matplotlib-inline in /Users/nimisha/miniconda3/envs/myenv/lib/python3.8/site-packages (from ipython>=6.1.0->ipywidgets->pytorch_tabular) (0.1.6)\n",
      "Requirement already satisfied: pickleshare in /Users/nimisha/miniconda3/envs/myenv/lib/python3.8/site-packages (from ipython>=6.1.0->ipywidgets->pytorch_tabular) (0.7.5)\n",
      "Requirement already satisfied: prompt-toolkit!=3.0.37,<3.1.0,>=3.0.30 in /Users/nimisha/miniconda3/envs/myenv/lib/python3.8/site-packages (from ipython>=6.1.0->ipywidgets->pytorch_tabular) (3.0.42)\n",
      "Requirement already satisfied: stack-data in /Users/nimisha/miniconda3/envs/myenv/lib/python3.8/site-packages (from ipython>=6.1.0->ipywidgets->pytorch_tabular) (0.6.2)\n",
      "Requirement already satisfied: pexpect>4.3 in /Users/nimisha/miniconda3/envs/myenv/lib/python3.8/site-packages (from ipython>=6.1.0->ipywidgets->pytorch_tabular) (4.8.0)\n",
      "Requirement already satisfied: appnope in /Users/nimisha/miniconda3/envs/myenv/lib/python3.8/site-packages (from ipython>=6.1.0->ipywidgets->pytorch_tabular) (0.1.3)\n",
      "Requirement already satisfied: importlib-metadata>=4.4 in /Users/nimisha/miniconda3/envs/myenv/lib/python3.8/site-packages (from markdown>=2.6.8->tensorboard!=2.5.0,>2.2.0->pytorch_tabular) (7.0.1)\n",
      "Requirement already satisfied: mdurl~=0.1 in /Users/nimisha/miniconda3/envs/myenv/lib/python3.8/site-packages (from markdown-it-py>=2.2.0->rich>=11.0.0->pytorch_tabular) (0.1.2)\n",
      "Requirement already satisfied: six in /Users/nimisha/miniconda3/envs/myenv/lib/python3.8/site-packages (from patsy>=0.5.1->category-encoders<2.7.0,>=2.6.0->pytorch_tabular) (1.16.0)\n",
      "Requirement already satisfied: charset-normalizer<4,>=2 in /Users/nimisha/miniconda3/envs/myenv/lib/python3.8/site-packages (from requests<3,>=2.21.0->tensorboard!=2.5.0,>2.2.0->pytorch_tabular) (2.0.4)\n",
      "Requirement already satisfied: idna<4,>=2.5 in /Users/nimisha/miniconda3/envs/myenv/lib/python3.8/site-packages (from requests<3,>=2.21.0->tensorboard!=2.5.0,>2.2.0->pytorch_tabular) (3.4)\n",
      "Requirement already satisfied: urllib3<3,>=1.21.1 in /Users/nimisha/miniconda3/envs/myenv/lib/python3.8/site-packages (from requests<3,>=2.21.0->tensorboard!=2.5.0,>2.2.0->pytorch_tabular) (1.26.18)\n",
      "Requirement already satisfied: certifi>=2017.4.17 in /Users/nimisha/miniconda3/envs/myenv/lib/python3.8/site-packages (from requests<3,>=2.21.0->tensorboard!=2.5.0,>2.2.0->pytorch_tabular) (2023.11.17)\n",
      "Requirement already satisfied: MarkupSafe>=2.1.1 in /Users/nimisha/miniconda3/envs/myenv/lib/python3.8/site-packages (from werkzeug>=1.0.1->tensorboard!=2.5.0,>2.2.0->pytorch_tabular) (2.1.1)\n",
      "Requirement already satisfied: attrs>=17.3.0 in /Users/nimisha/miniconda3/envs/myenv/lib/python3.8/site-packages (from aiohttp!=4.0.0a0,!=4.0.0a1->fsspec[http]>2021.06.0->pytorch-lightning<2.0.0,>=1.8.0->pytorch_tabular) (23.1.0)\n",
      "Requirement already satisfied: multidict<7.0,>=4.5 in /Users/nimisha/miniconda3/envs/myenv/lib/python3.8/site-packages (from aiohttp!=4.0.0a0,!=4.0.0a1->fsspec[http]>2021.06.0->pytorch-lightning<2.0.0,>=1.8.0->pytorch_tabular) (6.0.4)\n",
      "Requirement already satisfied: yarl<2.0,>=1.0 in /Users/nimisha/miniconda3/envs/myenv/lib/python3.8/site-packages (from aiohttp!=4.0.0a0,!=4.0.0a1->fsspec[http]>2021.06.0->pytorch-lightning<2.0.0,>=1.8.0->pytorch_tabular) (1.9.4)\n",
      "Requirement already satisfied: frozenlist>=1.1.1 in /Users/nimisha/miniconda3/envs/myenv/lib/python3.8/site-packages (from aiohttp!=4.0.0a0,!=4.0.0a1->fsspec[http]>2021.06.0->pytorch-lightning<2.0.0,>=1.8.0->pytorch_tabular) (1.4.1)\n",
      "Requirement already satisfied: aiosignal>=1.1.2 in /Users/nimisha/miniconda3/envs/myenv/lib/python3.8/site-packages (from aiohttp!=4.0.0a0,!=4.0.0a1->fsspec[http]>2021.06.0->pytorch-lightning<2.0.0,>=1.8.0->pytorch_tabular) (1.3.1)\n",
      "Requirement already satisfied: async-timeout<5.0,>=4.0 in /Users/nimisha/miniconda3/envs/myenv/lib/python3.8/site-packages (from aiohttp!=4.0.0a0,!=4.0.0a1->fsspec[http]>2021.06.0->pytorch-lightning<2.0.0,>=1.8.0->pytorch_tabular) (4.0.3)\n",
      "Requirement already satisfied: parso<0.9.0,>=0.8.3 in /Users/nimisha/miniconda3/envs/myenv/lib/python3.8/site-packages (from jedi>=0.16->ipython>=6.1.0->ipywidgets->pytorch_tabular) (0.8.3)\n",
      "Requirement already satisfied: ptyprocess>=0.5 in /Users/nimisha/miniconda3/envs/myenv/lib/python3.8/site-packages (from pexpect>4.3->ipython>=6.1.0->ipywidgets->pytorch_tabular) (0.7.0)\n",
      "Requirement already satisfied: wcwidth in /Users/nimisha/miniconda3/envs/myenv/lib/python3.8/site-packages (from prompt-toolkit!=3.0.37,<3.1.0,>=3.0.30->ipython>=6.1.0->ipywidgets->pytorch_tabular) (0.2.12)\n",
      "Requirement already satisfied: pyasn1<0.6.0,>=0.4.6 in /Users/nimisha/miniconda3/envs/myenv/lib/python3.8/site-packages (from pyasn1-modules>=0.2.1->google-auth<3,>=1.6.3->tensorboard!=2.5.0,>2.2.0->pytorch_tabular) (0.5.1)\n",
      "Requirement already satisfied: oauthlib>=3.0.0 in /Users/nimisha/miniconda3/envs/myenv/lib/python3.8/site-packages (from requests-oauthlib>=0.7.0->google-auth-oauthlib<1.1,>=0.5->tensorboard!=2.5.0,>2.2.0->pytorch_tabular) (3.2.2)\n",
      "Requirement already satisfied: executing>=1.2.0 in /Users/nimisha/miniconda3/envs/myenv/lib/python3.8/site-packages (from stack-data->ipython>=6.1.0->ipywidgets->pytorch_tabular) (2.0.1)\n",
      "Requirement already satisfied: asttokens>=2.1.0 in /Users/nimisha/miniconda3/envs/myenv/lib/python3.8/site-packages (from stack-data->ipython>=6.1.0->ipywidgets->pytorch_tabular) (2.4.1)\n",
      "Requirement already satisfied: pure-eval in /Users/nimisha/miniconda3/envs/myenv/lib/python3.8/site-packages (from stack-data->ipython>=6.1.0->ipywidgets->pytorch_tabular) (0.2.2)\n"
     ]
    }
   ],
   "source": [
    "!pip install pytorch_tabular"
   ]
  },
  {
   "cell_type": "code",
   "execution_count": null,
   "id": "33bd0c7d-df1c-44c3-9e59-7c94a772dc24",
   "metadata": {},
   "outputs": [],
   "source": [
    "df["
   ]
  },
  {
   "cell_type": "code",
   "execution_count": null,
   "id": "e940c752-51bd-446c-93a2-96bd48ab6e7b",
   "metadata": {},
   "outputs": [],
   "source": []
  },
  {
   "cell_type": "code",
   "execution_count": null,
   "id": "51345828-8308-430c-86ff-9744ac544c96",
   "metadata": {},
   "outputs": [],
   "source": []
  },
  {
   "cell_type": "code",
   "execution_count": null,
   "id": "67d874b5-b9e5-458c-9470-170208ecfb76",
   "metadata": {},
   "outputs": [],
   "source": []
  },
  {
   "cell_type": "code",
   "execution_count": null,
   "id": "fc959968-3a33-4cab-a7a9-fc74250fd432",
   "metadata": {},
   "outputs": [],
   "source": []
  }
 ],
 "metadata": {
  "kernelspec": {
   "display_name": "Python 3 (ipykernel)",
   "language": "python",
   "name": "python3"
  },
  "language_info": {
   "codemirror_mode": {
    "name": "ipython",
    "version": 3
   },
   "file_extension": ".py",
   "mimetype": "text/x-python",
   "name": "python",
   "nbconvert_exporter": "python",
   "pygments_lexer": "ipython3",
   "version": "3.9.13"
  }
 },
 "nbformat": 4,
 "nbformat_minor": 5
}
